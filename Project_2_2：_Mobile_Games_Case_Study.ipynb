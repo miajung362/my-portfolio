{
  "nbformat": 4,
  "nbformat_minor": 0,
  "metadata": {
    "kernelspec": {
      "display_name": "Python 3",
      "language": "python",
      "name": "python3"
    },
    "language_info": {
      "codemirror_mode": {
        "name": "ipython",
        "version": 3
      },
      "file_extension": ".py",
      "mimetype": "text/x-python",
      "name": "python",
      "nbconvert_exporter": "python",
      "pygments_lexer": "ipython3",
      "version": "3.6.5"
    },
    "colab": {
      "provenance": [],
      "collapsed_sections": [
        "2UWvJgLYW9RW",
        "DBw4G7dG6kOc",
        "KqN98iXS6e-m"
      ]
    }
  },
  "cells": [
    {
      "cell_type": "markdown",
      "metadata": {
        "id": "CIVb9rk8P3yb"
      },
      "source": [
        "# <center>Mobile Games: A/B Testing & Player Retention </center>\n",
        "\n",
        "## Table of Contents\n",
        "\n",
        "1. **[Project Background](#1)**\n",
        "2. **[About the Data](#2)**\n",
        "3. **[Analyzing Player Behavior ](#3)**\n",
        "4. **[Comparing 1-day Retention](#4)**\n",
        "5. **[Comparing 7-day Retention](#5)**\n",
        "6. **[Conclusion](#6)**"
      ]
    },
    {
      "cell_type": "markdown",
      "metadata": {
        "id": "9v0f39n0P3yf"
      },
      "source": [
        "## Part 1. Project Background <a name= '1'></a>"
      ]
    },
    {
      "cell_type": "markdown",
      "metadata": {
        "id": "1PPEPs7lP3yg"
      },
      "source": [
        "<p><a href=\"https://www.facebook.com/cookiecatsgame\">Cookie Cats</a> is a hugely popular mobile puzzle game developed by <a href=\"http://tactile.dk\">Tactile Entertainment</a>. It's a classic \"connect three\"-style puzzle game where the player must connect tiles of the same color to clear the board and win the level. It also features singing cats. Check out this short demo:</p>\n",
        "<p><a href=\"https://youtu.be/GaP5f0jVTWE\"><img src=\"https://s3.amazonaws.com/assets.datacamp.com/production/project_184/img/cookie_cats_video.jpeg\" style=\"width: 500px\"></a></p>\n",
        "<p>As players progress through the levels of the game, they will <strong>occasionally encounter gates that force them to wait a non-trivial amount of time or make an in-app purchase to progress</strong>. In addition to driving in-app purchases, these gates serve the important purpose of giving players an enforced break from playing the game, hopefully resulting in that the player's enjoyment of the game being increased and prolonged.<p>But where should the gates be placed? Initially the first gate was placed at level 30. <strong>In this project, we're going to analyze an AB-test where we moved the first gate in Cookie Cats from level 30 to level 40. In particular, we will look at the impact on player retention.</strong> </p>\n",
        "<p><img src=\"https://s3.amazonaws.com/assets.datacamp.com/production/project_184/img/cc_gates.png\" alt=\"\"></p>"
      ]
    },
    {
      "cell_type": "markdown",
      "metadata": {
        "id": "iEznUSoXP3yh"
      },
      "source": [
        "## Part 2. About the Data  <a name= '2'></a>"
      ]
    },
    {
      "cell_type": "markdown",
      "metadata": {
        "id": "1qshvW_LP3yi"
      },
      "source": [
        "### 2.1 Load the AB-test data"
      ]
    },
    {
      "cell_type": "code",
      "metadata": {
        "id": "P3IiV7hvP3yi",
        "outputId": "a8058a98-e396-4252-ac16-63fa6b37c65a",
        "colab": {
          "base_uri": "https://localhost:8080/",
          "height": 204
        }
      },
      "source": [
        "import pandas as pd\n",
        "import numpy as np\n",
        "import seaborn as sns\n",
        "import matplotlib.pyplot as plt\n",
        "\n",
        "%matplotlib inline\n",
        "\n",
        "df = pd.read_excel('cookie_cats.xlsx')\n",
        "df.head()"
      ],
      "execution_count": 1,
      "outputs": [
        {
          "output_type": "execute_result",
          "data": {
            "text/plain": [
              "   userid  version  sum_gamerounds  retention_1  retention_7\n",
              "0     116  gate_30               3        False        False\n",
              "1     337  gate_30              38         True        False\n",
              "2     377  gate_40             165         True        False\n",
              "3     483  gate_40               1        False        False\n",
              "4     488  gate_40             179         True         True"
            ],
            "text/html": [
              "\n",
              "  <div id=\"df-a2507a23-9636-4d61-8891-b5595226bd14\" class=\"colab-df-container\">\n",
              "    <div>\n",
              "<style scoped>\n",
              "    .dataframe tbody tr th:only-of-type {\n",
              "        vertical-align: middle;\n",
              "    }\n",
              "\n",
              "    .dataframe tbody tr th {\n",
              "        vertical-align: top;\n",
              "    }\n",
              "\n",
              "    .dataframe thead th {\n",
              "        text-align: right;\n",
              "    }\n",
              "</style>\n",
              "<table border=\"1\" class=\"dataframe\">\n",
              "  <thead>\n",
              "    <tr style=\"text-align: right;\">\n",
              "      <th></th>\n",
              "      <th>userid</th>\n",
              "      <th>version</th>\n",
              "      <th>sum_gamerounds</th>\n",
              "      <th>retention_1</th>\n",
              "      <th>retention_7</th>\n",
              "    </tr>\n",
              "  </thead>\n",
              "  <tbody>\n",
              "    <tr>\n",
              "      <th>0</th>\n",
              "      <td>116</td>\n",
              "      <td>gate_30</td>\n",
              "      <td>3</td>\n",
              "      <td>False</td>\n",
              "      <td>False</td>\n",
              "    </tr>\n",
              "    <tr>\n",
              "      <th>1</th>\n",
              "      <td>337</td>\n",
              "      <td>gate_30</td>\n",
              "      <td>38</td>\n",
              "      <td>True</td>\n",
              "      <td>False</td>\n",
              "    </tr>\n",
              "    <tr>\n",
              "      <th>2</th>\n",
              "      <td>377</td>\n",
              "      <td>gate_40</td>\n",
              "      <td>165</td>\n",
              "      <td>True</td>\n",
              "      <td>False</td>\n",
              "    </tr>\n",
              "    <tr>\n",
              "      <th>3</th>\n",
              "      <td>483</td>\n",
              "      <td>gate_40</td>\n",
              "      <td>1</td>\n",
              "      <td>False</td>\n",
              "      <td>False</td>\n",
              "    </tr>\n",
              "    <tr>\n",
              "      <th>4</th>\n",
              "      <td>488</td>\n",
              "      <td>gate_40</td>\n",
              "      <td>179</td>\n",
              "      <td>True</td>\n",
              "      <td>True</td>\n",
              "    </tr>\n",
              "  </tbody>\n",
              "</table>\n",
              "</div>\n",
              "    <div class=\"colab-df-buttons\">\n",
              "\n",
              "  <div class=\"colab-df-container\">\n",
              "    <button class=\"colab-df-convert\" onclick=\"convertToInteractive('df-a2507a23-9636-4d61-8891-b5595226bd14')\"\n",
              "            title=\"Convert this dataframe to an interactive table.\"\n",
              "            style=\"display:none;\">\n",
              "\n",
              "  <svg xmlns=\"http://www.w3.org/2000/svg\" height=\"24px\" viewBox=\"0 -960 960 960\">\n",
              "    <path d=\"M120-120v-720h720v720H120Zm60-500h600v-160H180v160Zm220 220h160v-160H400v160Zm0 220h160v-160H400v160ZM180-400h160v-160H180v160Zm440 0h160v-160H620v160ZM180-180h160v-160H180v160Zm440 0h160v-160H620v160Z\"/>\n",
              "  </svg>\n",
              "    </button>\n",
              "\n",
              "  <style>\n",
              "    .colab-df-container {\n",
              "      display:flex;\n",
              "      gap: 12px;\n",
              "    }\n",
              "\n",
              "    .colab-df-convert {\n",
              "      background-color: #E8F0FE;\n",
              "      border: none;\n",
              "      border-radius: 50%;\n",
              "      cursor: pointer;\n",
              "      display: none;\n",
              "      fill: #1967D2;\n",
              "      height: 32px;\n",
              "      padding: 0 0 0 0;\n",
              "      width: 32px;\n",
              "    }\n",
              "\n",
              "    .colab-df-convert:hover {\n",
              "      background-color: #E2EBFA;\n",
              "      box-shadow: 0px 1px 2px rgba(60, 64, 67, 0.3), 0px 1px 3px 1px rgba(60, 64, 67, 0.15);\n",
              "      fill: #174EA6;\n",
              "    }\n",
              "\n",
              "    .colab-df-buttons div {\n",
              "      margin-bottom: 4px;\n",
              "    }\n",
              "\n",
              "    [theme=dark] .colab-df-convert {\n",
              "      background-color: #3B4455;\n",
              "      fill: #D2E3FC;\n",
              "    }\n",
              "\n",
              "    [theme=dark] .colab-df-convert:hover {\n",
              "      background-color: #434B5C;\n",
              "      box-shadow: 0px 1px 3px 1px rgba(0, 0, 0, 0.15);\n",
              "      filter: drop-shadow(0px 1px 2px rgba(0, 0, 0, 0.3));\n",
              "      fill: #FFFFFF;\n",
              "    }\n",
              "  </style>\n",
              "\n",
              "    <script>\n",
              "      const buttonEl =\n",
              "        document.querySelector('#df-a2507a23-9636-4d61-8891-b5595226bd14 button.colab-df-convert');\n",
              "      buttonEl.style.display =\n",
              "        google.colab.kernel.accessAllowed ? 'block' : 'none';\n",
              "\n",
              "      async function convertToInteractive(key) {\n",
              "        const element = document.querySelector('#df-a2507a23-9636-4d61-8891-b5595226bd14');\n",
              "        const dataTable =\n",
              "          await google.colab.kernel.invokeFunction('convertToInteractive',\n",
              "                                                    [key], {});\n",
              "        if (!dataTable) return;\n",
              "\n",
              "        const docLinkHtml = 'Like what you see? Visit the ' +\n",
              "          '<a target=\"_blank\" href=https://colab.research.google.com/notebooks/data_table.ipynb>data table notebook</a>'\n",
              "          + ' to learn more about interactive tables.';\n",
              "        element.innerHTML = '';\n",
              "        dataTable['output_type'] = 'display_data';\n",
              "        await google.colab.output.renderOutput(dataTable, element);\n",
              "        const docLink = document.createElement('div');\n",
              "        docLink.innerHTML = docLinkHtml;\n",
              "        element.appendChild(docLink);\n",
              "      }\n",
              "    </script>\n",
              "  </div>\n",
              "\n",
              "\n",
              "    <div id=\"df-8103bb0d-1270-4411-8f52-83c747b7f9cb\">\n",
              "      <button class=\"colab-df-quickchart\" onclick=\"quickchart('df-8103bb0d-1270-4411-8f52-83c747b7f9cb')\"\n",
              "                title=\"Suggest charts\"\n",
              "                style=\"display:none;\">\n",
              "\n",
              "<svg xmlns=\"http://www.w3.org/2000/svg\" height=\"24px\"viewBox=\"0 0 24 24\"\n",
              "     width=\"24px\">\n",
              "    <g>\n",
              "        <path d=\"M19 3H5c-1.1 0-2 .9-2 2v14c0 1.1.9 2 2 2h14c1.1 0 2-.9 2-2V5c0-1.1-.9-2-2-2zM9 17H7v-7h2v7zm4 0h-2V7h2v10zm4 0h-2v-4h2v4z\"/>\n",
              "    </g>\n",
              "</svg>\n",
              "      </button>\n",
              "\n",
              "<style>\n",
              "  .colab-df-quickchart {\n",
              "      --bg-color: #E8F0FE;\n",
              "      --fill-color: #1967D2;\n",
              "      --hover-bg-color: #E2EBFA;\n",
              "      --hover-fill-color: #174EA6;\n",
              "      --disabled-fill-color: #AAA;\n",
              "      --disabled-bg-color: #DDD;\n",
              "  }\n",
              "\n",
              "  [theme=dark] .colab-df-quickchart {\n",
              "      --bg-color: #3B4455;\n",
              "      --fill-color: #D2E3FC;\n",
              "      --hover-bg-color: #434B5C;\n",
              "      --hover-fill-color: #FFFFFF;\n",
              "      --disabled-bg-color: #3B4455;\n",
              "      --disabled-fill-color: #666;\n",
              "  }\n",
              "\n",
              "  .colab-df-quickchart {\n",
              "    background-color: var(--bg-color);\n",
              "    border: none;\n",
              "    border-radius: 50%;\n",
              "    cursor: pointer;\n",
              "    display: none;\n",
              "    fill: var(--fill-color);\n",
              "    height: 32px;\n",
              "    padding: 0;\n",
              "    width: 32px;\n",
              "  }\n",
              "\n",
              "  .colab-df-quickchart:hover {\n",
              "    background-color: var(--hover-bg-color);\n",
              "    box-shadow: 0 1px 2px rgba(60, 64, 67, 0.3), 0 1px 3px 1px rgba(60, 64, 67, 0.15);\n",
              "    fill: var(--button-hover-fill-color);\n",
              "  }\n",
              "\n",
              "  .colab-df-quickchart-complete:disabled,\n",
              "  .colab-df-quickchart-complete:disabled:hover {\n",
              "    background-color: var(--disabled-bg-color);\n",
              "    fill: var(--disabled-fill-color);\n",
              "    box-shadow: none;\n",
              "  }\n",
              "\n",
              "  .colab-df-spinner {\n",
              "    border: 2px solid var(--fill-color);\n",
              "    border-color: transparent;\n",
              "    border-bottom-color: var(--fill-color);\n",
              "    animation:\n",
              "      spin 1s steps(1) infinite;\n",
              "  }\n",
              "\n",
              "  @keyframes spin {\n",
              "    0% {\n",
              "      border-color: transparent;\n",
              "      border-bottom-color: var(--fill-color);\n",
              "      border-left-color: var(--fill-color);\n",
              "    }\n",
              "    20% {\n",
              "      border-color: transparent;\n",
              "      border-left-color: var(--fill-color);\n",
              "      border-top-color: var(--fill-color);\n",
              "    }\n",
              "    30% {\n",
              "      border-color: transparent;\n",
              "      border-left-color: var(--fill-color);\n",
              "      border-top-color: var(--fill-color);\n",
              "      border-right-color: var(--fill-color);\n",
              "    }\n",
              "    40% {\n",
              "      border-color: transparent;\n",
              "      border-right-color: var(--fill-color);\n",
              "      border-top-color: var(--fill-color);\n",
              "    }\n",
              "    60% {\n",
              "      border-color: transparent;\n",
              "      border-right-color: var(--fill-color);\n",
              "    }\n",
              "    80% {\n",
              "      border-color: transparent;\n",
              "      border-right-color: var(--fill-color);\n",
              "      border-bottom-color: var(--fill-color);\n",
              "    }\n",
              "    90% {\n",
              "      border-color: transparent;\n",
              "      border-bottom-color: var(--fill-color);\n",
              "    }\n",
              "  }\n",
              "</style>\n",
              "\n",
              "      <script>\n",
              "        async function quickchart(key) {\n",
              "          const quickchartButtonEl =\n",
              "            document.querySelector('#' + key + ' button');\n",
              "          quickchartButtonEl.disabled = true;  // To prevent multiple clicks.\n",
              "          quickchartButtonEl.classList.add('colab-df-spinner');\n",
              "          try {\n",
              "            const charts = await google.colab.kernel.invokeFunction(\n",
              "                'suggestCharts', [key], {});\n",
              "          } catch (error) {\n",
              "            console.error('Error during call to suggestCharts:', error);\n",
              "          }\n",
              "          quickchartButtonEl.classList.remove('colab-df-spinner');\n",
              "          quickchartButtonEl.classList.add('colab-df-quickchart-complete');\n",
              "        }\n",
              "        (() => {\n",
              "          let quickchartButtonEl =\n",
              "            document.querySelector('#df-8103bb0d-1270-4411-8f52-83c747b7f9cb button');\n",
              "          quickchartButtonEl.style.display =\n",
              "            google.colab.kernel.accessAllowed ? 'block' : 'none';\n",
              "        })();\n",
              "      </script>\n",
              "    </div>\n",
              "\n",
              "    </div>\n",
              "  </div>\n"
            ],
            "application/vnd.google.colaboratory.intrinsic+json": {
              "type": "dataframe",
              "variable_name": "df",
              "summary": "{\n  \"name\": \"df\",\n  \"rows\": 90189,\n  \"fields\": [\n    {\n      \"column\": \"userid\",\n      \"properties\": {\n        \"dtype\": \"number\",\n        \"std\": 2883285,\n        \"min\": 116,\n        \"max\": 9999861,\n        \"num_unique_values\": 90189,\n        \"samples\": [\n          3266525,\n          3937667,\n          2861986\n        ],\n        \"semantic_type\": \"\",\n        \"description\": \"\"\n      }\n    },\n    {\n      \"column\": \"version\",\n      \"properties\": {\n        \"dtype\": \"category\",\n        \"num_unique_values\": 2,\n        \"samples\": [\n          \"gate_40\",\n          \"gate_30\"\n        ],\n        \"semantic_type\": \"\",\n        \"description\": \"\"\n      }\n    },\n    {\n      \"column\": \"sum_gamerounds\",\n      \"properties\": {\n        \"dtype\": \"number\",\n        \"std\": 195,\n        \"min\": 0,\n        \"max\": 49854,\n        \"num_unique_values\": 942,\n        \"samples\": [\n          346,\n          523\n        ],\n        \"semantic_type\": \"\",\n        \"description\": \"\"\n      }\n    },\n    {\n      \"column\": \"retention_1\",\n      \"properties\": {\n        \"dtype\": \"boolean\",\n        \"num_unique_values\": 2,\n        \"samples\": [\n          true,\n          false\n        ],\n        \"semantic_type\": \"\",\n        \"description\": \"\"\n      }\n    },\n    {\n      \"column\": \"retention_7\",\n      \"properties\": {\n        \"dtype\": \"boolean\",\n        \"num_unique_values\": 2,\n        \"samples\": [\n          true,\n          false\n        ],\n        \"semantic_type\": \"\",\n        \"description\": \"\"\n      }\n    }\n  ]\n}"
            }
          },
          "metadata": {},
          "execution_count": 1
        }
      ]
    },
    {
      "cell_type": "markdown",
      "metadata": {
        "id": "3AV-1hM5P3yl"
      },
      "source": [
        "<p>The data is from 90,189 players that installed the game while the AB-test was running. The variables are:</p>\n",
        "<ul>\n",
        "<li><code>userid</code> - a unique number that identifies each player.</li>\n",
        "<li><code>version</code> - whether the player was put in the control group (<code>gate_30</code> - a gate at level 30) or the test group (<code>gate_40</code> - a gate at level 40).</li>\n",
        "<li><code>sum_gamerounds</code> - the number of game rounds played by the player during the first week after install\n",
        "<li><code>retention_1</code> - did the player come back and play 1 day after SEE THE GATE?</li>\n",
        "<li><code>retention_7</code> - did the player come back and play 7 days after SEE THE GATE?</li>\n",
        "</ul>\n",
        "<p>When a player installed the game, he or she was randomly assigned to either <code>gate_30</code> or <code>gate_40</code>. </p>"
      ]
    },
    {
      "cell_type": "code",
      "source": [
        "# version = 玩家看到Gate是出現在第30關, 還是第40關\n",
        "# sum_gamerounds = 自從玩家下載了遊戲之後的第一週,一共玩了多少關卡\n",
        "# retention_1 = 自從玩家看到了不論是第30關的Gate 還是第40關的Gate, 玩家在“當天”是否retend？\n",
        "# retention_7 = 自從玩家看到了不論是第30關的Gate 還是第40關的Gate, 7天以後, 玩家是否有繼續玩？\n"
      ],
      "metadata": {
        "id": "kHi42Nt8O6DV"
      },
      "execution_count": 2,
      "outputs": []
    },
    {
      "cell_type": "markdown",
      "metadata": {
        "id": "H-HNgyTCP3ym"
      },
      "source": [
        "### 2.2 Check missing values"
      ]
    },
    {
      "cell_type": "code",
      "metadata": {
        "scrolled": true,
        "id": "fIGFMBxfP3ym",
        "outputId": "0a6fa456-2528-418f-e807-32775e99e179",
        "colab": {
          "base_uri": "https://localhost:8080/"
        }
      },
      "source": [
        "df.info()"
      ],
      "execution_count": 3,
      "outputs": [
        {
          "output_type": "stream",
          "name": "stdout",
          "text": [
            "<class 'pandas.core.frame.DataFrame'>\n",
            "RangeIndex: 90189 entries, 0 to 90188\n",
            "Data columns (total 5 columns):\n",
            " #   Column          Non-Null Count  Dtype \n",
            "---  ------          --------------  ----- \n",
            " 0   userid          90189 non-null  int64 \n",
            " 1   version         90189 non-null  object\n",
            " 2   sum_gamerounds  90189 non-null  int64 \n",
            " 3   retention_1     90189 non-null  bool  \n",
            " 4   retention_7     90189 non-null  bool  \n",
            "dtypes: bool(2), int64(2), object(1)\n",
            "memory usage: 2.2+ MB\n"
          ]
        }
      ]
    },
    {
      "cell_type": "markdown",
      "metadata": {
        "id": "PiX7kFqIP3yn"
      },
      "source": [
        "Luckily, there is no missing value in this dataset.\n",
        "### 2.3 Count the number of players in each group"
      ]
    },
    {
      "cell_type": "code",
      "metadata": {
        "id": "3imKXfvKP3yo",
        "outputId": "885eada6-09a0-41bf-e38a-9cb317b4af04",
        "colab": {
          "base_uri": "https://localhost:8080/",
          "height": 142
        }
      },
      "source": [
        "# 分成control group和 treatment group, 並計算各組分別有多少user\n",
        "df.groupby('version').count()"
      ],
      "execution_count": 4,
      "outputs": [
        {
          "output_type": "execute_result",
          "data": {
            "text/plain": [
              "         userid  sum_gamerounds  retention_1  retention_7\n",
              "version                                                  \n",
              "gate_30   44700           44700        44700        44700\n",
              "gate_40   45489           45489        45489        45489"
            ],
            "text/html": [
              "\n",
              "  <div id=\"df-c7f07e00-333b-4fb3-b9b6-21972406b987\" class=\"colab-df-container\">\n",
              "    <div>\n",
              "<style scoped>\n",
              "    .dataframe tbody tr th:only-of-type {\n",
              "        vertical-align: middle;\n",
              "    }\n",
              "\n",
              "    .dataframe tbody tr th {\n",
              "        vertical-align: top;\n",
              "    }\n",
              "\n",
              "    .dataframe thead th {\n",
              "        text-align: right;\n",
              "    }\n",
              "</style>\n",
              "<table border=\"1\" class=\"dataframe\">\n",
              "  <thead>\n",
              "    <tr style=\"text-align: right;\">\n",
              "      <th></th>\n",
              "      <th>userid</th>\n",
              "      <th>sum_gamerounds</th>\n",
              "      <th>retention_1</th>\n",
              "      <th>retention_7</th>\n",
              "    </tr>\n",
              "    <tr>\n",
              "      <th>version</th>\n",
              "      <th></th>\n",
              "      <th></th>\n",
              "      <th></th>\n",
              "      <th></th>\n",
              "    </tr>\n",
              "  </thead>\n",
              "  <tbody>\n",
              "    <tr>\n",
              "      <th>gate_30</th>\n",
              "      <td>44700</td>\n",
              "      <td>44700</td>\n",
              "      <td>44700</td>\n",
              "      <td>44700</td>\n",
              "    </tr>\n",
              "    <tr>\n",
              "      <th>gate_40</th>\n",
              "      <td>45489</td>\n",
              "      <td>45489</td>\n",
              "      <td>45489</td>\n",
              "      <td>45489</td>\n",
              "    </tr>\n",
              "  </tbody>\n",
              "</table>\n",
              "</div>\n",
              "    <div class=\"colab-df-buttons\">\n",
              "\n",
              "  <div class=\"colab-df-container\">\n",
              "    <button class=\"colab-df-convert\" onclick=\"convertToInteractive('df-c7f07e00-333b-4fb3-b9b6-21972406b987')\"\n",
              "            title=\"Convert this dataframe to an interactive table.\"\n",
              "            style=\"display:none;\">\n",
              "\n",
              "  <svg xmlns=\"http://www.w3.org/2000/svg\" height=\"24px\" viewBox=\"0 -960 960 960\">\n",
              "    <path d=\"M120-120v-720h720v720H120Zm60-500h600v-160H180v160Zm220 220h160v-160H400v160Zm0 220h160v-160H400v160ZM180-400h160v-160H180v160Zm440 0h160v-160H620v160ZM180-180h160v-160H180v160Zm440 0h160v-160H620v160Z\"/>\n",
              "  </svg>\n",
              "    </button>\n",
              "\n",
              "  <style>\n",
              "    .colab-df-container {\n",
              "      display:flex;\n",
              "      gap: 12px;\n",
              "    }\n",
              "\n",
              "    .colab-df-convert {\n",
              "      background-color: #E8F0FE;\n",
              "      border: none;\n",
              "      border-radius: 50%;\n",
              "      cursor: pointer;\n",
              "      display: none;\n",
              "      fill: #1967D2;\n",
              "      height: 32px;\n",
              "      padding: 0 0 0 0;\n",
              "      width: 32px;\n",
              "    }\n",
              "\n",
              "    .colab-df-convert:hover {\n",
              "      background-color: #E2EBFA;\n",
              "      box-shadow: 0px 1px 2px rgba(60, 64, 67, 0.3), 0px 1px 3px 1px rgba(60, 64, 67, 0.15);\n",
              "      fill: #174EA6;\n",
              "    }\n",
              "\n",
              "    .colab-df-buttons div {\n",
              "      margin-bottom: 4px;\n",
              "    }\n",
              "\n",
              "    [theme=dark] .colab-df-convert {\n",
              "      background-color: #3B4455;\n",
              "      fill: #D2E3FC;\n",
              "    }\n",
              "\n",
              "    [theme=dark] .colab-df-convert:hover {\n",
              "      background-color: #434B5C;\n",
              "      box-shadow: 0px 1px 3px 1px rgba(0, 0, 0, 0.15);\n",
              "      filter: drop-shadow(0px 1px 2px rgba(0, 0, 0, 0.3));\n",
              "      fill: #FFFFFF;\n",
              "    }\n",
              "  </style>\n",
              "\n",
              "    <script>\n",
              "      const buttonEl =\n",
              "        document.querySelector('#df-c7f07e00-333b-4fb3-b9b6-21972406b987 button.colab-df-convert');\n",
              "      buttonEl.style.display =\n",
              "        google.colab.kernel.accessAllowed ? 'block' : 'none';\n",
              "\n",
              "      async function convertToInteractive(key) {\n",
              "        const element = document.querySelector('#df-c7f07e00-333b-4fb3-b9b6-21972406b987');\n",
              "        const dataTable =\n",
              "          await google.colab.kernel.invokeFunction('convertToInteractive',\n",
              "                                                    [key], {});\n",
              "        if (!dataTable) return;\n",
              "\n",
              "        const docLinkHtml = 'Like what you see? Visit the ' +\n",
              "          '<a target=\"_blank\" href=https://colab.research.google.com/notebooks/data_table.ipynb>data table notebook</a>'\n",
              "          + ' to learn more about interactive tables.';\n",
              "        element.innerHTML = '';\n",
              "        dataTable['output_type'] = 'display_data';\n",
              "        await google.colab.output.renderOutput(dataTable, element);\n",
              "        const docLink = document.createElement('div');\n",
              "        docLink.innerHTML = docLinkHtml;\n",
              "        element.appendChild(docLink);\n",
              "      }\n",
              "    </script>\n",
              "  </div>\n",
              "\n",
              "\n",
              "    <div id=\"df-efb0ba40-7a2f-4201-bbfe-d3f6f039c333\">\n",
              "      <button class=\"colab-df-quickchart\" onclick=\"quickchart('df-efb0ba40-7a2f-4201-bbfe-d3f6f039c333')\"\n",
              "                title=\"Suggest charts\"\n",
              "                style=\"display:none;\">\n",
              "\n",
              "<svg xmlns=\"http://www.w3.org/2000/svg\" height=\"24px\"viewBox=\"0 0 24 24\"\n",
              "     width=\"24px\">\n",
              "    <g>\n",
              "        <path d=\"M19 3H5c-1.1 0-2 .9-2 2v14c0 1.1.9 2 2 2h14c1.1 0 2-.9 2-2V5c0-1.1-.9-2-2-2zM9 17H7v-7h2v7zm4 0h-2V7h2v10zm4 0h-2v-4h2v4z\"/>\n",
              "    </g>\n",
              "</svg>\n",
              "      </button>\n",
              "\n",
              "<style>\n",
              "  .colab-df-quickchart {\n",
              "      --bg-color: #E8F0FE;\n",
              "      --fill-color: #1967D2;\n",
              "      --hover-bg-color: #E2EBFA;\n",
              "      --hover-fill-color: #174EA6;\n",
              "      --disabled-fill-color: #AAA;\n",
              "      --disabled-bg-color: #DDD;\n",
              "  }\n",
              "\n",
              "  [theme=dark] .colab-df-quickchart {\n",
              "      --bg-color: #3B4455;\n",
              "      --fill-color: #D2E3FC;\n",
              "      --hover-bg-color: #434B5C;\n",
              "      --hover-fill-color: #FFFFFF;\n",
              "      --disabled-bg-color: #3B4455;\n",
              "      --disabled-fill-color: #666;\n",
              "  }\n",
              "\n",
              "  .colab-df-quickchart {\n",
              "    background-color: var(--bg-color);\n",
              "    border: none;\n",
              "    border-radius: 50%;\n",
              "    cursor: pointer;\n",
              "    display: none;\n",
              "    fill: var(--fill-color);\n",
              "    height: 32px;\n",
              "    padding: 0;\n",
              "    width: 32px;\n",
              "  }\n",
              "\n",
              "  .colab-df-quickchart:hover {\n",
              "    background-color: var(--hover-bg-color);\n",
              "    box-shadow: 0 1px 2px rgba(60, 64, 67, 0.3), 0 1px 3px 1px rgba(60, 64, 67, 0.15);\n",
              "    fill: var(--button-hover-fill-color);\n",
              "  }\n",
              "\n",
              "  .colab-df-quickchart-complete:disabled,\n",
              "  .colab-df-quickchart-complete:disabled:hover {\n",
              "    background-color: var(--disabled-bg-color);\n",
              "    fill: var(--disabled-fill-color);\n",
              "    box-shadow: none;\n",
              "  }\n",
              "\n",
              "  .colab-df-spinner {\n",
              "    border: 2px solid var(--fill-color);\n",
              "    border-color: transparent;\n",
              "    border-bottom-color: var(--fill-color);\n",
              "    animation:\n",
              "      spin 1s steps(1) infinite;\n",
              "  }\n",
              "\n",
              "  @keyframes spin {\n",
              "    0% {\n",
              "      border-color: transparent;\n",
              "      border-bottom-color: var(--fill-color);\n",
              "      border-left-color: var(--fill-color);\n",
              "    }\n",
              "    20% {\n",
              "      border-color: transparent;\n",
              "      border-left-color: var(--fill-color);\n",
              "      border-top-color: var(--fill-color);\n",
              "    }\n",
              "    30% {\n",
              "      border-color: transparent;\n",
              "      border-left-color: var(--fill-color);\n",
              "      border-top-color: var(--fill-color);\n",
              "      border-right-color: var(--fill-color);\n",
              "    }\n",
              "    40% {\n",
              "      border-color: transparent;\n",
              "      border-right-color: var(--fill-color);\n",
              "      border-top-color: var(--fill-color);\n",
              "    }\n",
              "    60% {\n",
              "      border-color: transparent;\n",
              "      border-right-color: var(--fill-color);\n",
              "    }\n",
              "    80% {\n",
              "      border-color: transparent;\n",
              "      border-right-color: var(--fill-color);\n",
              "      border-bottom-color: var(--fill-color);\n",
              "    }\n",
              "    90% {\n",
              "      border-color: transparent;\n",
              "      border-bottom-color: var(--fill-color);\n",
              "    }\n",
              "  }\n",
              "</style>\n",
              "\n",
              "      <script>\n",
              "        async function quickchart(key) {\n",
              "          const quickchartButtonEl =\n",
              "            document.querySelector('#' + key + ' button');\n",
              "          quickchartButtonEl.disabled = true;  // To prevent multiple clicks.\n",
              "          quickchartButtonEl.classList.add('colab-df-spinner');\n",
              "          try {\n",
              "            const charts = await google.colab.kernel.invokeFunction(\n",
              "                'suggestCharts', [key], {});\n",
              "          } catch (error) {\n",
              "            console.error('Error during call to suggestCharts:', error);\n",
              "          }\n",
              "          quickchartButtonEl.classList.remove('colab-df-spinner');\n",
              "          quickchartButtonEl.classList.add('colab-df-quickchart-complete');\n",
              "        }\n",
              "        (() => {\n",
              "          let quickchartButtonEl =\n",
              "            document.querySelector('#df-efb0ba40-7a2f-4201-bbfe-d3f6f039c333 button');\n",
              "          quickchartButtonEl.style.display =\n",
              "            google.colab.kernel.accessAllowed ? 'block' : 'none';\n",
              "        })();\n",
              "      </script>\n",
              "    </div>\n",
              "\n",
              "    </div>\n",
              "  </div>\n"
            ],
            "application/vnd.google.colaboratory.intrinsic+json": {
              "type": "dataframe",
              "summary": "{\n  \"name\": \"df\",\n  \"rows\": 2,\n  \"fields\": [\n    {\n      \"column\": \"version\",\n      \"properties\": {\n        \"dtype\": \"string\",\n        \"num_unique_values\": 2,\n        \"samples\": [\n          \"gate_40\",\n          \"gate_30\"\n        ],\n        \"semantic_type\": \"\",\n        \"description\": \"\"\n      }\n    },\n    {\n      \"column\": \"userid\",\n      \"properties\": {\n        \"dtype\": \"number\",\n        \"std\": 557,\n        \"min\": 44700,\n        \"max\": 45489,\n        \"num_unique_values\": 2,\n        \"samples\": [\n          45489,\n          44700\n        ],\n        \"semantic_type\": \"\",\n        \"description\": \"\"\n      }\n    },\n    {\n      \"column\": \"sum_gamerounds\",\n      \"properties\": {\n        \"dtype\": \"number\",\n        \"std\": 557,\n        \"min\": 44700,\n        \"max\": 45489,\n        \"num_unique_values\": 2,\n        \"samples\": [\n          45489,\n          44700\n        ],\n        \"semantic_type\": \"\",\n        \"description\": \"\"\n      }\n    },\n    {\n      \"column\": \"retention_1\",\n      \"properties\": {\n        \"dtype\": \"number\",\n        \"std\": 557,\n        \"min\": 44700,\n        \"max\": 45489,\n        \"num_unique_values\": 2,\n        \"samples\": [\n          45489,\n          44700\n        ],\n        \"semantic_type\": \"\",\n        \"description\": \"\"\n      }\n    },\n    {\n      \"column\": \"retention_7\",\n      \"properties\": {\n        \"dtype\": \"number\",\n        \"std\": 557,\n        \"min\": 44700,\n        \"max\": 45489,\n        \"num_unique_values\": 2,\n        \"samples\": [\n          45489,\n          44700\n        ],\n        \"semantic_type\": \"\",\n        \"description\": \"\"\n      }\n    }\n  ]\n}"
            }
          },
          "metadata": {},
          "execution_count": 4
        }
      ]
    },
    {
      "cell_type": "markdown",
      "metadata": {
        "id": "_2-Nu7QHP3yp"
      },
      "source": [
        "<p>When a player installed the game, he or she was randomly assigned to either gate_30 or gate_40. The number of players is roughly the same in the control and test group, nice!"
      ]
    },
    {
      "cell_type": "markdown",
      "metadata": {
        "id": "QNylA9O_P3yp"
      },
      "source": [
        "## Part 3. Analyzing Player Behavior  <a name= '3'></a>\n",
        "\n",
        "We will plot a boxplot to visualize the distribution of 'sum_gamerounds', which would give us a rough idea of how many game rounds were played by a player during the first week after installing the game."
      ]
    },
    {
      "cell_type": "code",
      "metadata": {
        "scrolled": false,
        "id": "vOPCB0heP3yq",
        "outputId": "038f7e55-adce-4bf7-e690-1e60d9b50e6b",
        "colab": {
          "base_uri": "https://localhost:8080/",
          "height": 847
        }
      },
      "source": [
        "# 做EDA,觀察”自從下載遊戲後的第一週“數據.大部分人玩到5000關\n",
        "# 發現第一週有個人“第一週玩到第五萬關”\n",
        "# 懷疑到底合不合理. 合理就保留,不合理就當作異常值\n",
        "\n",
        "df['sum_gamerounds'].plot.box(figsize=(5,10))"
      ],
      "execution_count": 5,
      "outputs": [
        {
          "output_type": "execute_result",
          "data": {
            "text/plain": [
              "<Axes: >"
            ]
          },
          "metadata": {},
          "execution_count": 5
        },
        {
          "output_type": "display_data",
          "data": {
            "text/plain": [
              "<Figure size 500x1000 with 1 Axes>"
            ],
            "image/png": "[encoded data removed]"
          },
          "metadata": {}
        }
      ]
    },
    {
      "cell_type": "markdown",
      "metadata": {
        "id": "6nyxccKAP3yq"
      },
      "source": [
        "Clearly, there is an outlier. This player played about 50,000 game rounds during the first week! Due to this outlier, this boxplot is extremely skewed and not very informative. To learn about the behavior of the majority of the players, we will check the percentiles."
      ]
    },
    {
      "cell_type": "code",
      "metadata": {
        "scrolled": false,
        "id": "D5p6MgDcP3yq",
        "outputId": "a1fe67f4-4b03-488f-871a-ec6522f71d8d",
        "colab": {
          "base_uri": "https://localhost:8080/",
          "height": 331
        }
      },
      "source": [
        "df['sum_gamerounds'].describe()"
      ],
      "execution_count": 6,
      "outputs": [
        {
          "output_type": "execute_result",
          "data": {
            "text/plain": [
              "count    90189.000000\n",
              "mean        51.872457\n",
              "std        195.050858\n",
              "min          0.000000\n",
              "25%          5.000000\n",
              "50%         16.000000\n",
              "75%         51.000000\n",
              "max      49854.000000\n",
              "Name: sum_gamerounds, dtype: float64"
            ],
            "text/html": [
              "<div>\n",
              "<style scoped>\n",
              "    .dataframe tbody tr th:only-of-type {\n",
              "        vertical-align: middle;\n",
              "    }\n",
              "\n",
              "    .dataframe tbody tr th {\n",
              "        vertical-align: top;\n",
              "    }\n",
              "\n",
              "    .dataframe thead th {\n",
              "        text-align: right;\n",
              "    }\n",
              "</style>\n",
              "<table border=\"1\" class=\"dataframe\">\n",
              "  <thead>\n",
              "    <tr style=\"text-align: right;\">\n",
              "      <th></th>\n",
              "      <th>sum_gamerounds</th>\n",
              "    </tr>\n",
              "  </thead>\n",
              "  <tbody>\n",
              "    <tr>\n",
              "      <th>count</th>\n",
              "      <td>90189.000000</td>\n",
              "    </tr>\n",
              "    <tr>\n",
              "      <th>mean</th>\n",
              "      <td>51.872457</td>\n",
              "    </tr>\n",
              "    <tr>\n",
              "      <th>std</th>\n",
              "      <td>195.050858</td>\n",
              "    </tr>\n",
              "    <tr>\n",
              "      <th>min</th>\n",
              "      <td>0.000000</td>\n",
              "    </tr>\n",
              "    <tr>\n",
              "      <th>25%</th>\n",
              "      <td>5.000000</td>\n",
              "    </tr>\n",
              "    <tr>\n",
              "      <th>50%</th>\n",
              "      <td>16.000000</td>\n",
              "    </tr>\n",
              "    <tr>\n",
              "      <th>75%</th>\n",
              "      <td>51.000000</td>\n",
              "    </tr>\n",
              "    <tr>\n",
              "      <th>max</th>\n",
              "      <td>49854.000000</td>\n",
              "    </tr>\n",
              "  </tbody>\n",
              "</table>\n",
              "</div><br><label><b>dtype:</b> float64</label>"
            ]
          },
          "metadata": {},
          "execution_count": 6
        }
      ]
    },
    {
      "cell_type": "code",
      "source": [
        "# 平均值mean : 51關. 標準差：195關. 代表分佈比較偏態Skew, 因為最大值是49000關"
      ],
      "metadata": {
        "id": "mey6IrfYsujh"
      },
      "execution_count": 7,
      "outputs": []
    },
    {
      "cell_type": "code",
      "metadata": {
        "id": "Z6UeGnOFP3yr",
        "outputId": "82071f86-cb96-47aa-8c08-08cfd83e8c96",
        "colab": {
          "base_uri": "https://localhost:8080/",
          "height": 484
        }
      },
      "source": [
        "# Counting the number of players for each number of gamerounds\n",
        "# 計算每一關有多少玩家\n",
        "plot_df = df.groupby('sum_gamerounds')['userid'].count()\n",
        "plot_df"
      ],
      "execution_count": 8,
      "outputs": [
        {
          "output_type": "execute_result",
          "data": {
            "text/plain": [
              "sum_gamerounds\n",
              "0        3994\n",
              "1        5538\n",
              "2        4606\n",
              "3        3958\n",
              "4        3629\n",
              "         ... \n",
              "2294        1\n",
              "2438        1\n",
              "2640        1\n",
              "2961        1\n",
              "49854       1\n",
              "Name: userid, Length: 942, dtype: int64"
            ],
            "text/html": [
              "<div>\n",
              "<style scoped>\n",
              "    .dataframe tbody tr th:only-of-type {\n",
              "        vertical-align: middle;\n",
              "    }\n",
              "\n",
              "    .dataframe tbody tr th {\n",
              "        vertical-align: top;\n",
              "    }\n",
              "\n",
              "    .dataframe thead th {\n",
              "        text-align: right;\n",
              "    }\n",
              "</style>\n",
              "<table border=\"1\" class=\"dataframe\">\n",
              "  <thead>\n",
              "    <tr style=\"text-align: right;\">\n",
              "      <th></th>\n",
              "      <th>userid</th>\n",
              "    </tr>\n",
              "    <tr>\n",
              "      <th>sum_gamerounds</th>\n",
              "      <th></th>\n",
              "    </tr>\n",
              "  </thead>\n",
              "  <tbody>\n",
              "    <tr>\n",
              "      <th>0</th>\n",
              "      <td>3994</td>\n",
              "    </tr>\n",
              "    <tr>\n",
              "      <th>1</th>\n",
              "      <td>5538</td>\n",
              "    </tr>\n",
              "    <tr>\n",
              "      <th>2</th>\n",
              "      <td>4606</td>\n",
              "    </tr>\n",
              "    <tr>\n",
              "      <th>3</th>\n",
              "      <td>3958</td>\n",
              "    </tr>\n",
              "    <tr>\n",
              "      <th>4</th>\n",
              "      <td>3629</td>\n",
              "    </tr>\n",
              "    <tr>\n",
              "      <th>...</th>\n",
              "      <td>...</td>\n",
              "    </tr>\n",
              "    <tr>\n",
              "      <th>2294</th>\n",
              "      <td>1</td>\n",
              "    </tr>\n",
              "    <tr>\n",
              "      <th>2438</th>\n",
              "      <td>1</td>\n",
              "    </tr>\n",
              "    <tr>\n",
              "      <th>2640</th>\n",
              "      <td>1</td>\n",
              "    </tr>\n",
              "    <tr>\n",
              "      <th>2961</th>\n",
              "      <td>1</td>\n",
              "    </tr>\n",
              "    <tr>\n",
              "      <th>49854</th>\n",
              "      <td>1</td>\n",
              "    </tr>\n",
              "  </tbody>\n",
              "</table>\n",
              "<p>942 rows × 1 columns</p>\n",
              "</div><br><label><b>dtype:</b> int64</label>"
            ]
          },
          "metadata": {},
          "execution_count": 8
        }
      ]
    },
    {
      "cell_type": "markdown",
      "metadata": {
        "id": "WlkxhhuVP3yr"
      },
      "source": [
        "<p>As we can see, 50% of players played fewer than 16 game rounds during the first week after installation, and 75% of players played fewer than 51 rounds.\n",
        "<p>Nearly 4000 players did not even play a single round after installation. Possible reasons may include:\n",
        "<ul>\n",
        "    <li>They downloaded a number of new games at the same time and were attracted by other games.\n",
        "    <li>They opened the app but did not like the design/interface/music, so they quit even before playing the game.\n",
        "    <li>They have not started playing the game yet.\n",
        "    <li>......\n",
        "</ul>\n",
        "\n",
        "<p>Another number worth attention is that more than 14,000 players played fewer than three rounds. For these players, the reasons for leaving may include: </p>\n",
        "<ul>\n",
        "    <li>They did not enjoy the game. (This is probably the most common reason).\n",
        "    <li>The game turned out to be different from what they expected.\n",
        "    <li>The game was too easy and they got bored of it.\n",
        "    <li>......\n",
        "</ul>\n",
        "\n",
        "It is important to understand why a large number of players quit the game at an early stage. Tactile Entertainment can try to collect player feedback, for example, through an in-app survey."
      ]
    },
    {
      "cell_type": "code",
      "metadata": {
        "id": "EwRibcozP3ys",
        "outputId": "52847b3e-536a-4110-ad73-824e66b840d0",
        "colab": {
          "base_uri": "https://localhost:8080/",
          "height": 581
        }
      },
      "source": [
        "# Plot the distribution of players that played 0 to 100 game rounds during their first week playing the game.\n",
        "# 把“第一週”玩第一到第一百關卡玩家人數的分佈畫出來. 1-100的關卡對應著玩家人數\n",
        "%matplotlib inline\n",
        "\n",
        "ax = plot_df[:100].plot(figsize=(10,6))\n",
        "ax.set_title(\"The number of players that played 0-100 game rounds during the first week\")\n",
        "ax.set_ylabel(\"Number of Players\")\n",
        "ax.set_xlabel('# Game rounds')\n",
        "\n",
        "# 右偏, 平均值 > 中位數"
      ],
      "execution_count": 9,
      "outputs": [
        {
          "output_type": "execute_result",
          "data": {
            "text/plain": [
              "Text(0.5, 0, '# Game rounds')"
            ]
          },
          "metadata": {},
          "execution_count": 9
        },
        {
          "output_type": "display_data",
          "data": {
            "text/plain": [
              "<Figure size 1000x600 with 1 Axes>"
            ],
            "image/png": "[encoded data removed]"
          },
          "metadata": {}
        }
      ]
    },
    {
      "cell_type": "markdown",
      "metadata": {
        "id": "t9DnlvB3P3ys"
      },
      "source": [
        "The distribution is highly skewed, with a long tail on the right. A huge number of players played fewer than 20 rounds and left the game. For rounds greater than 60, the number of players stayed steady at about 300."
      ]
    },
    {
      "cell_type": "markdown",
      "metadata": {
        "id": "VmxcxYFMP3ys"
      },
      "source": [
        "## Part 4. Comparing 1-day Retention  <a name= '4'></a>\n",
        "\n",
        "<p>In the plot above we can see that some players install the game but then never play it, some players just play a couple of game rounds in their first week, and some get really hooked! What we want is for players to like the game and to get hooked.\n",
        "<p>A common metric in the video gaming industry for how fun and engaging a game is <strong>1-day retention: the percentage of players that comes back and plays the game one day after they have installed it.</strong>  The higher 1-day retention is, the easier it is to retain players and build a large player base. </p>"
      ]
    },
    {
      "cell_type": "markdown",
      "metadata": {
        "id": "mBzjZGp7P3yt"
      },
      "source": [
        "#### *Overall 1-day retention*"
      ]
    },
    {
      "cell_type": "code",
      "metadata": {
        "id": "MCnsUXu5P3yu",
        "outputId": "49bb04f9-f721-49cb-a291-98f64456a6b8",
        "colab": {
          "base_uri": "https://localhost:8080/"
        }
      },
      "source": [
        "#計算retention_1的留存率是多少 比如用sum/count 就是留存率\n",
        "\n",
        "df['retention_1'].sum() / df['retention_1'].count() # When using .sum(), T/F will first be converted to 1/0.\n",
        "\n",
        "# Equivalent to df['retention_1'].mean()\n",
        "# Mean is calculated by summing the values and dividing by the total number of values."
      ],
      "execution_count": 10,
      "outputs": [
        {
          "output_type": "execute_result",
          "data": {
            "text/plain": [
              "np.float64(0.4452095044850259)"
            ]
          },
          "metadata": {},
          "execution_count": 10
        }
      ]
    },
    {
      "cell_type": "markdown",
      "metadata": {
        "id": "FCwTq73TP3yu"
      },
      "source": [
        "A little less than half of the players come back one day after installing the game. Now that we have a benchmark, let's look at how 1-day retention differs between the two AB-groups."
      ]
    },
    {
      "cell_type": "markdown",
      "metadata": {
        "id": "8QgoRjCpP3yv"
      },
      "source": [
        "#### *1-day retention for each AB-group*"
      ]
    },
    {
      "cell_type": "code",
      "metadata": {
        "id": "srorZ07pP3yv",
        "outputId": "3742ca00-4788-4a01-a53e-e7f687e59b8d",
        "colab": {
          "base_uri": "https://localhost:8080/",
          "height": 176
        }
      },
      "source": [
        "# groupby control group & teatment group. 這裡是用version版本的不同\n",
        "df.groupby('version')['retention_1'].mean()"
      ],
      "execution_count": 11,
      "outputs": [
        {
          "output_type": "execute_result",
          "data": {
            "text/plain": [
              "version\n",
              "gate_30    0.448188\n",
              "gate_40    0.442283\n",
              "Name: retention_1, dtype: float64"
            ],
            "text/html": [
              "<div>\n",
              "<style scoped>\n",
              "    .dataframe tbody tr th:only-of-type {\n",
              "        vertical-align: middle;\n",
              "    }\n",
              "\n",
              "    .dataframe tbody tr th {\n",
              "        vertical-align: top;\n",
              "    }\n",
              "\n",
              "    .dataframe thead th {\n",
              "        text-align: right;\n",
              "    }\n",
              "</style>\n",
              "<table border=\"1\" class=\"dataframe\">\n",
              "  <thead>\n",
              "    <tr style=\"text-align: right;\">\n",
              "      <th></th>\n",
              "      <th>retention_1</th>\n",
              "    </tr>\n",
              "    <tr>\n",
              "      <th>version</th>\n",
              "      <th></th>\n",
              "    </tr>\n",
              "  </thead>\n",
              "  <tbody>\n",
              "    <tr>\n",
              "      <th>gate_30</th>\n",
              "      <td>0.448188</td>\n",
              "    </tr>\n",
              "    <tr>\n",
              "      <th>gate_40</th>\n",
              "      <td>0.442283</td>\n",
              "    </tr>\n",
              "  </tbody>\n",
              "</table>\n",
              "</div><br><label><b>dtype:</b> float64</label>"
            ]
          },
          "metadata": {},
          "execution_count": 11
        }
      ]
    },
    {
      "cell_type": "code",
      "source": [
        "# 這只是樣本(觀察)的結論\n",
        "# 發現gate_30的留存率比gate_40的留存率高,但不能肯定總體也是相同的結論.\n",
        "# 如何把樣本結論映射到總體結論裡？ 若不用假設檢驗,就用Bootstrapping的方法去映射總體結論"
      ],
      "metadata": {
        "id": "Ny3-_SKyy27L"
      },
      "execution_count": 12,
      "outputs": []
    },
    {
      "cell_type": "markdown",
      "metadata": {
        "id": "I4EJwi1YP3yw"
      },
      "source": [
        "It appears that <strong>there was a slight decrease in 1-day retention when the gate was moved to level 40</strong> (44.2%) compared to the control when it was at level 30 (44.8%). It's a small change, but even small changes in retention can have a large impact. But while we are certain of the difference in the data, how certain should we be that a gate at level 40 will be worse in the future?\n",
        "<p>There are a couple of ways we can get at the certainty of these retention numbers. Here we will use bootstrapping: We will repeatedly re-sample our dataset (with replacement) and calculate 1-day retention for those samples. The variation in 1-day retention will give us an indication of how uncertain the retention numbers are."
      ]
    },
    {
      "cell_type": "markdown",
      "metadata": {
        "id": "awPt3AhaP3yw"
      },
      "source": [
        "#### *Bootstrapping: Should we be confident in the difference?*"
      ]
    },
    {
      "cell_type": "code",
      "source": [
        "# Bootstrapping Method：有放回的隨機重抽樣(re-sample with replacement)\n",
        "# 每抽一次都有gate_30和gate_40的 1-day return rate 結果(也就是一對).抽完再放回去. 再抽\n",
        "# 重複抽1000次 = 隨機抽出 1000對的 \"gate_30 和 gate_40 1-day return rate\"\n",
        "\n",
        "# 這就是在模擬總體Poplution 1-day return rate gate_30和 gate_40的分佈, 觀察能否映射到Population裡面"
      ],
      "metadata": {
        "id": "xElGF-J9zwAO"
      },
      "execution_count": 13,
      "outputs": []
    },
    {
      "cell_type": "code",
      "source": [
        "# Bootstrapping Method\n",
        "# 1. 建立Bootstrap Sample\n",
        "\n",
        "# df.sample():從df中進行抽樣\n",
        "# frac=1: 代表要抽出和原始數量一樣多的樣本數\n",
        "# replace=True: 有放回的抽樣(可抽到重複的樣本)\n",
        "\n",
        "df.sample(frac = 1,replace = True)"
      ],
      "metadata": {
        "id": "7r2hdtMzUhyL",
        "colab": {
          "base_uri": "https://localhost:8080/",
          "height": 419
        },
        "outputId": "951003eb-6e18-4e95-cf51-92e81efd7395"
      },
      "execution_count": 14,
      "outputs": [
        {
          "output_type": "execute_result",
          "data": {
            "text/plain": [
              "        userid  version  sum_gamerounds  retention_1  retention_7\n",
              "27992  3118628  gate_30              63         True         True\n",
              "70314  7796541  gate_30               0        False        False\n",
              "31151  3467355  gate_40             109         True        False\n",
              "42614  4714291  gate_40               2        False        False\n",
              "34824  3856395  gate_30               2        False        False\n",
              "...        ...      ...             ...          ...          ...\n",
              "61537  6818785  gate_30               2        False        False\n",
              "22240  2477892  gate_30               3        False        False\n",
              "20461  2274495  gate_30              13        False        False\n",
              "23289  2593463  gate_40              36         True        False\n",
              "37833  4186081  gate_40               0        False        False\n",
              "\n",
              "[90189 rows x 5 columns]"
            ],
            "text/html": [
              "\n",
              "  <div id=\"df-0a441e4e-b164-4d2f-b647-da03365438bb\" class=\"colab-df-container\">\n",
              "    <div>\n",
              "<style scoped>\n",
              "    .dataframe tbody tr th:only-of-type {\n",
              "        vertical-align: middle;\n",
              "    }\n",
              "\n",
              "    .dataframe tbody tr th {\n",
              "        vertical-align: top;\n",
              "    }\n",
              "\n",
              "    .dataframe thead th {\n",
              "        text-align: right;\n",
              "    }\n",
              "</style>\n",
              "<table border=\"1\" class=\"dataframe\">\n",
              "  <thead>\n",
              "    <tr style=\"text-align: right;\">\n",
              "      <th></th>\n",
              "      <th>userid</th>\n",
              "      <th>version</th>\n",
              "      <th>sum_gamerounds</th>\n",
              "      <th>retention_1</th>\n",
              "      <th>retention_7</th>\n",
              "    </tr>\n",
              "  </thead>\n",
              "  <tbody>\n",
              "    <tr>\n",
              "      <th>27992</th>\n",
              "      <td>3118628</td>\n",
              "      <td>gate_30</td>\n",
              "      <td>63</td>\n",
              "      <td>True</td>\n",
              "      <td>True</td>\n",
              "    </tr>\n",
              "    <tr>\n",
              "      <th>70314</th>\n",
              "      <td>7796541</td>\n",
              "      <td>gate_30</td>\n",
              "      <td>0</td>\n",
              "      <td>False</td>\n",
              "      <td>False</td>\n",
              "    </tr>\n",
              "    <tr>\n",
              "      <th>31151</th>\n",
              "      <td>3467355</td>\n",
              "      <td>gate_40</td>\n",
              "      <td>109</td>\n",
              "      <td>True</td>\n",
              "      <td>False</td>\n",
              "    </tr>\n",
              "    <tr>\n",
              "      <th>42614</th>\n",
              "      <td>4714291</td>\n",
              "      <td>gate_40</td>\n",
              "      <td>2</td>\n",
              "      <td>False</td>\n",
              "      <td>False</td>\n",
              "    </tr>\n",
              "    <tr>\n",
              "      <th>34824</th>\n",
              "      <td>3856395</td>\n",
              "      <td>gate_30</td>\n",
              "      <td>2</td>\n",
              "      <td>False</td>\n",
              "      <td>False</td>\n",
              "    </tr>\n",
              "    <tr>\n",
              "      <th>...</th>\n",
              "      <td>...</td>\n",
              "      <td>...</td>\n",
              "      <td>...</td>\n",
              "      <td>...</td>\n",
              "      <td>...</td>\n",
              "    </tr>\n",
              "    <tr>\n",
              "      <th>61537</th>\n",
              "      <td>6818785</td>\n",
              "      <td>gate_30</td>\n",
              "      <td>2</td>\n",
              "      <td>False</td>\n",
              "      <td>False</td>\n",
              "    </tr>\n",
              "    <tr>\n",
              "      <th>22240</th>\n",
              "      <td>2477892</td>\n",
              "      <td>gate_30</td>\n",
              "      <td>3</td>\n",
              "      <td>False</td>\n",
              "      <td>False</td>\n",
              "    </tr>\n",
              "    <tr>\n",
              "      <th>20461</th>\n",
              "      <td>2274495</td>\n",
              "      <td>gate_30</td>\n",
              "      <td>13</td>\n",
              "      <td>False</td>\n",
              "      <td>False</td>\n",
              "    </tr>\n",
              "    <tr>\n",
              "      <th>23289</th>\n",
              "      <td>2593463</td>\n",
              "      <td>gate_40</td>\n",
              "      <td>36</td>\n",
              "      <td>True</td>\n",
              "      <td>False</td>\n",
              "    </tr>\n",
              "    <tr>\n",
              "      <th>37833</th>\n",
              "      <td>4186081</td>\n",
              "      <td>gate_40</td>\n",
              "      <td>0</td>\n",
              "      <td>False</td>\n",
              "      <td>False</td>\n",
              "    </tr>\n",
              "  </tbody>\n",
              "</table>\n",
              "<p>90189 rows × 5 columns</p>\n",
              "</div>\n",
              "    <div class=\"colab-df-buttons\">\n",
              "\n",
              "  <div class=\"colab-df-container\">\n",
              "    <button class=\"colab-df-convert\" onclick=\"convertToInteractive('df-0a441e4e-b164-4d2f-b647-da03365438bb')\"\n",
              "            title=\"Convert this dataframe to an interactive table.\"\n",
              "            style=\"display:none;\">\n",
              "\n",
              "  <svg xmlns=\"http://www.w3.org/2000/svg\" height=\"24px\" viewBox=\"0 -960 960 960\">\n",
              "    <path d=\"M120-120v-720h720v720H120Zm60-500h600v-160H180v160Zm220 220h160v-160H400v160Zm0 220h160v-160H400v160ZM180-400h160v-160H180v160Zm440 0h160v-160H620v160ZM180-180h160v-160H180v160Zm440 0h160v-160H620v160Z\"/>\n",
              "  </svg>\n",
              "    </button>\n",
              "\n",
              "  <style>\n",
              "    .colab-df-container {\n",
              "      display:flex;\n",
              "      gap: 12px;\n",
              "    }\n",
              "\n",
              "    .colab-df-convert {\n",
              "      background-color: #E8F0FE;\n",
              "      border: none;\n",
              "      border-radius: 50%;\n",
              "      cursor: pointer;\n",
              "      display: none;\n",
              "      fill: #1967D2;\n",
              "      height: 32px;\n",
              "      padding: 0 0 0 0;\n",
              "      width: 32px;\n",
              "    }\n",
              "\n",
              "    .colab-df-convert:hover {\n",
              "      background-color: #E2EBFA;\n",
              "      box-shadow: 0px 1px 2px rgba(60, 64, 67, 0.3), 0px 1px 3px 1px rgba(60, 64, 67, 0.15);\n",
              "      fill: #174EA6;\n",
              "    }\n",
              "\n",
              "    .colab-df-buttons div {\n",
              "      margin-bottom: 4px;\n",
              "    }\n",
              "\n",
              "    [theme=dark] .colab-df-convert {\n",
              "      background-color: #3B4455;\n",
              "      fill: #D2E3FC;\n",
              "    }\n",
              "\n",
              "    [theme=dark] .colab-df-convert:hover {\n",
              "      background-color: #434B5C;\n",
              "      box-shadow: 0px 1px 3px 1px rgba(0, 0, 0, 0.15);\n",
              "      filter: drop-shadow(0px 1px 2px rgba(0, 0, 0, 0.3));\n",
              "      fill: #FFFFFF;\n",
              "    }\n",
              "  </style>\n",
              "\n",
              "    <script>\n",
              "      const buttonEl =\n",
              "        document.querySelector('#df-0a441e4e-b164-4d2f-b647-da03365438bb button.colab-df-convert');\n",
              "      buttonEl.style.display =\n",
              "        google.colab.kernel.accessAllowed ? 'block' : 'none';\n",
              "\n",
              "      async function convertToInteractive(key) {\n",
              "        const element = document.querySelector('#df-0a441e4e-b164-4d2f-b647-da03365438bb');\n",
              "        const dataTable =\n",
              "          await google.colab.kernel.invokeFunction('convertToInteractive',\n",
              "                                                    [key], {});\n",
              "        if (!dataTable) return;\n",
              "\n",
              "        const docLinkHtml = 'Like what you see? Visit the ' +\n",
              "          '<a target=\"_blank\" href=https://colab.research.google.com/notebooks/data_table.ipynb>data table notebook</a>'\n",
              "          + ' to learn more about interactive tables.';\n",
              "        element.innerHTML = '';\n",
              "        dataTable['output_type'] = 'display_data';\n",
              "        await google.colab.output.renderOutput(dataTable, element);\n",
              "        const docLink = document.createElement('div');\n",
              "        docLink.innerHTML = docLinkHtml;\n",
              "        element.appendChild(docLink);\n",
              "      }\n",
              "    </script>\n",
              "  </div>\n",
              "\n",
              "\n",
              "    <div id=\"df-0f067ac9-2e61-40ab-959a-6da5e94f3097\">\n",
              "      <button class=\"colab-df-quickchart\" onclick=\"quickchart('df-0f067ac9-2e61-40ab-959a-6da5e94f3097')\"\n",
              "                title=\"Suggest charts\"\n",
              "                style=\"display:none;\">\n",
              "\n",
              "<svg xmlns=\"http://www.w3.org/2000/svg\" height=\"24px\"viewBox=\"0 0 24 24\"\n",
              "     width=\"24px\">\n",
              "    <g>\n",
              "        <path d=\"M19 3H5c-1.1 0-2 .9-2 2v14c0 1.1.9 2 2 2h14c1.1 0 2-.9 2-2V5c0-1.1-.9-2-2-2zM9 17H7v-7h2v7zm4 0h-2V7h2v10zm4 0h-2v-4h2v4z\"/>\n",
              "    </g>\n",
              "</svg>\n",
              "      </button>\n",
              "\n",
              "<style>\n",
              "  .colab-df-quickchart {\n",
              "      --bg-color: #E8F0FE;\n",
              "      --fill-color: #1967D2;\n",
              "      --hover-bg-color: #E2EBFA;\n",
              "      --hover-fill-color: #174EA6;\n",
              "      --disabled-fill-color: #AAA;\n",
              "      --disabled-bg-color: #DDD;\n",
              "  }\n",
              "\n",
              "  [theme=dark] .colab-df-quickchart {\n",
              "      --bg-color: #3B4455;\n",
              "      --fill-color: #D2E3FC;\n",
              "      --hover-bg-color: #434B5C;\n",
              "      --hover-fill-color: #FFFFFF;\n",
              "      --disabled-bg-color: #3B4455;\n",
              "      --disabled-fill-color: #666;\n",
              "  }\n",
              "\n",
              "  .colab-df-quickchart {\n",
              "    background-color: var(--bg-color);\n",
              "    border: none;\n",
              "    border-radius: 50%;\n",
              "    cursor: pointer;\n",
              "    display: none;\n",
              "    fill: var(--fill-color);\n",
              "    height: 32px;\n",
              "    padding: 0;\n",
              "    width: 32px;\n",
              "  }\n",
              "\n",
              "  .colab-df-quickchart:hover {\n",
              "    background-color: var(--hover-bg-color);\n",
              "    box-shadow: 0 1px 2px rgba(60, 64, 67, 0.3), 0 1px 3px 1px rgba(60, 64, 67, 0.15);\n",
              "    fill: var(--button-hover-fill-color);\n",
              "  }\n",
              "\n",
              "  .colab-df-quickchart-complete:disabled,\n",
              "  .colab-df-quickchart-complete:disabled:hover {\n",
              "    background-color: var(--disabled-bg-color);\n",
              "    fill: var(--disabled-fill-color);\n",
              "    box-shadow: none;\n",
              "  }\n",
              "\n",
              "  .colab-df-spinner {\n",
              "    border: 2px solid var(--fill-color);\n",
              "    border-color: transparent;\n",
              "    border-bottom-color: var(--fill-color);\n",
              "    animation:\n",
              "      spin 1s steps(1) infinite;\n",
              "  }\n",
              "\n",
              "  @keyframes spin {\n",
              "    0% {\n",
              "      border-color: transparent;\n",
              "      border-bottom-color: var(--fill-color);\n",
              "      border-left-color: var(--fill-color);\n",
              "    }\n",
              "    20% {\n",
              "      border-color: transparent;\n",
              "      border-left-color: var(--fill-color);\n",
              "      border-top-color: var(--fill-color);\n",
              "    }\n",
              "    30% {\n",
              "      border-color: transparent;\n",
              "      border-left-color: var(--fill-color);\n",
              "      border-top-color: var(--fill-color);\n",
              "      border-right-color: var(--fill-color);\n",
              "    }\n",
              "    40% {\n",
              "      border-color: transparent;\n",
              "      border-right-color: var(--fill-color);\n",
              "      border-top-color: var(--fill-color);\n",
              "    }\n",
              "    60% {\n",
              "      border-color: transparent;\n",
              "      border-right-color: var(--fill-color);\n",
              "    }\n",
              "    80% {\n",
              "      border-color: transparent;\n",
              "      border-right-color: var(--fill-color);\n",
              "      border-bottom-color: var(--fill-color);\n",
              "    }\n",
              "    90% {\n",
              "      border-color: transparent;\n",
              "      border-bottom-color: var(--fill-color);\n",
              "    }\n",
              "  }\n",
              "</style>\n",
              "\n",
              "      <script>\n",
              "        async function quickchart(key) {\n",
              "          const quickchartButtonEl =\n",
              "            document.querySelector('#' + key + ' button');\n",
              "          quickchartButtonEl.disabled = true;  // To prevent multiple clicks.\n",
              "          quickchartButtonEl.classList.add('colab-df-spinner');\n",
              "          try {\n",
              "            const charts = await google.colab.kernel.invokeFunction(\n",
              "                'suggestCharts', [key], {});\n",
              "          } catch (error) {\n",
              "            console.error('Error during call to suggestCharts:', error);\n",
              "          }\n",
              "          quickchartButtonEl.classList.remove('colab-df-spinner');\n",
              "          quickchartButtonEl.classList.add('colab-df-quickchart-complete');\n",
              "        }\n",
              "        (() => {\n",
              "          let quickchartButtonEl =\n",
              "            document.querySelector('#df-0f067ac9-2e61-40ab-959a-6da5e94f3097 button');\n",
              "          quickchartButtonEl.style.display =\n",
              "            google.colab.kernel.accessAllowed ? 'block' : 'none';\n",
              "        })();\n",
              "      </script>\n",
              "    </div>\n",
              "\n",
              "    </div>\n",
              "  </div>\n"
            ],
            "application/vnd.google.colaboratory.intrinsic+json": {
              "type": "dataframe",
              "summary": "{\n  \"name\": \"df\",\n  \"rows\": 90189,\n  \"fields\": [\n    {\n      \"column\": \"userid\",\n      \"properties\": {\n        \"dtype\": \"number\",\n        \"std\": 2879349,\n        \"min\": 337,\n        \"max\": 9999861,\n        \"num_unique_values\": 57030,\n        \"samples\": [\n          4665293,\n          3959645,\n          1838629\n        ],\n        \"semantic_type\": \"\",\n        \"description\": \"\"\n      }\n    },\n    {\n      \"column\": \"version\",\n      \"properties\": {\n        \"dtype\": \"category\",\n        \"num_unique_values\": 2,\n        \"samples\": [\n          \"gate_40\",\n          \"gate_30\"\n        ],\n        \"semantic_type\": \"\",\n        \"description\": \"\"\n      }\n    },\n    {\n      \"column\": \"sum_gamerounds\",\n      \"properties\": {\n        \"dtype\": \"number\",\n        \"std\": 256,\n        \"min\": 0,\n        \"max\": 49854,\n        \"num_unique_values\": 841,\n        \"samples\": [\n          170,\n          926\n        ],\n        \"semantic_type\": \"\",\n        \"description\": \"\"\n      }\n    },\n    {\n      \"column\": \"retention_1\",\n      \"properties\": {\n        \"dtype\": \"boolean\",\n        \"num_unique_values\": 2,\n        \"samples\": [\n          false,\n          true\n        ],\n        \"semantic_type\": \"\",\n        \"description\": \"\"\n      }\n    },\n    {\n      \"column\": \"retention_7\",\n      \"properties\": {\n        \"dtype\": \"boolean\",\n        \"num_unique_values\": 2,\n        \"samples\": [\n          false,\n          true\n        ],\n        \"semantic_type\": \"\",\n        \"description\": \"\"\n      }\n    }\n  ]\n}"
            }
          },
          "metadata": {},
          "execution_count": 14
        }
      ]
    },
    {
      "cell_type": "code",
      "source": [
        "# 從df中做有放回的抽樣, 會得到Bootstrap 的Dataset\n",
        "# 根據'version'來分組\n",
        "# 對每組計算retention_1的平均 = 計算每組的轉換率\n",
        "\n",
        "\n",
        "df.sample(frac = 1,replace = True).groupby('version')['retention_1'].mean()"
      ],
      "metadata": {
        "id": "Tw_YADf2UqM7",
        "colab": {
          "base_uri": "https://localhost:8080/",
          "height": 176
        },
        "outputId": "a5f67c7a-fcaa-464f-f233-00c560cea554"
      },
      "execution_count": 15,
      "outputs": [
        {
          "output_type": "execute_result",
          "data": {
            "text/plain": [
              "version\n",
              "gate_30    0.448601\n",
              "gate_40    0.440727\n",
              "Name: retention_1, dtype: float64"
            ],
            "text/html": [
              "<div>\n",
              "<style scoped>\n",
              "    .dataframe tbody tr th:only-of-type {\n",
              "        vertical-align: middle;\n",
              "    }\n",
              "\n",
              "    .dataframe tbody tr th {\n",
              "        vertical-align: top;\n",
              "    }\n",
              "\n",
              "    .dataframe thead th {\n",
              "        text-align: right;\n",
              "    }\n",
              "</style>\n",
              "<table border=\"1\" class=\"dataframe\">\n",
              "  <thead>\n",
              "    <tr style=\"text-align: right;\">\n",
              "      <th></th>\n",
              "      <th>retention_1</th>\n",
              "    </tr>\n",
              "    <tr>\n",
              "      <th>version</th>\n",
              "      <th></th>\n",
              "    </tr>\n",
              "  </thead>\n",
              "  <tbody>\n",
              "    <tr>\n",
              "      <th>gate_30</th>\n",
              "      <td>0.448601</td>\n",
              "    </tr>\n",
              "    <tr>\n",
              "      <th>gate_40</th>\n",
              "      <td>0.440727</td>\n",
              "    </tr>\n",
              "  </tbody>\n",
              "</table>\n",
              "</div><br><label><b>dtype:</b> float64</label>"
            ]
          },
          "metadata": {},
          "execution_count": 15
        }
      ]
    },
    {
      "cell_type": "code",
      "metadata": {
        "id": "AFIh628oP3yx",
        "outputId": "892d2845-d9ba-43bb-e6cb-fc1d518ad1ea",
        "colab": {
          "base_uri": "https://localhost:8080/",
          "height": 489
        }
      },
      "source": [
        "# Creating an list with bootstrapped means for each AB-group\n",
        "boot_1d = [] # 空列表\n",
        "for i in range(1000): #循環一千次\n",
        "    boot_mean = df.sample(frac = 1,replace = True).groupby('version')['retention_1'].mean()\n",
        "    boot_1d.append(boot_mean)\n",
        "# Sample with replacement有放回的隨機抽樣.抽出的這部分,照著gate_30和40的1-day retention rate\n",
        "# 把每次抽出來的gate_30和40的1-day retention rate 存進boot_mean這個variable裡\n",
        "# 再把它append到空的列表裡.循環一千次,每次都會存進這個空列表裡. 這個空列表裡有一千對的gate_30和40的1-day retention rate\n",
        "\n",
        "# Transforming the list to a DataFrame\n",
        "# 放進DataFrame裡,變成兩列一千行\n",
        "boot_1d = pd.DataFrame(boot_1d)\n",
        "\n",
        "# A Kernel Density Estimate plot of the bootstrap distributions\n",
        "boot_1d.plot(kind='density')\n",
        "plt.xlabel('1-day retention')\n",
        "plt.title('Bootstrapped distribution of 1-day retention')"
      ],
      "execution_count": 16,
      "outputs": [
        {
          "output_type": "execute_result",
          "data": {
            "text/plain": [
              "Text(0.5, 1.0, 'Bootstrapped distribution of 1-day retention')"
            ]
          },
          "metadata": {},
          "execution_count": 16
        },
        {
          "output_type": "display_data",
          "data": {
            "text/plain": [
              "<Figure size 640x480 with 1 Axes>"
            ],
            "image/png": "[encoded data removed]"
          },
          "metadata": {}
        }
      ]
    },
    {
      "cell_type": "markdown",
      "metadata": {
        "id": "02eL2ArJP3yx"
      },
      "source": [
        "These two distributions above represent the bootstrap uncertainty over what the underlying 1-day retention could be for the two AB-groups. There seems to be some evidence of a difference, albeit small. Let's plot the % difference to have a closer look."
      ]
    },
    {
      "cell_type": "code",
      "source": [
        "# 到底這一千對裡,有多少是gate_30比gate_40的1-day retention rate 還要高呢?"
      ],
      "metadata": {
        "id": "fa-zl6ZI1uIk"
      },
      "execution_count": 17,
      "outputs": []
    },
    {
      "cell_type": "code",
      "source": [
        "# 相對差異(relative difference)的計算方式\n",
        "\n",
        "# (舊版本gate_30-新版本gate_40) / 除以新版本 gate_40\n",
        "# 除以新版本gate_40的原因：想知道舊版本比新版本低了多少比例？ = 如果使用新版本gate_40,相較於原本的舊版本gate_30提升了多少？"
      ],
      "metadata": {
        "id": "fiCyhhCfwvj7"
      },
      "execution_count": 18,
      "outputs": []
    },
    {
      "cell_type": "code",
      "metadata": {
        "scrolled": true,
        "id": "Z_r33amOP3yx",
        "outputId": "cfd2ff42-9205-4866-e9a1-bf17dd913945",
        "colab": {
          "base_uri": "https://localhost:8080/",
          "height": 489
        }
      },
      "source": [
        "# Adding a column with the % difference between the two AB-groups\n",
        "# 具體gate_30比gate_40多多少的機率(=difference)？ “使用新版本gate_40,相較於原本的舊版本gate_30提升了多少？”\n",
        "# 把gate_30的1-day retention rate - gate_40的1-day retention rate. 把一千個difference都做這樣的差\n",
        "\n",
        "# 重點：這一行在計算 “舊版本的結果跟新版本相比, 差多少個百分比”. 所以是站在新版本的角度來看差異\n",
        "# 所以除以gate_40是以gate_40為基準的角度去分析\n",
        "\n",
        "boot_1d['diff'] = (boot_1d.gate_30 - boot_1d.gate_40)/boot_1d.gate_40*100\n",
        "\n",
        "# Ploting the bootstrap % difference\n",
        "ax = boot_1d['diff'].plot(kind='density')\n",
        "ax.set_title('% difference in 1-day retention between the two AB-groups')\n",
        "plt.xlabel('% difference') #x軸是具體gate_30比gate_40多多少的機率(=difference), y軸是出現的頻率.\n",
        "\n",
        "# 0 就是gate_30=gate_40的情況. 這個分佈圖的右邊都是gate_30比gate_40好的情況\n",
        "# 那要如何算右邊的面積？有多少是 gate_30 - gate_40 大於0的情況.把一千個difference去和0做判斷.問他是否大於0？\n",
        "# 只要大於0, return True. 那True/False自動返回1/0. 那1/0的平均值就是Probability.\n",
        "\n",
        "# Calculating the probability that 1-day retention is greater when the gate is at level 30\n",
        "print('Probability that 1-day retention is greater when the gate is at level 30:',(boot_1d['diff'] > 0).mean())\n",
        "\n",
        "# 一千對裡有970對都是gate_30 - gate_40 大於0的情況. (gate_30較好的情況) = 97%都是gate_30 比gate_40好的情況"
      ],
      "execution_count": 19,
      "outputs": [
        {
          "output_type": "stream",
          "name": "stdout",
          "text": [
            "Probability that 1-day retention is greater when the gate is at level 30: 0.961\n"
          ]
        },
        {
          "output_type": "display_data",
          "data": {
            "text/plain": [
              "<Figure size 640x480 with 1 Axes>"
            ],
            "image/png": "[encoded data removed]"
          },
          "metadata": {}
        }
      ]
    },
    {
      "cell_type": "markdown",
      "metadata": {
        "id": "HIQs7XyOP3yy"
      },
      "source": [
        "From this chart, we can see that the most likely % difference is around 1% - 2%, and that <strong>96% of the distribution is above 0%, in favor of a gate at level 30. </strong>"
      ]
    },
    {
      "cell_type": "markdown",
      "metadata": {
        "id": "82J9CDAtP3yy"
      },
      "source": [
        "## Part 5. Comparing 7-day Retention  <a name= '5'></a>\n",
        "The bootstrap analysis tells us that there is a high probability that 1-day retention is better when the gate is at level 30. However, since players have only been playing the game for one day, it is likely that most players haven't reached level 30 yet. That is, many players won't have been affected by the gate, even if it's as early as level 30. <p>But after having played for a week, more players should have reached level 40, and therefore it makes sense to also look at 7-day retention."
      ]
    },
    {
      "cell_type": "code",
      "metadata": {
        "id": "6MCcXOGgP3yz",
        "outputId": "cac67cff-9e40-4e13-a48f-7f6e5848b827",
        "colab": {
          "base_uri": "https://localhost:8080/",
          "height": 176
        }
      },
      "source": [
        "df.groupby('version')['retention_7'].mean()"
      ],
      "execution_count": 20,
      "outputs": [
        {
          "output_type": "execute_result",
          "data": {
            "text/plain": [
              "version\n",
              "gate_30    0.190201\n",
              "gate_40    0.182000\n",
              "Name: retention_7, dtype: float64"
            ],
            "text/html": [
              "<div>\n",
              "<style scoped>\n",
              "    .dataframe tbody tr th:only-of-type {\n",
              "        vertical-align: middle;\n",
              "    }\n",
              "\n",
              "    .dataframe tbody tr th {\n",
              "        vertical-align: top;\n",
              "    }\n",
              "\n",
              "    .dataframe thead th {\n",
              "        text-align: right;\n",
              "    }\n",
              "</style>\n",
              "<table border=\"1\" class=\"dataframe\">\n",
              "  <thead>\n",
              "    <tr style=\"text-align: right;\">\n",
              "      <th></th>\n",
              "      <th>retention_7</th>\n",
              "    </tr>\n",
              "    <tr>\n",
              "      <th>version</th>\n",
              "      <th></th>\n",
              "    </tr>\n",
              "  </thead>\n",
              "  <tbody>\n",
              "    <tr>\n",
              "      <th>gate_30</th>\n",
              "      <td>0.190201</td>\n",
              "    </tr>\n",
              "    <tr>\n",
              "      <th>gate_40</th>\n",
              "      <td>0.182000</td>\n",
              "    </tr>\n",
              "  </tbody>\n",
              "</table>\n",
              "</div><br><label><b>dtype:</b> float64</label>"
            ]
          },
          "metadata": {},
          "execution_count": 20
        }
      ]
    },
    {
      "cell_type": "markdown",
      "metadata": {
        "id": "YKtCTTCAP3y0"
      },
      "source": [
        "**Insights:**\n",
        "<ul>\n",
        "    <li><strong>Like with 1-day retention, 7-day retention is slightly lower when the gate is at level 40</strong> (18.2%) than when the gate is at level 30 (19.0%).\n",
        "    <li><strong>This difference is also larger than for 1-day retention</strong>, presumably because more players have had time to hit the first gate.\n",
        "    <li> <strong>The overall 7-day retention is lower than the overall 1-day retention</strong>; fewer people play a game a week after installing than a day after installing.\n",
        "</ul>\n",
        "<p>But as before, let's use bootstrap analysis to figure out how certain we should be of the difference between the AB-groups.</p>"
      ]
    },
    {
      "cell_type": "code",
      "metadata": {
        "id": "TVdSDuYqP3y0",
        "outputId": "f1e8d4e5-bae7-4b96-ed55-5e0e72c82b1e",
        "colab": {
          "base_uri": "https://localhost:8080/",
          "height": 469
        }
      },
      "source": [
        "# Creating a list with bootstrapped means for each AB-group\n",
        "boot_7d = []\n",
        "for i in range(500):\n",
        "    boot_mean = df.sample(frac=1,replace=True).groupby('version')['retention_7'].mean()\n",
        "    boot_7d.append(boot_mean)\n",
        "\n",
        "# Transforming the list to a DataFrame\n",
        "boot_7d = pd.DataFrame(boot_7d)\n",
        "\n",
        "# Adding a column with the % difference between the two AB-groups\n",
        "boot_7d['diff'] = (boot_7d.gate_30 - boot_7d.gate_40)/boot_7d.gate_40*100\n",
        "\n",
        "# Ploting the bootstrap % difference\n",
        "ax = boot_7d['diff'].plot(kind='density')\n",
        "ax.set_title('% difference in 7-day retention between the two AB-groups')\n",
        "\n",
        "# Calculating the probability that 7-day retention is greater when the gate is at level 30\n",
        "print('Probability that 7-day retention is greater when the gate is at level 30:',(boot_7d['diff'] > 0).mean())"
      ],
      "execution_count": 21,
      "outputs": [
        {
          "output_type": "stream",
          "name": "stdout",
          "text": [
            "Probability that 7-day retention is greater when the gate is at level 30: 1.0\n"
          ]
        },
        {
          "output_type": "display_data",
          "data": {
            "text/plain": [
              "<Figure size 640x480 with 1 Axes>"
            ],
            "image/png": "[encoded data removed]"
          },
          "metadata": {}
        }
      ]
    },
    {
      "cell_type": "markdown",
      "metadata": {
        "id": "ESL5EniyP3y1"
      },
      "source": [
        "## Part 6. Conclusion  <a name= '6'></a>\n",
        "<p>The bootstrap result tells us that <strong>there is strong evidence that 7-day retention is higher when the gate is at level 30 than when it is at level 40.</strong> The conclusion is: If we want to keep retention high — both 1-day and 7-day retention — we should not move the gate from level 30 to level 40.\n",
        "<p>There are, of course, other metrics we could look at, like the number of game rounds played or how much in-game purchases are made by the two AB-groups. But retention <em>is</em> one of the most important metrics. If we don't retain our player base, it doesn't matter how much money they spend in-game.</p>\n",
        "\n",
        "\n",
        "<p>So, why is retention higher when the gate is positioned earlier? One could expect the opposite: The later the obstacle, the longer people are going to engage with the game. But this is not what the data tells us. The theory of <em>hedonic adaptation</em> can give one explanation for this.\n",
        "<p>In short, <strong>hedonic adaptation is the tendency for people to get less and less enjoyment out of a fun activity over time if that activity is undertaken continuously.</strong> By forcing players to take a break when they reach a gate, their enjoyment of the game is prolonged. But <strong>when the gate is moved to level 40, fewer players make it far enough, and they are more likely to quit the game because they simply got bored of it. </strong></p>"
      ]
    },
    {
      "cell_type": "markdown",
      "source": [
        "# bonus point = eda- correlation + 3 method -> draw similar conclusion"
      ],
      "metadata": {
        "id": "Mc6beM4rMkIv"
      }
    },
    {
      "cell_type": "markdown",
      "source": [
        "## Bonus #1: EDA - correlation\n",
        "* 做一個eda圖. 顯示sum_gamerounds, retention_1, retention_7的相關性.\n",
        "* 觀察會不會有些人玩的關數多又容易retend？\n",
        "* 1. 把這三列選出來(sum_gamerounds, retention_1, retention_7).corr結合heatmap\n",
        "* 2. 把每一個人標上一個label. T/T, T/F, F/T, F/F 這四種狀況各自標上一個label.\n",
        "* 3. 對於這四個label,看sum_gamerounds的分佈.x軸放這四個label, y軸放sum_gamerounds的分佈(畫boxplot), hue = control group 和 treatment group, 用bins畫出四個label的分佈"
      ],
      "metadata": {
        "id": "2UWvJgLYW9RW"
      }
    },
    {
      "cell_type": "code",
      "source": [
        "df_corr = df[['sum_gamerounds','retention_1','retention_7']].corr()"
      ],
      "metadata": {
        "id": "5PVX9UtsS1N8"
      },
      "execution_count": 22,
      "outputs": []
    },
    {
      "cell_type": "code",
      "source": [
        "plt.figure(figsize = (6,4))\n",
        "sns.heatmap(df_corr, annot = True)\n",
        "plt.title(\"Correlation Heatmap: sum_gamerounds vs retention\")\n",
        "plt.show()"
      ],
      "metadata": {
        "colab": {
          "base_uri": "https://localhost:8080/",
          "height": 391
        },
        "id": "xutTf1buTePh",
        "outputId": "28949243-899a-43e7-ca6a-9409f37d0f8d"
      },
      "execution_count": 23,
      "outputs": [
        {
          "output_type": "display_data",
          "data": {
            "text/plain": [
              "<Figure size 600x400 with 2 Axes>"
            ],
            "image/png": "[encoded data removed]"
          },
          "metadata": {}
        }
      ]
    },
    {
      "cell_type": "code",
      "source": [
        "# 建立label的列(根據retention_1和retention_7)\n",
        "# 用apply(row)搭配 axis=1. 代表要對dataframe中的每一row做處理,並根據每一列的retention_1和retention_7 決定它的 類別label\n",
        "# 如果retention_1 ==True, 就用'T',否則'F'\n",
        "# 如果retention_7 ==True, 就用'T',否則'F', 這兩句用／隔開\n",
        "# 再把這一整段儲存在新的列,叫做'label'裡\n",
        "\n",
        "df['label'] = df.apply(lambda row:\n",
        "                       f\"{'T' if row['retention_1'] else 'F'}/{'T' if row['retention_7'] else 'F'}\",\n",
        "                       axis=1)"
      ],
      "metadata": {
        "id": "RjZ3WWPVSycF"
      },
      "execution_count": 24,
      "outputs": []
    },
    {
      "cell_type": "code",
      "source": [
        "plt.figure(figsize = (10,6))\n",
        "sns.boxplot(x = 'label', y = 'sum_gamerounds', data = df, hue = 'version')\n",
        "plt.ylim(0,1000)\n",
        "plt.title(\"Boxplot of sum_gamerounds by label and group\")\n",
        "plt.xlabel(\"Retention Label (T/F)\")\n",
        "plt.ylabel(\"Sum of Gamerounds\")\n",
        "plt.show()"
      ],
      "metadata": {
        "colab": {
          "base_uri": "https://localhost:8080/",
          "height": 564
        },
        "id": "AmHSY4Blkz70",
        "outputId": "48387740-0ca3-4622-b064-349dae63fdaf"
      },
      "execution_count": 25,
      "outputs": [
        {
          "output_type": "display_data",
          "data": {
            "text/plain": [
              "<Figure size 1000x600 with 1 Axes>"
            ],
            "image/png": "[encoded data removed]"
          },
          "metadata": {}
        }
      ]
    },
    {
      "cell_type": "markdown",
      "source": [
        "## Bonus #2-1 : 1-day retention rate\n",
        "\n",
        "* (1) Z-test 套公式 ＋ 調包\n",
        "* (2) T-test 套公式 ＋ 調包\n",
        "* (3) Bootstrapping"
      ],
      "metadata": {
        "id": "Ji6iG_Y8XqOD"
      }
    },
    {
      "cell_type": "markdown",
      "source": [
        "###(1) Z-test 套公式 ＋ 調包"
      ],
      "metadata": {
        "id": "rXGBiI2m6AV0"
      }
    },
    {
      "cell_type": "code",
      "source": [
        "# 計算retention_1的留存率是多少\n",
        "\n",
        "df['retention_1'].sum() / df['retention_1'].count()\n",
        "\n",
        "# 1-day retention rate for each AB group\n",
        "\n",
        "df.groupby('version')['retention_1'].mean()"
      ],
      "metadata": {
        "colab": {
          "base_uri": "https://localhost:8080/",
          "height": 176
        },
        "id": "T2bpK4hTH4R2",
        "outputId": "7b4cefee-69a1-4ac6-e808-5f8a6a0bc32d"
      },
      "execution_count": 26,
      "outputs": [
        {
          "output_type": "execute_result",
          "data": {
            "text/plain": [
              "version\n",
              "gate_30    0.448188\n",
              "gate_40    0.442283\n",
              "Name: retention_1, dtype: float64"
            ],
            "text/html": [
              "<div>\n",
              "<style scoped>\n",
              "    .dataframe tbody tr th:only-of-type {\n",
              "        vertical-align: middle;\n",
              "    }\n",
              "\n",
              "    .dataframe tbody tr th {\n",
              "        vertical-align: top;\n",
              "    }\n",
              "\n",
              "    .dataframe thead th {\n",
              "        text-align: right;\n",
              "    }\n",
              "</style>\n",
              "<table border=\"1\" class=\"dataframe\">\n",
              "  <thead>\n",
              "    <tr style=\"text-align: right;\">\n",
              "      <th></th>\n",
              "      <th>retention_1</th>\n",
              "    </tr>\n",
              "    <tr>\n",
              "      <th>version</th>\n",
              "      <th></th>\n",
              "    </tr>\n",
              "  </thead>\n",
              "  <tbody>\n",
              "    <tr>\n",
              "      <th>gate_30</th>\n",
              "      <td>0.448188</td>\n",
              "    </tr>\n",
              "    <tr>\n",
              "      <th>gate_40</th>\n",
              "      <td>0.442283</td>\n",
              "    </tr>\n",
              "  </tbody>\n",
              "</table>\n",
              "</div><br><label><b>dtype:</b> float64</label>"
            ]
          },
          "metadata": {},
          "execution_count": 26
        }
      ]
    },
    {
      "cell_type": "code",
      "source": [
        "# 這只是樣本(觀察)的結論\n",
        "# 發現gate_30的留存率比gate_40的留存率高,但不能肯定總體也是相同的結論."
      ],
      "metadata": {
        "id": "7J3aZzZMlQSw"
      },
      "execution_count": 27,
      "outputs": []
    },
    {
      "cell_type": "markdown",
      "source": [
        "1. 理解要計算的指標：retention_1\n",
        "\n",
        "* df['retention_1'] 是一個 0 或 1 的欄位（1 = 使用者隔天有回來）\n",
        "* 所以可以用 .sum() 來看有幾個人回來\n",
        "* .count() 看的是這個 group 裡總共有幾個人"
      ],
      "metadata": {
        "id": "Bx9SCJ7Ryil2"
      }
    },
    {
      "cell_type": "markdown",
      "source": [
        "2. 定義要套入公式的四個數值\n",
        "\n",
        "* convert_old = 舊版本（control）中，有回來的總人數(轉換人數)\n",
        "* convert_new = 新版本（treatment）中，有回來的總人數(轉換人數)\n",
        "* n_old = 舊版本中總人數（分母）\n",
        "* n_new = 新版本中總人數（分母）"
      ],
      "metadata": {
        "id": "gDRS2bTXy_Bo"
      }
    },
    {
      "cell_type": "code",
      "source": [
        "# 3. 轉換成功的數量(1-day retention 為 1 的人數)\n",
        "\n",
        "convert_old = df[df['version'] == 'gate_30']['retention_1'].sum() # 舊版本中，在第一天有回來的使用者人數\n",
        "convert_new = df[df['version'] == 'gate_40']['retention_1'].sum() # 新版本中，在第一天有回來的使用者人數\n",
        "\n",
        "# 計算樣本人數\n",
        "\n",
        "n_old = df[df['version'] == 'gate_30']['retention_1'].count()\n",
        "n_new = df[df['version'] == 'gate_40']['retention_1'].count()\n"
      ],
      "metadata": {
        "id": "AmbKMrpsIFd_"
      },
      "execution_count": 28,
      "outputs": []
    },
    {
      "cell_type": "code",
      "source": [
        "# 4. 計算轉換率（p1, p0）＋ Z 值\n",
        "\n",
        "# 轉換率（= 有回來的人 / 總人數）\n",
        "\n",
        "p1 = convert_new / n_new\n",
        "p0 = convert_old / n_old\n",
        "n1 = n_new\n",
        "n0 = n_old"
      ],
      "metadata": {
        "id": "jhz6MjKf4tkP"
      },
      "execution_count": 29,
      "outputs": []
    },
    {
      "cell_type": "code",
      "source": [
        "# Method 1. 1-day retention rate Z - Test 套公式\n",
        "\n",
        "def z_test(p1,p0,n1,n0):\n",
        "    delta = p1-p0\n",
        "    p = (p1*n1 + p0*n0) / (n1+n0)\n",
        "    return delta / np.sqrt(p*(1-p)*(1/n1 + 1/n0))"
      ],
      "metadata": {
        "id": "kKwqqFaYHqFm"
      },
      "execution_count": 30,
      "outputs": []
    },
    {
      "cell_type": "code",
      "source": [
        "# 計算 Z 值\n",
        "\n",
        "z_value = z_test(p1,p0,n1,n0)\n",
        "z_value"
      ],
      "metadata": {
        "colab": {
          "base_uri": "https://localhost:8080/"
        },
        "id": "iUZ1eH8TJnrl",
        "outputId": "57393207-11e6-437e-ea24-89cdf54cbc2c"
      },
      "execution_count": 31,
      "outputs": [
        {
          "output_type": "execute_result",
          "data": {
            "text/plain": [
              "np.float64(-1.7840862247974725)"
            ]
          },
          "metadata": {},
          "execution_count": 31
        }
      ]
    },
    {
      "cell_type": "code",
      "source": [
        "# 5. 計算 p-value\n",
        "# 通過查表 或 scipy.stats函數, 得出p-value\n",
        "\n",
        "from scipy.stats import norm\n",
        "p_value = 1- norm.cdf(z_value)\n",
        "\n",
        "# Method1. 套公式結論\n",
        "print(\"Z-test:\", z_value)\n",
        "print(\"P-value:\", p_value)\n",
        "\n",
        "# 比較p-value 和 alpha\n",
        "if p_value < 0.05:\n",
        "    print(\"Reject null hypothesis\")\n",
        "else:\n",
        "    print(\"Fail to reject null hypothesis\")"
      ],
      "metadata": {
        "colab": {
          "base_uri": "https://localhost:8080/"
        },
        "id": "ZvYpmC9uJw4m",
        "outputId": "641eeff1-0579-4461-c05d-3035ce01eb42"
      },
      "execution_count": 32,
      "outputs": [
        {
          "output_type": "stream",
          "name": "stdout",
          "text": [
            "Z-test: -1.7840862247974725\n",
            "P-value: 0.9627951723515404\n",
            "Fail to reject null hypothesis\n"
          ]
        }
      ]
    },
    {
      "cell_type": "code",
      "source": [
        "# Method 2. 1-day retention rate Z - Test 調包\n",
        "import statsmodels.api as sm"
      ],
      "metadata": {
        "id": "oWoLgPgTJ5DP"
      },
      "execution_count": 33,
      "outputs": []
    },
    {
      "cell_type": "code",
      "source": [
        "z_score, p_value = sm.stats.proportions_ztest([convert_new, convert_old], [n_new, n_old], alternative='larger')\n",
        "\n",
        "# Method 2. 調包結論\n",
        "\n",
        "print(\"Z-test:\", z_score)\n",
        "print(\"P-value:\", p_value)\n",
        "\n",
        "# 比較p-value 和 alpha\n",
        "\n",
        "if p_value < 0.05:\n",
        "    print(\"Reject null hypothesis\")\n",
        "else:\n",
        "    print(\"Fail to reject null hypothesis\")"
      ],
      "metadata": {
        "id": "sdqC4qNZKBdX",
        "colab": {
          "base_uri": "https://localhost:8080/"
        },
        "outputId": "86b84ec1-6e02-4dca-c481-95cb60db9925"
      },
      "execution_count": 34,
      "outputs": [
        {
          "output_type": "stream",
          "name": "stdout",
          "text": [
            "Z-test: -1.7840862247974725\n",
            "P-value: 0.9627951723515404\n",
            "Fail to reject null hypothesis\n"
          ]
        }
      ]
    },
    {
      "cell_type": "markdown",
      "source": [
        "### (2) T-test 套公式 ＋ 調包"
      ],
      "metadata": {
        "id": "Vc2LidCC6I7w"
      }
    },
    {
      "cell_type": "markdown",
      "source": [
        "1. T-test 檢定目的：\n",
        "* 比較 gate_30 vs gate_40 兩組「樣本的平均值」是否顯著不同\n",
        "* 這個平均值仍是 retention_1，所以是 binary 值的平均，代表轉換率"
      ],
      "metadata": {
        "id": "Y7kHZDzcF_eD"
      }
    },
    {
      "cell_type": "markdown",
      "source": [
        "2. 定義要套入公式的四個數值\n",
        "* 只需要每組的平均和樣本數\n",
        "\n",
        "* po = gate_30 的轉換率 = retention_1的平均值\n",
        "* p1 = gate_40 的轉換率 = retention_1的平均值\n",
        "\n",
        "* no = gate_30 的樣本數\n",
        "* n1 = gate_40 的樣本數"
      ],
      "metadata": {
        "id": "0DS6LCJ0GoW1"
      }
    },
    {
      "cell_type": "code",
      "source": [
        "# 每組rentention_1 平均值\n",
        "\n",
        "p1 = df[df['version'] == 'gate_40']['retention_1'].mean()\n",
        "p0 = df[df['version'] == 'gate_30']['retention_1'].mean()\n",
        "\n",
        "# 每組樣本數\n",
        "\n",
        "n1 = df[df['version'] == 'gate_40']['retention_1'].count()\n",
        "n0 = df[df['version'] == 'gate_30']['retention_1'].count()"
      ],
      "metadata": {
        "id": "CFFMTQHnLnsZ"
      },
      "execution_count": 35,
      "outputs": []
    },
    {
      "cell_type": "code",
      "source": [
        "# Method 1: 套用公式算出t-value和p-value的步驟 (手動計算Ｔ-test)\n",
        "\n",
        "def t_test(p1, p0, n1, n0):\n",
        "    # 各組的樣本變異數（Bernoulli 分布的近似變異數）\n",
        "    s1_squared = p1 * (1 - p1)\n",
        "    s0_squared = p0 * (1 - p0)\n",
        "\n",
        "    # t 值計算\n",
        "    delta = p1 - p0\n",
        "    se = np.sqrt(s1_squared / n1 + s0_squared / n0)\n",
        "    return delta / se"
      ],
      "metadata": {
        "id": "MLM1YmPM_ggN"
      },
      "execution_count": 36,
      "outputs": []
    },
    {
      "cell_type": "code",
      "source": [
        "# 得出t_value 和 p_value\n",
        "\n",
        "t_value = t_test(p1, p0, n1, n0)\n",
        "print(\"T-value:\", t_value)\n",
        "\n",
        "from scipy.stats import t\n",
        "p_value = 1 - t.cdf(t_value, df=n1+n0-2)\n",
        "print(\"P-value:\", p_value)\n",
        "\n",
        "# 比較p-value 和 alpha\n",
        "\n",
        "if p_value < 0.05:\n",
        "    print(\"Reject null hypothesis\")\n",
        "else:\n",
        "    print(\"Fail to reject null hypothesis\")"
      ],
      "metadata": {
        "colab": {
          "base_uri": "https://localhost:8080/"
        },
        "id": "xo89w1Qd_moW",
        "outputId": "0862d928-23d4-47ea-d1a4-9677106deca6"
      },
      "execution_count": 37,
      "outputs": [
        {
          "output_type": "stream",
          "name": "stdout",
          "text": [
            "T-value: -1.7840972718297632\n",
            "P-value: 0.9627943892602068\n",
            "Fail to reject null hypothesis\n"
          ]
        }
      ]
    },
    {
      "cell_type": "code",
      "source": [
        "# Method 2. T-test 調包\n",
        "\n",
        "from statsmodels.stats.weightstats import ttest_ind"
      ],
      "metadata": {
        "id": "j8Cx2T8qPyi8"
      },
      "execution_count": 38,
      "outputs": []
    },
    {
      "cell_type": "code",
      "source": [
        "# 1. 傳入整組 retention_1 資料（每筆都是 0 或 1）\n",
        "\n",
        "retention_30 = df[df['version'] == 'gate_30']['retention_1']\n",
        "retention_40 = df[df['version'] == 'gate_40']['retention_1']\n",
        "\n",
        "# 2. 計算 t-test（alternative='larger' 是單尾檢定：gate_40 > gate_30）\n",
        "t_stat, p_value, dfree = ttest_ind(retention_40, retention_30, alternative='larger')\n",
        "\n",
        "\n",
        "# Method 2. 調包結論\n",
        "\n",
        "print(\"T-value:\", t_stat)\n",
        "print(\"P-value:\", p_value)\n",
        "\n",
        "# 比較p-value 和 alpha\n",
        "\n",
        "if p_value < 0.05:\n",
        "    print(\"Reject null hypothesis\")\n",
        "else:\n",
        "    print(\"Fail to reject null hypothesis\")\n"
      ],
      "metadata": {
        "colab": {
          "base_uri": "https://localhost:8080/"
        },
        "id": "ZyFCetJMP2FU",
        "outputId": "6675424e-7105-4a95-aaae-c4e538eff46f"
      },
      "execution_count": 39,
      "outputs": [
        {
          "output_type": "stream",
          "name": "stdout",
          "text": [
            "T-value: -1.7840979256519554\n",
            "P-value: 0.9627944423721833\n",
            "Fail to reject null hypothesis\n"
          ]
        }
      ]
    },
    {
      "cell_type": "markdown",
      "source": [
        "### (3) Bootstrapping"
      ],
      "metadata": {
        "id": "8UdZBFcJ6T2M"
      }
    },
    {
      "cell_type": "code",
      "source": [
        "# Adding a column with the % difference between the two AB-groups\n",
        "# 具體gate_30比gate_40多多少的機率(=difference)？ “使用新版本gate_40,相較於原本的舊版本gate_30提升了多少？”\n",
        "# 把gate_30的1-day retention rate - gate_40的1-day retention rate. 把一千個difference都做這樣的差\n",
        "\n",
        "# 重點：這一行在計算 “舊版本的結果跟新版本相比, 差多少個百分比”. 所以是站在新版本的角度來看差異\n",
        "# 所以除以gate_40是以gate_40為基準的角度去分析\n",
        "\n",
        "boot_1d['diff'] = (boot_1d.gate_30 - boot_1d.gate_40)/boot_1d.gate_40*100\n",
        "\n",
        "# Ploting the bootstrap % difference\n",
        "ax = boot_1d['diff'].plot(kind='density')\n",
        "ax.set_title('% difference in 1-day retention between the two AB-groups')\n",
        "plt.xlabel('% difference') #x軸是具體gate_30比gate_40多多少的機率(=difference), y軸是出現的頻率.\n",
        "\n",
        "# 0 就是gate_30=gate_40的情況. 這個分佈圖的右邊都是gate_30比gate_40好的情況\n",
        "# 那要如何算右邊的面積？有多少是 gate_30 - gate_40 大於0的情況.把一千個difference去和0做判斷.問他是否大於0？\n",
        "# 只要大於0, return True. 那True/False自動返回1/0. 那1/0的平均值就是Probability.\n",
        "\n",
        "# Calculating the probability that 1-day retention is greater when the gate is at level 30\n",
        "print('Probability that 1-day retention is greater when the gate is at level 30:',(boot_1d['diff'] > 0).mean())\n",
        "\n",
        "# 一千對裡有970對都是gate_30 - gate_40 大於0的情況. (gate_30較好的情況) = 97%都是gate_30 比gate_40好的情況"
      ],
      "metadata": {
        "colab": {
          "base_uri": "https://localhost:8080/",
          "height": 489
        },
        "id": "FyC_GIay6ZMj",
        "outputId": "02783c74-e246-41df-97cc-d8ea56347afc"
      },
      "execution_count": 40,
      "outputs": [
        {
          "output_type": "stream",
          "name": "stdout",
          "text": [
            "Probability that 1-day retention is greater when the gate is at level 30: 0.961\n"
          ]
        },
        {
          "output_type": "display_data",
          "data": {
            "text/plain": [
              "<Figure size 640x480 with 1 Axes>"
            ],
            "image/png": "[encoded data removed]"
          },
          "metadata": {}
        }
      ]
    },
    {
      "cell_type": "markdown",
      "source": [
        "## Bonus #2-2 : 7-day retention rate\n",
        "\n",
        "* (1) Z-test 套公式 ＋ 調包\n",
        "* (2) T-test 套公式 ＋ 調包\n",
        "* (3) Bootstrapping"
      ],
      "metadata": {
        "id": "eek7NmwOrdML"
      }
    },
    {
      "cell_type": "markdown",
      "source": [
        "### (1) Z-test 套公式 ＋ 調包"
      ],
      "metadata": {
        "id": "DBw4G7dG6kOc"
      }
    },
    {
      "cell_type": "code",
      "source": [
        "# 3. 轉換成功的數量(7-day retention 為 1 的人數)\n",
        "\n",
        "convert_old = df[df['version'] == 'gate_30']['retention_7'].sum() # 舊版本中，在第一天有回來的使用者人數\n",
        "convert_new = df[df['version'] == 'gate_40']['retention_7'].sum() # 新版本中，在第一天有回來的使用者人數\n",
        "\n",
        "# 計算樣本人數\n",
        "\n",
        "n_old = df[df['version'] == 'gate_30']['retention_7'].count()\n",
        "n_new = df[df['version'] == 'gate_40']['retention_7'].count()"
      ],
      "metadata": {
        "id": "oFr7OI2VqO2C"
      },
      "execution_count": 41,
      "outputs": []
    },
    {
      "cell_type": "code",
      "source": [
        "# 4. 計算轉換率（p1, p0）＋ Z 值\n",
        "\n",
        "# 轉換率（= 有回來的人 / 總人數）\n",
        "\n",
        "p1 = convert_new / n_new\n",
        "p0 = convert_old / n_old\n",
        "n1 = n_new\n",
        "n0 = n_old"
      ],
      "metadata": {
        "id": "a4HOi73LqUNq"
      },
      "execution_count": 42,
      "outputs": []
    },
    {
      "cell_type": "code",
      "source": [
        "# Method 1. 1-day retention rate Z - Test 套公式\n",
        "\n",
        "def z_test(p1,p0,n1,n0):\n",
        "    delta = p1-p0\n",
        "    p = (p1*n1 + p0*n0) / (n1+n0)\n",
        "    return delta / np.sqrt(p*(1-p)*(1/n1 + 1/n0))\n",
        "\n",
        "# 計算 Z 值\n",
        "\n",
        "z_value = z_test(p1,p0,n1,n0)\n",
        "\n",
        "# 計算 p-value\n",
        "# 通過查表 或 scipy.stats函數, 得出p-value\n",
        "\n",
        "from scipy.stats import norm\n",
        "p_value = 1- norm.cdf(z_value)\n",
        "\n",
        "# Method1. 套公式結論\n",
        "print(\"Z-test:\", z_value)\n",
        "print(\"P-value:\", p_value)\n",
        "\n",
        "# 比較p-value 和 alpha\n",
        "if p_value < 0.05:\n",
        "    print(\"Reject null hypothesis\")\n",
        "else:\n",
        "    print(\"Fail to reject null hypothesis\")\n"
      ],
      "metadata": {
        "colab": {
          "base_uri": "https://localhost:8080/"
        },
        "id": "Ip1K2lfHqXe7",
        "outputId": "5ae36072-0519-4f11-e8a9-24d0e6122145"
      },
      "execution_count": 43,
      "outputs": [
        {
          "output_type": "stream",
          "name": "stdout",
          "text": [
            "Z-test: -3.164358912748191\n",
            "P-value: 0.9992228750121929\n",
            "Fail to reject null hypothesis\n"
          ]
        }
      ]
    },
    {
      "cell_type": "code",
      "source": [
        "# Method 2. 1-day retention rate Z - Test 調包\n",
        "import statsmodels.api as sm"
      ],
      "metadata": {
        "id": "q7Yz1WiPqqod"
      },
      "execution_count": 44,
      "outputs": []
    },
    {
      "cell_type": "code",
      "source": [
        "z_score, p_value = sm.stats.proportions_ztest([convert_new, convert_old], [n_new, n_old], alternative='larger')\n",
        "\n",
        "# Method 2. 調包結論\n",
        "\n",
        "print(\"Z-test:\", z_score)\n",
        "print(\"P-value:\", p_value)\n",
        "\n",
        "# 比較p-value 和 alpha\n",
        "\n",
        "if p_value < 0.05:\n",
        "    print(\"Reject null hypothesis\")\n",
        "else:\n",
        "    print(\"Fail to reject null hypothesis\")"
      ],
      "metadata": {
        "colab": {
          "base_uri": "https://localhost:8080/"
        },
        "id": "APTFeY-yqwTD",
        "outputId": "f7249890-a933-4f89-8b26-44309ea46c34"
      },
      "execution_count": 45,
      "outputs": [
        {
          "output_type": "stream",
          "name": "stdout",
          "text": [
            "Z-test: -3.164358912748191\n",
            "P-value: 0.9992228750121929\n",
            "Fail to reject null hypothesis\n"
          ]
        }
      ]
    },
    {
      "cell_type": "markdown",
      "source": [
        "### (2) T-test 套公式 ＋ 調包"
      ],
      "metadata": {
        "id": "KqN98iXS6e-m"
      }
    },
    {
      "cell_type": "code",
      "source": [
        "# 每組rentention_1 平均值\n",
        "\n",
        "p1 = df[df['version'] == 'gate_40']['retention_7'].mean()\n",
        "p0 = df[df['version'] == 'gate_30']['retention_7'].mean()\n",
        "\n",
        "# 每組樣本數\n",
        "\n",
        "n1 = df[df['version'] == 'gate_40']['retention_7'].count()\n",
        "n0 = df[df['version'] == 'gate_30']['retention_7'].count()"
      ],
      "metadata": {
        "id": "JP-eK5U6rpfX"
      },
      "execution_count": 46,
      "outputs": []
    },
    {
      "cell_type": "code",
      "source": [
        "# Method 1: 套用公式算出t-value和p-value的步驟 (手動計算Ｔ-test)\n",
        "\n",
        "def t_test(p1, p0, n1, n0):\n",
        "    # 各組的樣本變異數（Bernoulli 分布的近似變異數）\n",
        "    s1_squared = p1 * (1 - p1)\n",
        "    s0_squared = p0 * (1 - p0)\n",
        "\n",
        "    # t 值計算\n",
        "    delta = p1 - p0\n",
        "    se = np.sqrt(s1_squared / n1 + s0_squared / n0)\n",
        "    return delta / se"
      ],
      "metadata": {
        "id": "mamOviFBrv0_"
      },
      "execution_count": 47,
      "outputs": []
    },
    {
      "cell_type": "code",
      "source": [
        "# 得出t_value 和 p_value\n",
        "\n",
        "t_value = t_test(p1, p0, n1, n0)\n",
        "print(\"T-value:\", t_value)\n",
        "\n",
        "from scipy.stats import t\n",
        "p_value = 1 - t.cdf(t_value, df=n1+n0-2)\n",
        "print(\"P-value:\", p_value)\n",
        "\n",
        "# 比較p-value 和 alpha\n",
        "\n",
        "if p_value < 0.05:\n",
        "    print(\"Reject null hypothesis\")\n",
        "else:\n",
        "    print(\"Fail to reject null hypothesis\")"
      ],
      "metadata": {
        "colab": {
          "base_uri": "https://localhost:8080/"
        },
        "id": "EtuvyTsIr6c9",
        "outputId": "9b50d637-423f-410d-ece1-7bc294a48241"
      },
      "execution_count": 48,
      "outputs": [
        {
          "output_type": "stream",
          "name": "stdout",
          "text": [
            "T-value: -3.1640640401490985\n",
            "P-value: 0.9992218290437873\n",
            "Fail to reject null hypothesis\n"
          ]
        }
      ]
    },
    {
      "cell_type": "code",
      "source": [
        "# Method 2. T-test 調包\n",
        "\n",
        "from statsmodels.stats.weightstats import ttest_ind"
      ],
      "metadata": {
        "id": "odtqwGVZsFHR"
      },
      "execution_count": 49,
      "outputs": []
    },
    {
      "cell_type": "code",
      "source": [
        "# 1. 傳入整組 retention_7 資料（每筆都是 0 或 1）\n",
        "\n",
        "retention_30 = df[df['version'] == 'gate_30']['retention_7']\n",
        "retention_40 = df[df['version'] == 'gate_40']['retention_7']\n",
        "\n",
        "# 2. 計算 t-test（alternative='larger' 是單尾檢定：gate_40 > gate_30）\n",
        "t_stat, p_value, dfree = ttest_ind(retention_40, retention_30, alternative='larger')\n",
        "\n",
        "\n",
        "# Method 2. 調包結論\n",
        "\n",
        "print(\"T-value:\", t_stat)\n",
        "print(\"P-value:\", p_value)\n",
        "\n",
        "# 比較p-value 和 alpha\n",
        "\n",
        "if p_value < 0.05:\n",
        "    print(\"Reject null hypothesis\")\n",
        "else:\n",
        "    print(\"Fail to reject null hypothesis\")"
      ],
      "metadata": {
        "colab": {
          "base_uri": "https://localhost:8080/"
        },
        "id": "dVIWttWJsNSM",
        "outputId": "a1f5f414-14e2-4fd4-d810-531502c6b1f1"
      },
      "execution_count": 50,
      "outputs": [
        {
          "output_type": "stream",
          "name": "stdout",
          "text": [
            "T-value: -3.164499499680265\n",
            "P-value: 0.9992229924399456\n",
            "Fail to reject null hypothesis\n"
          ]
        }
      ]
    },
    {
      "cell_type": "markdown",
      "source": [
        "### (3) Bootstapping"
      ],
      "metadata": {
        "id": "-pWWmlOg6a99"
      }
    },
    {
      "cell_type": "code",
      "source": [
        "# 具體gate_30比gate_40多多少的機率(=difference)？ “使用新版本gate_40,相較於原本的舊版本gate_30提升了多少？”\n",
        "# 把gate_30的1-day retention rate - gate_40的1-day retention rate. 把一千個difference都做這樣的差\n",
        "\n",
        "# 重點：這一行在計算 “舊版本的結果跟新版本相比, 差多少個百分比”. 所以是站在新版本的角度來看差異\n",
        "# 所以除以gate_40是以gate_40為基準的角度去分析\n",
        "\n",
        "boot_7d = []\n",
        "for i in range(500):\n",
        "    boot_mean = df.sample(frac=1,replace=True).groupby('version')['retention_7'].mean()\n",
        "    boot_7d.append(boot_mean)\n",
        "\n",
        "\n",
        "boot_7d = pd.DataFrame(boot_7d)\n",
        "\n",
        "# Adding a column with the % difference between the two AB-groups\n",
        "boot_7d['diff'] = (boot_7d.gate_30 - boot_7d.gate_40)/boot_7d.gate_40*100\n",
        "\n",
        "# Ploting the bootstrap % difference\n",
        "ax = boot_7d['diff'].plot(kind='density')\n",
        "ax.set_title('% difference in 7-day retention between the two AB-groups')\n",
        "\n",
        "# 0 就是gate_30=gate_40的情況. 這個分佈圖的右邊都是gate_30比gate_40好的情況\n",
        "# 那要如何算右邊的面積？有多少是 gate_30 - gate_40 大於0的情況.把一千個difference去和0做判斷.問他是否大於0？\n",
        "# 只要大於0, return True. 那True/False自動返回1/0. 那1/0的平均值就是Probability.\n",
        "# Calculating the probability that 7-day retention is greater when the gate is at level 30\n",
        "print('Probability that 7-day retention is greater when the gate is at level 30:',(boot_7d['diff'] > 0).mean())\n",
        "\n",
        "# 一千對裡有970對都是gate_30 - gate_40 大於0的情況. (gate_30較好的情況) = 97%都是gate_30 比gate_40好的情況"
      ],
      "metadata": {
        "colab": {
          "base_uri": "https://localhost:8080/",
          "height": 469
        },
        "id": "h8x-IR3DEDOm",
        "outputId": "809709fe-c9bf-4eb4-eab9-f84f8e3c64b7"
      },
      "execution_count": 51,
      "outputs": [
        {
          "output_type": "stream",
          "name": "stdout",
          "text": [
            "Probability that 7-day retention is greater when the gate is at level 30: 1.0\n"
          ]
        },
        {
          "output_type": "display_data",
          "data": {
            "text/plain": [
              "<Figure size 640x480 with 1 Axes>"
            ],
            "image/png": "[encoded data removed]"
          },
          "metadata": {}
        }
      ]
    }
  ]
}