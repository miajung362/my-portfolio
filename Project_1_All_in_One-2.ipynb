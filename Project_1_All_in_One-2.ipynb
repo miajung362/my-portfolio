{
  "nbformat": 4,
  "nbformat_minor": 0,
  "metadata": {
    "colab": {
      "provenance": [],
      "collapsed_sections": [
        "vMn9RHPv5fbz",
        "a6if9CzLBegk",
        "JBJmmqAQ_-HK",
        "aZ6t6rG5BxMd",
        "LgOjY1KE9lRj",
        "oghxeQya8YvY",
        "hIxa6N918tfS",
        "zHYx2f74814e",
        "DcLje1Q3-z4J",
        "jq23_JBc8mza",
        "NqVYphwb8wih",
        "y9F7ahJIAcvd",
        "TX5kg0HP84K-",
        "n2ZJ6B6aFmXW",
        "94YW4sD9GTaE",
        "EZr7R97sGZr_",
        "Jqbo0pOFGWhU",
        "2zsn3Uc6F5vw",
        "cWzmUbcxGIJG",
        "wfKMAL8yIlJ0",
        "AF2hSv488gCW",
        "egMaFNMJHYve",
        "y3qsxNGALNXw",
        "fpkk0gIwvB4j",
        "ga40TlAnPxWr",
        "RniqMjx-0MVr",
        "TQdCJrk31zoy",
        "GI964d_2Ps9W",
        "jJpeYqYWH2Jl",
        "EPDV_7ORauhH",
        "emoaPmmvIGNv",
        "G0hXM2_lboYe",
        "CteFhHLnbrSI",
        "xP6bWMRKJxXh",
        "JyWJ1cuaXsl8",
        "9LUklqn3X3tc",
        "uXwvL0hzSf-d",
        "trhrnObMOL86",
        "Xn06SXUJRLmt",
        "QLq0n9xFRQeY",
        "I0knZo9jRj2-",
        "v5vcvO23lyUf",
        "QmUKPH64jKx6",
        "slI_y9hPkOPI",
        "VGBEZQHik_5-",
        "ubJUxgOslfut",
        "D4cY_c1elmKu",
        "KgWLW6lCPuew",
        "S8W8oe9g1m2q",
        "mbEwo_Xn1iXI",
        "gEnWf2A51eIk",
        "uEUYGXei1c2l",
        "p5qOeamg1XOE",
        "7xjZtVRS1Tup",
        "JjsOPiod1QY4",
        "tEPn753P1QTX",
        "Jh_fSVV69T60",
        "X4E0OCQY9bfx",
        "3s2rTsLQ9f33",
        "-P7JqWzC9kgi",
        "61udPEaMLPT7",
        "dw1amtwdLTO2",
        "f7Py2j9JNSv1",
        "BtbYJEYKNWmY",
        "M0wsebVsNmBX",
        "EdHBIIUsN3-f",
        "od4fZCVQN7N9",
        "Lx0dR1kIc3z6"
      ]
    },
    "kernelspec": {
      "name": "python3",
      "display_name": "Python 3"
    },
    "language_info": {
      "name": "python"
    }
  },
  "cells": [
    {
      "cell_type": "markdown",
      "source": [
        "# Bikes & Cycling Accessories Organisation's Transactions Data Based Cohort Analysis"
      ],
      "metadata": {
        "id": "_UIlFEeYA56j"
      }
    },
    {
      "cell_type": "markdown",
      "source": [
        "# Importing Libraries\n"
      ],
      "metadata": {
        "id": "xCl80E3qBEsr"
      }
    },
    {
      "cell_type": "markdown",
      "source": [
        "# Libarary"
      ],
      "metadata": {
        "id": "vMn9RHPv5fbz"
      }
    },
    {
      "cell_type": "code",
      "execution_count": null,
      "metadata": {
        "id": "H2rDGawH_tNV"
      },
      "outputs": [],
      "source": [
        "import pandas as pd\n",
        "import seaborn as sns\n",
        "\n",
        "import matplotlib.pyplot as plt\n",
        "import numpy as np\n",
        "import datetime as dt\n",
        "\n",
        "#import missingno as msno\n",
        "#from textwrap import wrap"
      ]
    },
    {
      "cell_type": "markdown",
      "source": [
        "# Data loading"
      ],
      "metadata": {
        "id": "a6if9CzLBegk"
      }
    },
    {
      "cell_type": "code",
      "source": [
        "transaction_df = pd.read_excel('/content/KPMG_VI_New_raw_data_update_final.xlsx','Transactions')\n",
        "demographic_df = pd.read_excel('/content/KPMG_VI_New_raw_data_update_final.xlsx','CustomerDemographic')\n",
        "address_df = pd.read_excel('/content/KPMG_VI_New_raw_data_update_final.xlsx','CustomerAddress')"
      ],
      "metadata": {
        "id": "Ks_CxTeL7rOG"
      },
      "execution_count": null,
      "outputs": []
    },
    {
      "cell_type": "markdown",
      "source": [
        "## 1. Transactions\n"
      ],
      "metadata": {
        "id": "JBJmmqAQ_-HK"
      }
    },
    {
      "cell_type": "markdown",
      "source": [
        "#### Step1. 讀取Dataset & 做基本處理和調整"
      ],
      "metadata": {
        "id": "7EZkC0S7Bqjw"
      }
    },
    {
      "cell_type": "code",
      "source": [
        "# Loading dataset\n",
        "transaction_df = pd.read_excel('/content/KPMG_VI_New_raw_data_update_final.xlsx','Transactions')\n"
      ],
      "metadata": {
        "id": "38eC4ExhBY9V"
      },
      "execution_count": null,
      "outputs": []
    },
    {
      "cell_type": "code",
      "source": [
        "# View data\n",
        "# 這裡的column name並不是真正的column name\n",
        "# 可觀察到這裡讀出來的column name都是 unnamed..\n",
        "transaction_df.head()"
      ],
      "metadata": {
        "id": "5fJ1mU5VBwHS"
      },
      "execution_count": null,
      "outputs": []
    },
    {
      "cell_type": "code",
      "source": [
        "# 用.iloc 根據整數位置進行索引和選擇數據\n",
        "# 把column name的位置調整好\n",
        "# 但又發現inex[0]這個位置也有column name, 那就要把這多餘的column name刪掉\n",
        "\n",
        "transaction_df.columns = transaction_df.iloc[0]\n",
        "transaction_df"
      ],
      "metadata": {
        "id": "UpBxZ3hICnM4"
      },
      "execution_count": null,
      "outputs": []
    },
    {
      "cell_type": "code",
      "source": [
        "# 注意：刪除多餘的row!\n",
        "# .drop(df.index[0], axis=0, inplace=True)\n",
        "# 索引哪一行, 是沿著row進行, 並且確定更改\n",
        "transaction_df.drop(index=transaction_df.index[0], axis=0, inplace=True)"
      ],
      "metadata": {
        "id": "8z9iSM6kEydE"
      },
      "execution_count": null,
      "outputs": []
    },
    {
      "cell_type": "code",
      "source": [
        "transaction_df"
      ],
      "metadata": {
        "id": "_4TCwIu6HLtA"
      },
      "execution_count": null,
      "outputs": []
    },
    {
      "cell_type": "markdown",
      "source": [
        "####Step2. 先觀察Dataset的基本資料"
      ],
      "metadata": {
        "id": "aZ6t6rG5BxMd"
      }
    },
    {
      "cell_type": "code",
      "source": [
        "# 總行數：20000\n",
        "# Categorical Variable: online_order, order_status, brand, product_line, product_size,product_class\n",
        "# Numerical Variable: list_price, standard_cost\n",
        "# 其餘：transaction_id, product_id, customer_id, transaction_date, product_first_sold_date\n",
        "transaction_df.describe()"
      ],
      "metadata": {
        "id": "bCIx2XaeDbcQ"
      },
      "execution_count": null,
      "outputs": []
    },
    {
      "cell_type": "code",
      "source": [
        "transaction_df.info()"
      ],
      "metadata": {
        "id": "l7ZK9oZ1KetH"
      },
      "execution_count": null,
      "outputs": []
    },
    {
      "cell_type": "markdown",
      "source": [
        "#### Step3. 新增一列 Profit\n",
        "\n",
        "*   因為有list_price 售價 和 standard_cost 成本\n",
        "\n"
      ],
      "metadata": {
        "id": "LgOjY1KE9lRj"
      }
    },
    {
      "cell_type": "code",
      "source": [
        "# 新增一列：Profit\n",
        "# 因為有成本和售價,才能多增加這一列去看分佈. 這樣又多了一個Numerical Variable\n",
        "\n",
        "transaction_df['profit'] = transaction_df['list_price'] - transaction_df['standard_cost']\n",
        "transaction_df"
      ],
      "metadata": {
        "id": "5s3jp2Z1YFJc"
      },
      "execution_count": null,
      "outputs": []
    },
    {
      "cell_type": "markdown",
      "source": [
        "## 2. Demographic"
      ],
      "metadata": {
        "id": "oghxeQya8YvY"
      }
    },
    {
      "cell_type": "markdown",
      "source": [
        "#### Step1. 讀取Dataset & 做基本處理和調整"
      ],
      "metadata": {
        "id": "hIxa6N918tfS"
      }
    },
    {
      "cell_type": "code",
      "source": [
        "# Loading dataset\n",
        "demographic_df = pd.read_excel('/content/KPMG_VI_New_raw_data_update_final.xlsx','CustomerDemographic')"
      ],
      "metadata": {
        "id": "i4ar5k7n-FP4"
      },
      "execution_count": null,
      "outputs": []
    },
    {
      "cell_type": "code",
      "source": [
        "demographic_df.head()"
      ],
      "metadata": {
        "id": "agB8PFa7-Nv2"
      },
      "execution_count": null,
      "outputs": []
    },
    {
      "cell_type": "code",
      "source": [
        "demographic_df"
      ],
      "metadata": {
        "id": "TnmyiEdo-PJj"
      },
      "execution_count": null,
      "outputs": []
    },
    {
      "cell_type": "markdown",
      "source": [
        "####Step2. 新增一列age_group\n",
        "*   因為age的數據太多, 所以設置成有區間的Categorical Variable"
      ],
      "metadata": {
        "id": "zHYx2f74814e"
      }
    },
    {
      "cell_type": "code",
      "source": [
        "# 1. 先把 age 轉成數字, errors='coerce'會把轉不了的值變成 NaN. 避免錯誤\n",
        "demographic_df['age']= pd.to_numeric(demographic_df['age'], errors='coerce')\n",
        "\n",
        "# 2. 設置要區隔的分組數\n",
        "n_bins = 5\n",
        "\n",
        "# 3. 等數區隔：用quct()自動將年齡依照人數分成N組\n",
        "demographic_df['age_group'] = pd.qcut(demographic_df['age'], q=n_bins)\n",
        "\n",
        "# 4. 查看結果\n",
        "print(demographic_df['age_group'].value_counts().sort_index())"
      ],
      "metadata": {
        "id": "gkEyhBA--Sax"
      },
      "execution_count": null,
      "outputs": []
    },
    {
      "cell_type": "code",
      "source": [
        "# 用quct()是因為每組會等量又能自動計算分位數\n",
        "# cut()不能自動調整分組, 但每組範圍是等寬平均\n",
        "\n",
        "# 加上自定義的標籤\n",
        "labels = ['20y-35y', '35y-45y','45y-50y','50y-60y','60y+']\n",
        "demographic_df['age_group'] = pd.qcut(demographic_df['age'], q=n_bins, labels=labels)\n",
        "\n",
        "print(demographic_df)"
      ],
      "metadata": {
        "id": "uf8UJAt--rC2"
      },
      "execution_count": null,
      "outputs": []
    },
    {
      "cell_type": "markdown",
      "source": [
        "#### Step3. 查看數據"
      ],
      "metadata": {
        "id": "DcLje1Q3-z4J"
      }
    },
    {
      "cell_type": "code",
      "source": [
        "demographic_df.describe()"
      ],
      "metadata": {
        "id": "Bt3dzF4C-7P8"
      },
      "execution_count": null,
      "outputs": []
    },
    {
      "cell_type": "code",
      "source": [
        "demographic_df.info()"
      ],
      "metadata": {
        "id": "5EZR-pR2-_Jj"
      },
      "execution_count": null,
      "outputs": []
    },
    {
      "cell_type": "markdown",
      "source": [
        "## 3. Address"
      ],
      "metadata": {
        "id": "jq23_JBc8mza"
      }
    },
    {
      "cell_type": "markdown",
      "source": [
        "#### Step1. 讀取Dataset & 做基本處理和調整"
      ],
      "metadata": {
        "id": "NqVYphwb8wih"
      }
    },
    {
      "cell_type": "code",
      "source": [
        "address_df = pd.read_excel('/content/KPMG_VI_New_raw_data_update_final.xlsx','CustomerAddress')"
      ],
      "metadata": {
        "id": "sGvGmzqgAxiO"
      },
      "execution_count": null,
      "outputs": []
    },
    {
      "cell_type": "code",
      "source": [
        "address_df.head()"
      ],
      "metadata": {
        "id": "I9q2UqBmAx-z"
      },
      "execution_count": null,
      "outputs": []
    },
    {
      "cell_type": "code",
      "source": [
        "address_df.columns = address_df.iloc[0]\n",
        "address_df"
      ],
      "metadata": {
        "id": "nsnwRgbzAzxB"
      },
      "execution_count": null,
      "outputs": []
    },
    {
      "cell_type": "code",
      "source": [
        "address_df.drop(index=address_df.index[0], axis=0, inplace=True)\n",
        "address_df"
      ],
      "metadata": {
        "id": "6T3Tlku7A1z9"
      },
      "execution_count": null,
      "outputs": []
    },
    {
      "cell_type": "markdown",
      "source": [
        "#### Step2. 整理State這列的重複名稱\n",
        "*   這列裡有重疊的正寫和縮寫的值, 一率合併成縮寫名稱"
      ],
      "metadata": {
        "id": "y9F7ahJIAcvd"
      }
    },
    {
      "cell_type": "code",
      "source": [
        "address_df = address_df.replace(\"New South Wales\",\"NSW\")\n",
        "address_df = address_df.replace(\"Victoria\",\"VIC\")"
      ],
      "metadata": {
        "id": "5KlstpzxBIE4"
      },
      "execution_count": null,
      "outputs": []
    },
    {
      "cell_type": "markdown",
      "source": [
        "####Step3. 先觀察Dataset的基本資料"
      ],
      "metadata": {
        "id": "TX5kg0HP84K-"
      }
    },
    {
      "cell_type": "code",
      "source": [
        "address_df.describe()"
      ],
      "metadata": {
        "id": "0oclU9RABMHy"
      },
      "execution_count": null,
      "outputs": []
    },
    {
      "cell_type": "code",
      "source": [
        "address_df.info()"
      ],
      "metadata": {
        "id": "wF0LFphnBORm"
      },
      "execution_count": null,
      "outputs": []
    },
    {
      "cell_type": "markdown",
      "source": [
        "# Data Cleaning : Checking & Organizing the Missing Value"
      ],
      "metadata": {
        "id": "n2ZJ6B6aFmXW"
      }
    },
    {
      "cell_type": "markdown",
      "source": [
        "## 1. Transaction"
      ],
      "metadata": {
        "id": "94YW4sD9GTaE"
      }
    },
    {
      "cell_type": "code",
      "source": [
        "print(transaction_df.info())"
      ],
      "metadata": {
        "id": "SyHJEJgkH54p"
      },
      "execution_count": null,
      "outputs": []
    },
    {
      "cell_type": "markdown",
      "source": [
        "### (1) Numerical Variable"
      ],
      "metadata": {
        "id": "EZr7R97sGZr_"
      }
    },
    {
      "cell_type": "code",
      "source": [
        "print(transaction_df.isnull().values.sum())"
      ],
      "metadata": {
        "id": "K9im68hfH7PX"
      },
      "execution_count": null,
      "outputs": []
    },
    {
      "cell_type": "code",
      "source": [
        "transaction_df = transaction_df.replace(\" \",np.nan)"
      ],
      "metadata": {
        "id": "ch9bV1fsH9W6"
      },
      "execution_count": null,
      "outputs": []
    },
    {
      "cell_type": "code",
      "source": [
        "transaction_df['standard_cost'] = transaction_df['standard_cost'].fillna(transaction_df['standard_cost'].median())"
      ],
      "metadata": {
        "id": "f35-Kxx4H-1z"
      },
      "execution_count": null,
      "outputs": []
    },
    {
      "cell_type": "code",
      "source": [
        "print(transaction_df.isnull().values.sum())"
      ],
      "metadata": {
        "id": "AsCeyYznIBXP"
      },
      "execution_count": null,
      "outputs": []
    },
    {
      "cell_type": "code",
      "source": [
        "print(transaction_df.info())"
      ],
      "metadata": {
        "id": "gRnbiXqkIDe6"
      },
      "execution_count": null,
      "outputs": []
    },
    {
      "cell_type": "markdown",
      "source": [
        "###(2) Categorical Variable"
      ],
      "metadata": {
        "id": "Jqbo0pOFGWhU"
      }
    },
    {
      "cell_type": "code",
      "source": [
        " transaction_df['product_line'].value_counts()"
      ],
      "metadata": {
        "id": "vjxUZ64GIHIt"
      },
      "execution_count": null,
      "outputs": []
    },
    {
      "cell_type": "code",
      "source": [
        "transaction_df['product_line'].value_counts().index[0]"
      ],
      "metadata": {
        "id": "prqZpl1ZIJsR"
      },
      "execution_count": null,
      "outputs": []
    },
    {
      "cell_type": "code",
      "source": [
        "# 對於每一列的categorical variable就可以寫for loop\n",
        "\n",
        "print(transaction_df.info())\n",
        "for col in transaction_df.columns:\n",
        "\n",
        "    # Check if the column is of object type 代表是cate v\n",
        "    # 判斷每一列是否為 object\n",
        "\n",
        "    if transaction_df[col].dtypes == 'object':\n",
        "\n",
        "        # Impute with the most frequent value 用fillna with 這列的眾數\n",
        "\n",
        "        transaction_df[col] = transaction_df[col].fillna(transaction_df[col].value_counts().index[0])\n",
        "\n",
        "# Count the number of NaNs in the dataset and print the counts to verify 最後再計算看看還有無缺失值\n",
        "\n",
        "print(transaction_df.isnull().values.sum())"
      ],
      "metadata": {
        "id": "SREU5X6VIM7r"
      },
      "execution_count": null,
      "outputs": []
    },
    {
      "cell_type": "code",
      "source": [
        "print(transaction_df.info())"
      ],
      "metadata": {
        "id": "U5_HSw8-IPqR"
      },
      "execution_count": null,
      "outputs": []
    },
    {
      "cell_type": "markdown",
      "source": [
        "## 2. Demographic"
      ],
      "metadata": {
        "id": "2zsn3Uc6F5vw"
      }
    },
    {
      "cell_type": "code",
      "source": [
        "print(demographic_df.info())"
      ],
      "metadata": {
        "id": "YnTb7ZTXG1T9"
      },
      "execution_count": null,
      "outputs": []
    },
    {
      "cell_type": "markdown",
      "source": [
        "### (1) Numerical Variable"
      ],
      "metadata": {
        "id": "cWzmUbcxGIJG"
      }
    },
    {
      "cell_type": "code",
      "source": [
        "print(demographic_df.isnull().values.sum())"
      ],
      "metadata": {
        "id": "hPe808iTG36X"
      },
      "execution_count": null,
      "outputs": []
    },
    {
      "cell_type": "code",
      "source": [
        "demographic_df = demographic_df.replace(\" \",np.nan)"
      ],
      "metadata": {
        "id": "H1bd3P3KG60X"
      },
      "execution_count": null,
      "outputs": []
    },
    {
      "cell_type": "code",
      "source": [
        "demographic_df['tenure'] = demographic_df['tenure'].fillna(demographic_df['tenure'].median())\n",
        "demographic_df['age'] = demographic_df['age'].fillna(demographic_df['age'].median())\n",
        "print(demographic_df.isnull().values.sum())"
      ],
      "metadata": {
        "id": "QxQ6YyI0G-On"
      },
      "execution_count": null,
      "outputs": []
    },
    {
      "cell_type": "markdown",
      "source": [
        "### (2) Categorical Variable"
      ],
      "metadata": {
        "id": "evudWXwgGMp2"
      }
    },
    {
      "cell_type": "code",
      "source": [
        "demographic_df['job_industry_category'].value_counts()"
      ],
      "metadata": {
        "id": "5Qn6DUfgHEvZ"
      },
      "execution_count": null,
      "outputs": []
    },
    {
      "cell_type": "code",
      "source": [
        "demographic_df['job_industry_category'].value_counts().index[0]"
      ],
      "metadata": {
        "id": "b99hA1FhHZLo"
      },
      "execution_count": null,
      "outputs": []
    },
    {
      "cell_type": "code",
      "source": [
        "# 對於每一列的categorical variable就可以寫for loop\n",
        "\n",
        "for col in demographic_df.columns:\n",
        "\n",
        "    # Check if the column is of object type 代表是cate v\n",
        "    # 判斷每一列是否為 object\n",
        "\n",
        "    if demographic_df[col].dtypes == 'object':\n",
        "\n",
        "        # Impute with the most frequent value 用fillna with 這列的眾數\n",
        "\n",
        "        demographic_df[col] =  demographic_df[col].fillna(demographic_df[col].value_counts().index[0])\n",
        "\n",
        "# Count the number of NaNs in the dataset and print the counts to verify 最後再計算看看還有無缺失值\n",
        "\n",
        "print(demographic_df.isnull().values.sum())"
      ],
      "metadata": {
        "id": "lybI09xSHchU"
      },
      "execution_count": null,
      "outputs": []
    },
    {
      "cell_type": "code",
      "source": [
        "print(demographic_df.info())"
      ],
      "metadata": {
        "id": "4ohz3xtAHeuS"
      },
      "execution_count": null,
      "outputs": []
    },
    {
      "cell_type": "code",
      "source": [
        "demographic_df['age_group'].value_counts()"
      ],
      "metadata": {
        "id": "4EAq0PuMHijM"
      },
      "execution_count": null,
      "outputs": []
    },
    {
      "cell_type": "code",
      "source": [
        "demographic_df['age_group'].value_counts().index[0]"
      ],
      "metadata": {
        "id": "IQGtYvA2Hkxu"
      },
      "execution_count": null,
      "outputs": []
    },
    {
      "cell_type": "code",
      "source": [
        "if demographic_df['age_group'].dtypes == 'category':\n",
        "    demographic_df['age_group'] = demographic_df['age_group'].fillna(demographic_df['age_group'].value_counts().index[0])\n",
        "    print(demographic_df.isnull().values.sum())"
      ],
      "metadata": {
        "id": "4Ebgobf_HmEy"
      },
      "execution_count": null,
      "outputs": []
    },
    {
      "cell_type": "code",
      "source": [
        "print(demographic_df.info())"
      ],
      "metadata": {
        "id": "0rfw2YjDHrgM"
      },
      "execution_count": null,
      "outputs": []
    },
    {
      "cell_type": "markdown",
      "source": [
        "# Join 3 Tables"
      ],
      "metadata": {
        "id": "wfKMAL8yIlJ0"
      }
    },
    {
      "cell_type": "code",
      "source": [
        "join_df = pd.merge(transaction_df, demographic_df, on='customer_id', how = 'inner').merge(address_df, on='customer_id', how = 'inner')\n",
        "join_df"
      ],
      "metadata": {
        "id": "2Q_ZZ8PkIugs"
      },
      "execution_count": null,
      "outputs": []
    },
    {
      "cell_type": "code",
      "source": [
        "join_df.info()"
      ],
      "metadata": {
        "id": "im9JiHK7IyZL"
      },
      "execution_count": null,
      "outputs": []
    },
    {
      "cell_type": "code",
      "source": [
        "join_df.describe()"
      ],
      "metadata": {
        "id": "KowSeH4fI2ST"
      },
      "execution_count": null,
      "outputs": []
    },
    {
      "cell_type": "markdown",
      "source": [
        "# EDA - Transaction table merge customer table - dist - strip - rel - heatmap......"
      ],
      "metadata": {
        "id": "AF2hSv488gCW"
      }
    },
    {
      "cell_type": "markdown",
      "source": [
        "## 1. 單列、單一維度(前面都有寫過了,這裡省略)"
      ],
      "metadata": {
        "id": "1B83VzBPD8lE"
      }
    },
    {
      "cell_type": "markdown",
      "source": [
        "##2. 兩個維度：x軸categorical variable, y軸numerical variable\n",
        "\n",
        "*   Strip Plot\n",
        "*   Box Plot\n",
        "*   Count Plot\n",
        "\n"
      ],
      "metadata": {
        "id": "egMaFNMJHYve"
      }
    },
    {
      "cell_type": "code",
      "source": [
        "# 兩個維度可以用 Strip Plot 和 Count Plot 來畫圖\n",
        "# Strip Plot 如果看不出區別、不好畫圖的話, 可以換成Box Plot之類的"
      ],
      "metadata": {
        "id": "YawFzAzuCLN8"
      },
      "execution_count": null,
      "outputs": []
    },
    {
      "cell_type": "markdown",
      "source": [
        "### (1) Strip Plot\n",
        "\n",
        "\n"
      ],
      "metadata": {
        "id": "y3qsxNGALNXw"
      }
    },
    {
      "cell_type": "code",
      "source": [
        "# 數據太分散，不適用"
      ],
      "metadata": {
        "id": "LdGeb_AddH9q"
      },
      "execution_count": null,
      "outputs": []
    },
    {
      "cell_type": "markdown",
      "source": [
        "### (2) Box Plot"
      ],
      "metadata": {
        "id": "fpkk0gIwvB4j"
      }
    },
    {
      "cell_type": "code",
      "source": [
        "# 1-1.\n",
        "# x='brand', y='tenure'\n",
        "sns.boxplot(x='brand', y='tenure', data=join_df)\n",
        "plt.xticks(rotation=45)\n",
        "plt.tight_layout()\n",
        "plt.show()"
      ],
      "metadata": {
        "id": "Ot5ZGkXivQEU"
      },
      "execution_count": null,
      "outputs": []
    },
    {
      "cell_type": "code",
      "source": [
        "# 1-2. x='brand', y='past_3_years_bike_related_purchases'\n",
        "sns.boxplot(x='brand', y='past_3_years_bike_related_purchases', data=join_df)\n",
        "plt.xticks(rotation=45)\n",
        "plt.tight_layout()\n",
        "plt.show()"
      ],
      "metadata": {
        "id": "MYSkxqVh-uYV"
      },
      "execution_count": null,
      "outputs": []
    },
    {
      "cell_type": "code",
      "source": [
        "# 2-1. x='product_line', y='tenure'\n",
        "sns.boxplot(x='product_line', y='tenure', data=join_df)"
      ],
      "metadata": {
        "id": "WQffSbMdSLad"
      },
      "execution_count": null,
      "outputs": []
    },
    {
      "cell_type": "code",
      "source": [
        "# 2-2. x='product_line', y='past_3_years_bike_related_purchases'\n",
        "sns.boxplot(x='product_line', y='past_3_years_bike_related_purchases', data=join_df)"
      ],
      "metadata": {
        "id": "i6VOdI8MSoh8"
      },
      "execution_count": null,
      "outputs": []
    },
    {
      "cell_type": "code",
      "source": [
        "# 3-1. x='job_insudstry_category', y='profit'\n",
        "plt.figure(figsize=(12,6))\n",
        "sns.boxplot(x='job_industry_category', y='profit', data=join_df)\n",
        "plt.xticks(rotation=45)\n",
        "plt.tight_layout()\n",
        "plt.show()"
      ],
      "metadata": {
        "id": "trqTRNpbSwa0"
      },
      "execution_count": null,
      "outputs": []
    },
    {
      "cell_type": "code",
      "source": [
        "# 3-2. x='age_group', y='profit'\n",
        "plt.figure(figsize=(12,6))\n",
        "sns.boxplot(x='age_group', y='profit', data=join_df)\n"
      ],
      "metadata": {
        "id": "uhCAvxIeTKWO"
      },
      "execution_count": null,
      "outputs": []
    },
    {
      "cell_type": "code",
      "source": [
        "# 4-1. x= 'state', y='profit'\n",
        "sns.boxplot(x='state', y='profit', data=join_df)"
      ],
      "metadata": {
        "id": "BAoTdWWKTZYj"
      },
      "execution_count": null,
      "outputs": []
    },
    {
      "cell_type": "code",
      "source": [
        "# 4-2. x='property_valuation', y='profit'\n",
        "plt.figure(figsize=(12,6))\n",
        "sns.boxplot(x='property_valuation', y='profit', data=join_df)"
      ],
      "metadata": {
        "id": "_6teOYETTxln"
      },
      "execution_count": null,
      "outputs": []
    },
    {
      "cell_type": "code",
      "source": [
        "# 5-1. x='state', y='tenure'\n",
        "sns.boxplot(x='state', y='tenure', data=join_df)"
      ],
      "metadata": {
        "id": "_mBVqereUGcl"
      },
      "execution_count": null,
      "outputs": []
    },
    {
      "cell_type": "code",
      "source": [
        "# 5-2. x='property_valuation', y='tenure'\n",
        "plt.figure(figsize=(12,6))\n",
        "sns.boxplot(x='property_valuation', y='tenure', data=join_df)"
      ],
      "metadata": {
        "id": "WgxtZ7fjUN6_"
      },
      "execution_count": null,
      "outputs": []
    },
    {
      "cell_type": "code",
      "source": [
        "# 6-1. x='state', y='past_3_years_bike_related_purchases'\n",
        "sns.boxplot(x='state', y='past_3_years_bike_related_purchases', data=join_df)"
      ],
      "metadata": {
        "id": "s7WAl0sqUeDL"
      },
      "execution_count": null,
      "outputs": []
    },
    {
      "cell_type": "code",
      "source": [
        "# 6-2. x='property_valuation', y='past_3_years_bike_related_purchases'\n",
        "plt.figure(figsize=(12,6))\n",
        "sns.boxplot(x='property_valuation', y='past_3_years_bike_related_purchases', data=join_df)"
      ],
      "metadata": {
        "id": "H99wqO77Up7s"
      },
      "execution_count": null,
      "outputs": []
    },
    {
      "cell_type": "markdown",
      "source": [
        "### (3) Count Plot ( x軸 ＆ hue 都是Categorical )\n",
        "* 因為y軸是計算總數, 自然屬於numerical"
      ],
      "metadata": {
        "id": "ga40TlAnPxWr"
      }
    },
    {
      "cell_type": "code",
      "source": [
        "# 1-1. x='brand', hue='gender'\n",
        "plt.figure(figsize=(10,6))\n",
        "sns.countplot(x='brand', data=join_df, hue='gender')\n",
        "plt.xticks(rotation=45)\n",
        "plt.tight_layout()\n",
        "plt.show()"
      ],
      "metadata": {
        "id": "ZzucFHu3U_-s"
      },
      "execution_count": null,
      "outputs": []
    },
    {
      "cell_type": "code",
      "source": [
        "# 1-2. x='brand', hue='wealth_segment'\n",
        "plt.figure(figsize=(10,6))\n",
        "sns.countplot(x='brand', data=join_df, hue='wealth_segment')\n",
        "plt.xticks(rotation=45)\n",
        "plt.tight_layout()\n",
        "plt.show()"
      ],
      "metadata": {
        "id": "ON0GW9RAKiQO"
      },
      "execution_count": null,
      "outputs": []
    },
    {
      "cell_type": "code",
      "source": [
        "# 1-3. x='brand', hue='state'\n",
        "plt.figure(figsize=(10,6))\n",
        "sns.countplot(x='brand', data=join_df, hue='state')\n",
        "plt.xticks(rotation=45)\n",
        "plt.tight_layout()\n",
        "plt.show()"
      ],
      "metadata": {
        "id": "8TXQEXdYKyXz"
      },
      "execution_count": null,
      "outputs": []
    },
    {
      "cell_type": "code",
      "source": [
        "# 2-1. x='product_line', hue='gender'\n",
        "sns.countplot(x='product_line', data=join_df, hue='gender')\n"
      ],
      "metadata": {
        "id": "IloNnEbDOPuz"
      },
      "execution_count": null,
      "outputs": []
    },
    {
      "cell_type": "code",
      "source": [
        "# 2-2. x='product_line', hue='wealth_segment'\n",
        "sns.countplot(x='product_line', data=join_df, hue='wealth_segment')"
      ],
      "metadata": {
        "id": "pt-07l2uOh9c"
      },
      "execution_count": null,
      "outputs": []
    },
    {
      "cell_type": "code",
      "source": [
        "# 2-3. x='product_line', hue='state'\n",
        "sns.countplot(x='product_line', data=join_df, hue='state')\n"
      ],
      "metadata": {
        "id": "cZp_N-kWLFXH"
      },
      "execution_count": null,
      "outputs": []
    },
    {
      "cell_type": "code",
      "source": [
        "# 3-1. x='job_industry_category', hue='product_class'\n",
        "plt.figure(figsize=(10,6))\n",
        "sns.countplot(x='job_industry_category', data=join_df, hue='product_class')\n",
        "plt.xticks(rotation=45)\n",
        "plt.tight_layout()\n",
        "plt.show()"
      ],
      "metadata": {
        "id": "pBMpBIW4Lcy0"
      },
      "execution_count": null,
      "outputs": []
    },
    {
      "cell_type": "code",
      "source": [
        "# 3-2. x='job_industry_category', y ='product_size' 和上圖沒有太大的差異"
      ],
      "metadata": {
        "id": "SpryYQBJMPKO"
      },
      "execution_count": null,
      "outputs": []
    },
    {
      "cell_type": "code",
      "source": [
        "# 3-3. x='job_industry_category', y ='state'\n",
        "plt.figure(figsize=(10,6))\n",
        "sns.countplot(x='job_industry_category', data=join_df, hue='state')\n",
        "plt.xticks(rotation=45)\n",
        "plt.tight_layout()\n",
        "plt.show()"
      ],
      "metadata": {
        "id": "bNTGzzT9MsAY"
      },
      "execution_count": null,
      "outputs": []
    },
    {
      "cell_type": "code",
      "source": [
        "# 4-1. x='age_group', hue='product_class'\n",
        "\n",
        "sns.countplot(x='age_group', data=join_df, hue='product_class')"
      ],
      "metadata": {
        "id": "_bReaBjGNFLx"
      },
      "execution_count": null,
      "outputs": []
    },
    {
      "cell_type": "code",
      "source": [
        "# 4-2. x='age_group', hue='state'\n",
        "sns.countplot(x='age_group', data=join_df, hue='state')"
      ],
      "metadata": {
        "id": "BAbsr7GiNUCM"
      },
      "execution_count": null,
      "outputs": []
    },
    {
      "cell_type": "code",
      "source": [
        "# 5-1. x='property_valuation', hue='product_class'\n",
        "plt.figure(figsize=(20,6))\n",
        "sns.countplot(x='property_valuation', data=join_df, hue='product_class')"
      ],
      "metadata": {
        "id": "HWOnCOy1NkdU"
      },
      "execution_count": null,
      "outputs": []
    },
    {
      "cell_type": "code",
      "source": [
        "# 5-2. x='property_valuation', hue='gender'\n",
        "plt.figure(figsize=(20,6))\n",
        "sns.countplot(x='property_valuation', data=join_df, hue='gender')"
      ],
      "metadata": {
        "id": "9qDCJIx3N_vR"
      },
      "execution_count": null,
      "outputs": []
    },
    {
      "cell_type": "code",
      "source": [
        "# 5-3. x='property_valuation', hue='wealth_segment'\n",
        "plt.figure(figsize=(20,6))\n",
        "sns.countplot(x='property_valuation', data=join_df, hue='wealth_segment')"
      ],
      "metadata": {
        "id": "rbcjEMNFPapb"
      },
      "execution_count": null,
      "outputs": []
    },
    {
      "cell_type": "markdown",
      "source": [
        "## 3. 三個維度: x軸categorical variable, y軸numerical variable, hue 顏色區分\n",
        "\n",
        "*   Strip Plot 散點圖\n",
        "*   Box Plot 箱型圖(聚合型)\n",
        "*   Bar Plot 條形圖\n",
        "\n",
        "\n"
      ],
      "metadata": {
        "id": "d8Pn8mJeHr6d"
      }
    },
    {
      "cell_type": "markdown",
      "source": [
        "### (1) Strip Plot: 太分散了, 意義不大. 大部分都是長橫條圖"
      ],
      "metadata": {
        "id": "RniqMjx-0MVr"
      }
    },
    {
      "cell_type": "code",
      "source": [
        "# 顏色區分的顆粒度也不明顯"
      ],
      "metadata": {
        "id": "P5njTY012E2g"
      },
      "execution_count": null,
      "outputs": []
    },
    {
      "cell_type": "markdown",
      "source": [
        "###(2) Box Plot"
      ],
      "metadata": {
        "id": "TQdCJrk31zoy"
      }
    },
    {
      "cell_type": "code",
      "source": [
        "# 1-1. x='brand', y='profit', hue='gender'\n",
        "plt.figure(figsize=(12,6))\n",
        "sns.boxplot(x='brand', y='profit', data=join_df, hue='gender')\n",
        "plt.xticks(rotation=45)\n",
        "plt.tight_layout()\n",
        "plt.show()"
      ],
      "metadata": {
        "id": "iUaQwrnuQCqs"
      },
      "execution_count": null,
      "outputs": []
    },
    {
      "cell_type": "code",
      "source": [
        "# 1-2. x='brand', y='profit', hue='wealth_segment'\n",
        "plt.figure(figsize=(12,6))\n",
        "sns.boxplot(x='brand', y='profit', data=join_df, hue='wealth_segment')\n",
        "plt.xticks(rotation=45)\n",
        "plt.tight_layout()\n",
        "plt.show()"
      ],
      "metadata": {
        "id": "HKn3crMXSCU2"
      },
      "execution_count": null,
      "outputs": []
    },
    {
      "cell_type": "code",
      "source": [
        "# 1-3. x='brand', y='profit', hue='state'\n",
        "plt.figure(figsize=(12,6))\n",
        "sns.boxplot(x='brand', y='profit', data=join_df, hue='state')\n",
        "plt.xticks(rotation=45)\n",
        "plt.tight_layout()\n",
        "plt.show()"
      ],
      "metadata": {
        "id": "MIf9fnWxSUqr"
      },
      "execution_count": null,
      "outputs": []
    },
    {
      "cell_type": "code",
      "source": [
        "# 2-1. x='product_line', y='profit', hue='gender'\n",
        "sns.boxplot(x='product_line', y='profit', data=join_df, hue='gender')"
      ],
      "metadata": {
        "id": "wqE1N5AJSgF4"
      },
      "execution_count": null,
      "outputs": []
    },
    {
      "cell_type": "code",
      "source": [
        "# 2-2. x='product_line', y='profit', hue='wealth_segment'\n",
        "sns.boxplot(x='product_line', y='profit', data=join_df, hue='wealth_segment')"
      ],
      "metadata": {
        "id": "Tz0nY9RbS5Wo"
      },
      "execution_count": null,
      "outputs": []
    },
    {
      "cell_type": "code",
      "source": [
        "# 2-3. x='product_line', y='profit', hue='state'\n",
        "sns.boxplot(x='product_line', y='profit', data=join_df, hue='state')"
      ],
      "metadata": {
        "id": "vSIJwurQTGDm"
      },
      "execution_count": null,
      "outputs": []
    },
    {
      "cell_type": "code",
      "source": [
        "# 3-1. x='product_class', y='profit', hue='gender'\n",
        "sns.boxplot(x='product_class', y='profit', data=join_df, hue='gender')"
      ],
      "metadata": {
        "id": "Te2rgRB-TUXx"
      },
      "execution_count": null,
      "outputs": []
    },
    {
      "cell_type": "code",
      "source": [
        "# 3-2. x='product_class', y='profit', hue='wealth_segment'\n",
        "sns.boxplot(x='product_class', y='profit', data=join_df, hue='wealth_segment')"
      ],
      "metadata": {
        "id": "O5AUqEfoTktE"
      },
      "execution_count": null,
      "outputs": []
    },
    {
      "cell_type": "code",
      "source": [
        "# 3-3. x='product_class', y='profit', hue='state'\n",
        "sns.boxplot(x='product_class', y='profit', data=join_df, hue='state')"
      ],
      "metadata": {
        "id": "ducEl7NJTzBu"
      },
      "execution_count": null,
      "outputs": []
    },
    {
      "cell_type": "code",
      "source": [
        "# 4-1. x='job_industry_category', y='profit', hue='product_class'\n",
        "plt.figure(figsize=(12,6))\n",
        "sns.boxplot(x='job_industry_category', y='profit', data=join_df, hue='product_class')\n",
        "plt.xticks(rotation=45)\n",
        "plt.tight_layout()\n",
        "plt.show()"
      ],
      "metadata": {
        "id": "jWjRzrNTT4SV"
      },
      "execution_count": null,
      "outputs": []
    },
    {
      "cell_type": "code",
      "source": [
        "# 4-2. x='job_industry_category', y='profit', hue='gender'\n",
        "plt.figure(figsize=(12,6))\n",
        "sns.boxplot(x='job_industry_category', y='profit', data=join_df, hue='gender')\n",
        "plt.xticks(rotation=45)\n",
        "plt.tight_layout()\n",
        "plt.show()"
      ],
      "metadata": {
        "id": "fi7MLF0-Ue9B"
      },
      "execution_count": null,
      "outputs": []
    },
    {
      "cell_type": "code",
      "source": [
        "# 4-3. x='job_industry_category', y='profit', hue='wealth_segment'\n",
        "plt.figure(figsize=(12,6))\n",
        "sns.boxplot(x='job_industry_category', y='profit', data=join_df, hue='wealth_segment')\n",
        "plt.xticks(rotation=45)\n",
        "plt.tight_layout()"
      ],
      "metadata": {
        "id": "GxPRzJ5iUpWh"
      },
      "execution_count": null,
      "outputs": []
    },
    {
      "cell_type": "code",
      "source": [
        "# 4-4. x='job_industry_category', y='profit', hue='state'\n",
        "plt.figure(figsize=(12,6))\n",
        "sns.boxplot(x='job_industry_category', y='profit', data=join_df, hue='state')\n",
        "plt.xticks(rotation=45)\n",
        "plt.tight_layout()\n",
        "plt.show()"
      ],
      "metadata": {
        "id": "S5_jiu5SUzpl"
      },
      "execution_count": null,
      "outputs": []
    },
    {
      "cell_type": "code",
      "source": [
        "# 5-1. x='age_group', y='profit', hue='product_class'\n",
        "plt.figure(figsize=(12,6))\n",
        "sns.boxplot(x='age_group', y='profit', data=join_df, hue='product_class')"
      ],
      "metadata": {
        "id": "TjsSFq6aVBlT"
      },
      "execution_count": null,
      "outputs": []
    },
    {
      "cell_type": "code",
      "source": [
        "# 5-2. x='age_group', y='profit', hue='gender'\n",
        "plt.figure(figsize=(12,6))\n",
        "sns.boxplot(x='age_group', y='profit', data=join_df, hue='gender')"
      ],
      "metadata": {
        "id": "7vjJ0NA7VOGq"
      },
      "execution_count": null,
      "outputs": []
    },
    {
      "cell_type": "code",
      "source": [
        "# 5-3. x='age_group', y='profit', hue='wealth_segment'\n",
        "plt.figure(figsize=(12,6))\n",
        "sns.boxplot(x='age_group', y='profit', data=join_df, hue='wealth_segment')"
      ],
      "metadata": {
        "id": "wLBjFNk6VUhw"
      },
      "execution_count": null,
      "outputs": []
    },
    {
      "cell_type": "code",
      "source": [
        "# 5-4. x='age_group', y='profit', hue='state'\n",
        "plt.figure(figsize=(12,6))\n",
        "sns.boxplot(x='age_group', y='profit', data=join_df, hue='state')"
      ],
      "metadata": {
        "id": "CJ0aLJrMVbS4"
      },
      "execution_count": null,
      "outputs": []
    },
    {
      "cell_type": "code",
      "source": [
        "# 6-1. x='property_valuation', y='profit', hue='product_class'\n",
        "plt.figure(figsize=(20,6))\n",
        "sns.boxplot(x='property_valuation', y='profit', data=join_df, hue='product_class')"
      ],
      "metadata": {
        "id": "0cF80pL8VngP"
      },
      "execution_count": null,
      "outputs": []
    },
    {
      "cell_type": "code",
      "source": [
        "# 6-2. x='property_valuation', y='profit', hue='gender'\n",
        "plt.figure(figsize=(20,6))\n",
        "sns.boxplot(x='property_valuation', y='profit', data=join_df, hue='gender')"
      ],
      "metadata": {
        "id": "ljx3aagTWLBr"
      },
      "execution_count": null,
      "outputs": []
    },
    {
      "cell_type": "code",
      "source": [
        "# 6-3. x='property_valuation', y='profit', hue='wealth_segment'\n",
        "plt.figure(figsize=(20,6))\n",
        "sns.boxplot(x='property_valuation', y='profit', data=join_df, hue='wealth_segment')"
      ],
      "metadata": {
        "id": "UDwuKT5aWPqb"
      },
      "execution_count": null,
      "outputs": []
    },
    {
      "cell_type": "code",
      "source": [
        "# 6-4. x='property_valuation', y='profit', hue='state'\n",
        "plt.figure(figsize=(20,6))\n",
        "sns.boxplot(x='property_valuation', y='profit', data=join_df, hue='state')"
      ],
      "metadata": {
        "id": "iBVn1C8SWWkN"
      },
      "execution_count": null,
      "outputs": []
    },
    {
      "cell_type": "markdown",
      "source": [
        "### (3) Bar Plot：沒有太多黑線的話, 看高度"
      ],
      "metadata": {
        "id": "GI964d_2Ps9W"
      }
    },
    {
      "cell_type": "code",
      "source": [
        "# 1-1. x='brand', y='profit', hue='gender'\n",
        "plt.figure(figsize=(12,6))\n",
        "sns.barplot(x='brand', y='profit', data=join_df, hue='gender')\n",
        "plt.xticks(rotation=45)\n",
        "plt.tight_layout()\n",
        "plt.show()"
      ],
      "metadata": {
        "id": "_UG5as0jW-qu"
      },
      "execution_count": null,
      "outputs": []
    },
    {
      "cell_type": "code",
      "source": [
        "# 1-2. x='brand', y='profit', hue='wealth_segment'\n",
        "plt.figure(figsize=(12,6))\n",
        "sns.barplot(x='brand', y='profit', data=join_df, hue='wealth_segment')\n",
        "plt.xticks(rotation=45)\n",
        "plt.tight_layout()\n",
        "plt.show()"
      ],
      "metadata": {
        "id": "4-mdEqYcXUzP"
      },
      "execution_count": null,
      "outputs": []
    },
    {
      "cell_type": "code",
      "source": [
        "# 1-3. x='brand', y='profit', hue='state'\n",
        "plt.figure(figsize=(12,6))\n",
        "sns.barplot(x='brand', y='profit', data=join_df, hue='state')\n",
        "plt.xticks(rotation=45)\n",
        "plt.tight_layout()\n",
        "plt.show()"
      ],
      "metadata": {
        "id": "z4Iczz__XcZV"
      },
      "execution_count": null,
      "outputs": []
    },
    {
      "cell_type": "code",
      "source": [
        "# 2-1. x='product_line', y='profit', hue='gender’\n",
        "sns.barplot(x='product_line', y='profit', data=join_df, hue='gender')"
      ],
      "metadata": {
        "id": "k5GCMuFhYLnk"
      },
      "execution_count": null,
      "outputs": []
    },
    {
      "cell_type": "code",
      "source": [
        "# 2-2. x='product_line', y='profit', hue='wealth_segment’\n",
        "sns.barplot(x='product_line', y='profit', data=join_df, hue='wealth_segment')"
      ],
      "metadata": {
        "id": "GBNQ90dqYNuZ"
      },
      "execution_count": null,
      "outputs": []
    },
    {
      "cell_type": "code",
      "source": [
        "# 2-3. x='product_line', y='profit', hue='state’\n",
        "sns.barplot(x='product_line', y='profit', data=join_df, hue='state')"
      ],
      "metadata": {
        "id": "beomceeGYPA8"
      },
      "execution_count": null,
      "outputs": []
    },
    {
      "cell_type": "code",
      "source": [
        "# 3-1. x='product_class', y='profit', hue='gender’\n",
        "sns.barplot(x='product_class', y='profit', data=join_df, hue='gender')"
      ],
      "metadata": {
        "id": "YJsWtHsoYQN-"
      },
      "execution_count": null,
      "outputs": []
    },
    {
      "cell_type": "code",
      "source": [
        "# 3-2. x='product_class', y='profit', hue='wealth_segment’\n",
        "sns.barplot(x='product_class', y='profit', data=join_df, hue='wealth_segment')"
      ],
      "metadata": {
        "id": "gsc9nyt-YRl1"
      },
      "execution_count": null,
      "outputs": []
    },
    {
      "cell_type": "code",
      "source": [
        "# 3-3. x='product_class', y='profit', hue='state’\n",
        "sns.barplot(x='product_class', y='profit', data=join_df, hue='state')"
      ],
      "metadata": {
        "id": "bHlTQn_TYUmw"
      },
      "execution_count": null,
      "outputs": []
    },
    {
      "cell_type": "code",
      "source": [
        "# 4-1. x='job_industry_category', y='profit', hue='product_class’\n",
        "plt.figure(figsize=(12,6))\n",
        "sns.barplot(x='job_industry_category', y='profit', data=join_df, hue='product_class')\n",
        "plt.xticks(rotation=45)\n",
        "plt.tight_layout()\n",
        "plt.show()"
      ],
      "metadata": {
        "id": "I4QIEa3nYVDh"
      },
      "execution_count": null,
      "outputs": []
    },
    {
      "cell_type": "code",
      "source": [
        "# 4-2. x='job_industry_category', y='profit', hue='gender’\n",
        "plt.figure(figsize=(12,6))\n",
        "sns.barplot(x='job_industry_category', y='profit', data=join_df, hue='gender')\n",
        "plt.xticks(rotation=45)\n",
        "plt.tight_layout()\n",
        "plt.show()"
      ],
      "metadata": {
        "id": "ASz8tj4vYWiu"
      },
      "execution_count": null,
      "outputs": []
    },
    {
      "cell_type": "code",
      "source": [
        "# 4-3. x='job_industry_category', y='profit', hue='wealth_segment’\n",
        "plt.figure(figsize=(12,6))\n",
        "sns.barplot(x='job_industry_category', y='profit', data=join_df, hue='wealth_segment')\n",
        "plt.xticks(rotation=45)\n",
        "plt.tight_layout()\n",
        "plt.show()"
      ],
      "metadata": {
        "id": "OIY6qjNYYYrV"
      },
      "execution_count": null,
      "outputs": []
    },
    {
      "cell_type": "code",
      "source": [
        "# 4-4. x='job_industry_category', y='profit', hue='state’\n",
        "plt.figure(figsize=(12,6))\n",
        "sns.barplot(x='job_industry_category', y='profit', data=join_df, hue='state')\n",
        "plt.xticks(rotation=45)\n",
        "plt.tight_layout()\n",
        "plt.show()"
      ],
      "metadata": {
        "id": "W778_sUFYa5Z"
      },
      "execution_count": null,
      "outputs": []
    },
    {
      "cell_type": "code",
      "source": [
        "# 5-1. x='age_group', y='profit', hue='product_class’\n",
        "plt.figure(figsize=(12,6))\n",
        "sns.barplot(x='age_group', y='profit', data=join_df, hue='product_class')"
      ],
      "metadata": {
        "id": "U253MaYPYcQF"
      },
      "execution_count": null,
      "outputs": []
    },
    {
      "cell_type": "code",
      "source": [
        "# 5-2. x='age_group', y='profit', hue='gender’\n",
        "plt.figure(figsize=(12,6))\n",
        "sns.barplot(x='age_group', y='profit', data=join_df, hue='gender')"
      ],
      "metadata": {
        "id": "Nyj5KB4_YdZA"
      },
      "execution_count": null,
      "outputs": []
    },
    {
      "cell_type": "code",
      "source": [
        "# 5-3. x='age_group', y='profit', hue='wealth_segment’\n",
        "plt.figure(figsize=(12,6))\n",
        "sns.barplot(x='age_group', y='profit', data=join_df, hue='wealth_segment')"
      ],
      "metadata": {
        "id": "XjLs6lzVYevr"
      },
      "execution_count": null,
      "outputs": []
    },
    {
      "cell_type": "code",
      "source": [
        "# 5-4. x='age_group', y='profit', hue='state’\n",
        "plt.figure(figsize=(12,6))\n",
        "sns.barplot(x='age_group', y='profit', data=join_df, hue='state')"
      ],
      "metadata": {
        "id": "ayPcq-NoYgKo"
      },
      "execution_count": null,
      "outputs": []
    },
    {
      "cell_type": "code",
      "source": [
        "# 6-1. x='property_valuation', y='profit', hue='product_class’\n",
        "plt.figure(figsize=(20,6))\n",
        "sns.barplot(x='property_valuation', y='profit', data=join_df, hue='product_class')"
      ],
      "metadata": {
        "id": "pJ9D2ySHYhjO"
      },
      "execution_count": null,
      "outputs": []
    },
    {
      "cell_type": "code",
      "source": [
        "# 6-2. x='property_valuation', y='profit', hue='gender’\n",
        "plt.figure(figsize=(20,6))\n",
        "sns.barplot(x='property_valuation', y='profit', data=join_df, hue='gender')"
      ],
      "metadata": {
        "id": "i-t6yioBYi7Y"
      },
      "execution_count": null,
      "outputs": []
    },
    {
      "cell_type": "code",
      "source": [
        "# 6-3. x='property_valuation', y='profit', hue='wealth_segment’\n",
        "plt.figure(figsize=(20,6))\n",
        "sns.barplot(x='property_valuation', y='profit', data=join_df, hue='wealth_segment')"
      ],
      "metadata": {
        "id": "J8yoYMUFYkWD"
      },
      "execution_count": null,
      "outputs": []
    },
    {
      "cell_type": "code",
      "source": [
        "# 6-4. x='property_valuation', y='profit', hue='state’\n",
        "plt.figure(figsize=(20,6))\n",
        "sns.barplot(x='property_valuation', y='profit', data=join_df, hue='state')"
      ],
      "metadata": {
        "id": "lEolr8yxYnWi"
      },
      "execution_count": null,
      "outputs": []
    },
    {
      "cell_type": "markdown",
      "source": [
        "## 4. 聚合分佈 (三個維度)：x軸 Categorical variable, y軸 Numerical variable\n",
        "\n",
        "\n",
        "*   Box Plot\n",
        "*   Violin Plot\n",
        "* 如果做了Box Plot就不用做Violin Plot\n",
        "\n"
      ],
      "metadata": {
        "id": "jJpeYqYWH2Jl"
      }
    },
    {
      "cell_type": "markdown",
      "source": [
        "### Violin Plot"
      ],
      "metadata": {
        "id": "EPDV_7ORauhH"
      }
    },
    {
      "cell_type": "code",
      "source": [
        "# 前面畫過Box Plot了"
      ],
      "metadata": {
        "id": "tOevBOA7W7zq"
      },
      "execution_count": null,
      "outputs": []
    },
    {
      "cell_type": "markdown",
      "source": [
        "## 5. Numerical 和 Numerical variable的關係"
      ],
      "metadata": {
        "id": "emoaPmmvIGNv"
      }
    },
    {
      "cell_type": "markdown",
      "source": [
        "### (1) Joint Plot"
      ],
      "metadata": {
        "id": "G0hXM2_lboYe"
      }
    },
    {
      "cell_type": "code",
      "source": [
        "# 1-1. x='profit', y='tenure'\n",
        "# 1-2. x-'profit', y='past_3_years_bike_related_purchases'\n",
        "# 2-1. x='list_price', y='tenure'\n",
        "# 3-1. x='standard_cost', y='tenure'\n",
        "# 這兩個做出來的圖都太分散, 沒有意義"
      ],
      "metadata": {
        "id": "DF2bnhfbCixZ"
      },
      "execution_count": null,
      "outputs": []
    },
    {
      "cell_type": "markdown",
      "source": [
        "### (2) Point Plot (x軸以兩個為一組比對最適用這種畫法)\n",
        "\n",
        "*   x軸和hue都放Categorical Variable\n",
        "*   因為point plot是看兩組人對於同一個變量sensitivity的程度, 如果是Num會有比較多高低的曲線去代表分佈.\n",
        "*   但是point plot是靠著傾斜程度去觀察他的sensitivity, 所以x軸和hue才放categorical.只有y軸放numerical\n",
        "\n",
        "\n"
      ],
      "metadata": {
        "id": "CteFhHLnbrSI"
      }
    },
    {
      "cell_type": "code",
      "source": [
        "print(join_df.columns)"
      ],
      "metadata": {
        "id": "fWjRToCVBhuv"
      },
      "execution_count": null,
      "outputs": []
    },
    {
      "cell_type": "code",
      "source": [
        "# 1-1. x='online_order', y='tenure', hue='order_status'\n",
        "sns.pointplot(x='online_order', y='tenure', data=join_df, hue='order_status')"
      ],
      "metadata": {
        "id": "c7wbZtGHFdjf"
      },
      "execution_count": null,
      "outputs": []
    },
    {
      "cell_type": "code",
      "source": [
        "# 1-2. x='online_order', y='past_3_years_bike_related_purchases', hue='order_status'\n",
        "sns.pointplot(x='online_order', y='past_3_years_bike_related_purchases', data=join_df, hue='order_status')"
      ],
      "metadata": {
        "id": "zLzimW17Fr_s"
      },
      "execution_count": null,
      "outputs": []
    },
    {
      "cell_type": "code",
      "source": [
        "#1-3. x='online_order', y='tenure', hue='owns_car'\n",
        "sns.pointplot(x='online_order', y='tenure', data=join_df, hue='owns_car')"
      ],
      "metadata": {
        "id": "HTspH-SFGEI6"
      },
      "execution_count": null,
      "outputs": []
    },
    {
      "cell_type": "code",
      "source": [
        "# 1-4. x='online_order', y='past_3_years_bike_related_purchases', hue='owns_car'\n",
        "sns.pointplot(x='online_order', y='past_3_years_bike_related_purchases', data=join_df, hue='owns_car')"
      ],
      "metadata": {
        "id": "k_Pm30yYGNfM"
      },
      "execution_count": null,
      "outputs": []
    },
    {
      "cell_type": "code",
      "source": [
        "# 2-1. x='order_status',  y='tenure', hue='owns_car'\n",
        "# 2-2. x='order_status',  y='past_3_years_bike_related_purchases', hue='online_order'\n",
        "# 沒有明顯差異"
      ],
      "metadata": {
        "id": "LlJq5nyuFy15"
      },
      "execution_count": null,
      "outputs": []
    },
    {
      "cell_type": "code",
      "source": [
        "# Q: 像3-1這種結果是不是比較能看得出差異？"
      ],
      "metadata": {
        "id": "BnLNu7duHt9b"
      },
      "execution_count": null,
      "outputs": []
    },
    {
      "cell_type": "code",
      "source": [
        "# 3-1. x='owns_car', y ='profit', hue='online_order'\n",
        "sns.pointplot(x='owns_car', y='profit', data=join_df, hue='online_order')"
      ],
      "metadata": {
        "id": "g32mpILgHhlP"
      },
      "execution_count": null,
      "outputs": []
    },
    {
      "cell_type": "code",
      "source": [
        "# 3-2. x='owns_car', y ='profit', hue='order_status'\n",
        "sns.pointplot(x='owns_car', y='profit', data=join_df, hue='order_status')"
      ],
      "metadata": {
        "id": "RP4q01KMFyp8"
      },
      "execution_count": null,
      "outputs": []
    },
    {
      "cell_type": "code",
      "source": [
        "# 3-3. x='owns_car', y ='standard_cost', hue='online_order'\n",
        "sns.pointplot(x='owns_car', y='standard_cost', data=join_df, hue='online_order')"
      ],
      "metadata": {
        "id": "OJu7nsFmH-sT"
      },
      "execution_count": null,
      "outputs": []
    },
    {
      "cell_type": "code",
      "source": [
        "# 3-3. x='owns_car', y ='list_price', hue='online_order'\n",
        "sns.pointplot(x='owns_car', y='list_price', data=join_df, hue='online_order')"
      ],
      "metadata": {
        "id": "aRdJI4QgIOcm"
      },
      "execution_count": null,
      "outputs": []
    },
    {
      "cell_type": "code",
      "source": [
        "# 3-4. x='owns_car', y ='tenure', hue='online_order'\n",
        "sns.pointplot(x='owns_car', y='tenure', data=join_df, hue='online_order')"
      ],
      "metadata": {
        "id": "6_fFLe8gIYM8"
      },
      "execution_count": null,
      "outputs": []
    },
    {
      "cell_type": "code",
      "source": [
        "# 3-5. x='owns_car', y ='past_3_years_bike_related_purchases', hue='online_order'\n",
        "sns.pointplot(x='owns_car', y='past_3_years_bike_related_purchases', data=join_df, hue='online_order')"
      ],
      "metadata": {
        "id": "o8CZrjNYIgas"
      },
      "execution_count": null,
      "outputs": []
    },
    {
      "cell_type": "markdown",
      "source": [
        "## 6. 多個維度: 多個 Num v 和 Cate v之間的關係 (先畫Cat Plot就好)"
      ],
      "metadata": {
        "id": "xP6bWMRKJxXh"
      }
    },
    {
      "cell_type": "markdown",
      "source": [
        "### 如果 Relational Plot太分散了,就用Cat Plot 聚合圖形表示\n",
        "\n",
        "*   kind = \"boxen\"\n",
        "*   kind = \"bar\"\n",
        "\n"
      ],
      "metadata": {
        "id": "AVyYM5h2g2yq"
      }
    },
    {
      "cell_type": "markdown",
      "source": [
        "### Cat Plot：kind能改成聚合型Box Plot的圖"
      ],
      "metadata": {
        "id": "JyWJ1cuaXsl8"
      }
    },
    {
      "cell_type": "code",
      "source": [
        "# 1-1. x='brand', y='profit'\n",
        "# hue = 'gender', col='wealth_segment', row='state'\n",
        "sns.set(style='whitegrid', palette='pastel')\n",
        "\n",
        "\n",
        "plot_1 = sns.catplot(x='brand', y='profit', data=join_df, hue='gender', col='wealth_segment', row='state',kind='bar')\n",
        "plot_1.set(xlabel=\"brand\",ylabel=\"profit\")\n",
        "\n",
        "for ax in plot_1.axes.flatten():\n",
        "    ax.tick_params(axis='x', rotation=45)\n",
        "\n",
        "plt.show()\n",
        "\n"
      ],
      "metadata": {
        "id": "j4gBKbW0Xvbx"
      },
      "execution_count": null,
      "outputs": []
    },
    {
      "cell_type": "code",
      "source": [
        "# 1-2. x='brand', y='profit'\n",
        "# hue = 'gender', col='wealth_segment', row='product_class'\n",
        "sns.set(style='whitegrid', palette='pastel')\n",
        "\n",
        "plot_1 = sns.catplot(x='brand', y='profit', data=join_df, hue='gender', col='wealth_segment', row='product_class',kind='bar')\n",
        "for ax in plot_1.axes.flatten():\n",
        "    ax.tick_params(axis='x', rotation=45)\n",
        "\n",
        "plt.show()"
      ],
      "metadata": {
        "id": "ZHUtPyvKmbm2"
      },
      "execution_count": null,
      "outputs": []
    },
    {
      "cell_type": "code",
      "source": [
        "# 1-3. x='brand', y='profit'\n",
        "# hue = 'online_order', col='wealth_segment', row='state'\n",
        "sns.set(style='whitegrid', palette='pastel')\n",
        "\n",
        "plot_1 = sns.catplot(x='brand', y='profit', data=join_df, hue='online_order', col='wealth_segment', row='state',kind='bar')\n",
        "for ax in plot_1.axes.flatten():\n",
        "    ax.tick_params(axis='x', rotation=45)\n",
        "\n",
        "plt.show()"
      ],
      "metadata": {
        "id": "byK7ttZCnv0F"
      },
      "execution_count": null,
      "outputs": []
    },
    {
      "cell_type": "code",
      "source": [
        "# 1-4. x='brand', y='profit'\n",
        "# hue = 'owns_car', col='wealth_segment', row='state'\n",
        "sns.set(style='whitegrid', palette='pastel')\n",
        "\n",
        "plot_1 = sns.catplot(x='brand', y='profit', data=join_df, hue='owns_car', col='wealth_segment', row='state',kind='bar')\n",
        "for ax in plot_1.axes.flatten():\n",
        "    ax.tick_params(axis='x', rotation=45)\n",
        "\n",
        "plt.show()"
      ],
      "metadata": {
        "id": "xIMRcHbJRT4v"
      },
      "execution_count": null,
      "outputs": []
    },
    {
      "cell_type": "code",
      "source": [
        "# 2-1. x='product_line', y='profit'\n",
        "# hue = 'gender', col='wealth_segment', row='state'\n",
        "sns.set(style='whitegrid', palette='pastel')\n",
        "\n",
        "plot_1 = sns.catplot(x='product_line', y='profit', data=join_df, hue='gender', col='wealth_segment', row='state',kind='bar')\n",
        "for ax in plot_1.axes.flatten():\n",
        "    ax.tick_params(axis='x', rotation=45)\n",
        "\n",
        "plt.show()"
      ],
      "metadata": {
        "id": "T2J5C0tmMtrC"
      },
      "execution_count": null,
      "outputs": []
    },
    {
      "cell_type": "code",
      "source": [
        "# 2-2. x='product_line', y='profit'\n",
        "# hue = 'online_order', col='wealth_segment', row='state'\n",
        "sns.set(style='whitegrid', palette='pastel')\n",
        "plot_1 = sns.catplot(x='product_line', y='profit', data=join_df, hue='online_order', col='wealth_segment', row='state',kind='bar')\n",
        "for ax in plot_1.axes.flatten():\n",
        "    ax.tick_params(axis='x', rotation=45)\n",
        "\n",
        "plt.show()"
      ],
      "metadata": {
        "id": "2uXr6PoENOZq"
      },
      "execution_count": null,
      "outputs": []
    },
    {
      "cell_type": "code",
      "source": [
        "# 2-3. x='product_line', y='profit'\n",
        "# hue = 'online_order', col='product_class', row='state'\n",
        "sns.set(style='whitegrid', palette='pastel')\n",
        "plot_1 = sns.catplot(x='product_line', y='profit', data=join_df, hue='online_order', col='product_class', row='state',kind='bar')\n",
        "for ax in plot_1.axes.flatten():\n",
        "    ax.tick_params(axis='x', rotation=45)\n",
        "\n",
        "plt.show()"
      ],
      "metadata": {
        "id": "7maxb1xuNkzp"
      },
      "execution_count": null,
      "outputs": []
    },
    {
      "cell_type": "code",
      "source": [
        "# 3-1. x='age_group', y='profit'\n",
        "# hue = 'online_order', col='product_class', row='state'\n",
        "sns.set(style='whitegrid', palette='pastel')\n",
        "plot_1 = sns.catplot(x='age_group', y='profit', data=join_df, hue='online_order', col='product_class', row='state',kind='bar')\n",
        "for ax in plot_1.axes.flatten():\n",
        "    ax.tick_params(axis='x', rotation=45)\n",
        "\n",
        "plt.show()"
      ],
      "metadata": {
        "id": "_buE-3pFQHu4"
      },
      "execution_count": null,
      "outputs": []
    },
    {
      "cell_type": "code",
      "source": [
        "# 3-2. x='age_group', y='profit'\n",
        "# hue = 'gender', col='product_class', row='state'\n",
        "sns.set(style='whitegrid', palette='pastel')\n",
        "plot_1 = sns.catplot(x='age_group', y='profit', data=join_df, hue='gender', col='product_class', row='state',kind='bar')\n",
        "for ax in plot_1.axes.flatten():\n",
        "    ax.tick_params(axis='x', rotation=45)\n",
        "\n",
        "plt.show()\n"
      ],
      "metadata": {
        "id": "owjWM-_cQeWq"
      },
      "execution_count": null,
      "outputs": []
    },
    {
      "cell_type": "code",
      "source": [
        "# 3-3. x='age_group', y='profit'\n",
        "# hue = 'wealth_segment', col='product_class', row='state'\n",
        "sns.set(style='whitegrid', palette='pastel')\n",
        "plot_1 = sns.catplot(x='age_group', y='profit', data=join_df, hue='wealth_segment', col='product_class', row='state',kind='bar')\n",
        "for ax in plot_1.axes.flatten():\n",
        "    ax.tick_params(axis='x', rotation=45)\n",
        "\n",
        "plt.show()\n"
      ],
      "metadata": {
        "id": "kpEK_5koQyx_"
      },
      "execution_count": null,
      "outputs": []
    },
    {
      "cell_type": "markdown",
      "source": [
        "## 7. 多個Numerical v之間的相關性"
      ],
      "metadata": {
        "id": "EXHrlb-MKRm9"
      }
    },
    {
      "cell_type": "markdown",
      "source": [
        "### Heat Plot"
      ],
      "metadata": {
        "id": "9LUklqn3X3tc"
      }
    },
    {
      "cell_type": "code",
      "source": [
        "# 1.\n",
        "join_df[[\"tenure\",\"standard_cost\",\"profit\"]]"
      ],
      "metadata": {
        "id": "CFy1b4YvYGkg"
      },
      "execution_count": null,
      "outputs": []
    },
    {
      "cell_type": "code",
      "source": [
        "join_df[[\"tenure\",\"standard_cost\",\"profit\"]].corr()"
      ],
      "metadata": {
        "id": "tazDTQvBpjEk"
      },
      "execution_count": null,
      "outputs": []
    },
    {
      "cell_type": "code",
      "source": [
        "sns.heatmap(join_df[[\"tenure\",\"standard_cost\",\"profit\"]].corr(), annot=True)"
      ],
      "metadata": {
        "id": "ydQ9DVZgpuVq"
      },
      "execution_count": null,
      "outputs": []
    },
    {
      "cell_type": "code",
      "source": [
        "#2.\n",
        "join_df[[\"past_3_years_bike_related_purchases\",\"standard_cost\",\"profit\"]]"
      ],
      "metadata": {
        "id": "VxnMnRlZSKjI"
      },
      "execution_count": null,
      "outputs": []
    },
    {
      "cell_type": "code",
      "source": [
        "join_df[[\"past_3_years_bike_related_purchases\",\"standard_cost\",\"profit\"]].corr()"
      ],
      "metadata": {
        "id": "fFSx4RMtSbR8"
      },
      "execution_count": null,
      "outputs": []
    },
    {
      "cell_type": "code",
      "source": [
        "sns.heatmap(join_df[[\"past_3_years_bike_related_purchases\",\"standard_cost\",\"profit\"]].corr(), annot=True)"
      ],
      "metadata": {
        "id": "sqB-_0OiSi96"
      },
      "execution_count": null,
      "outputs": []
    },
    {
      "cell_type": "code",
      "source": [
        "# 3.\n",
        "join_df[[\"list_price\",\"profit\",\"tenure\"]]"
      ],
      "metadata": {
        "id": "gBTccqGjSlpt"
      },
      "execution_count": null,
      "outputs": []
    },
    {
      "cell_type": "code",
      "source": [
        "join_df[[\"list_price\",\"profit\",\"tenure\"]].corr()"
      ],
      "metadata": {
        "id": "Y8cMNAZDS0T4"
      },
      "execution_count": null,
      "outputs": []
    },
    {
      "cell_type": "code",
      "source": [
        "sns.heatmap(join_df[[\"list_price\",\"profit\",\"tenure\"]].corr(), annot=True)"
      ],
      "metadata": {
        "id": "Yi5YyDOsS45U"
      },
      "execution_count": null,
      "outputs": []
    },
    {
      "cell_type": "code",
      "source": [
        "#4.\n",
        "join_df[[\"past_3_years_bike_related_purchases\",\"profit\",\"tenure\"]]"
      ],
      "metadata": {
        "id": "OC2f9gEVS88i"
      },
      "execution_count": null,
      "outputs": []
    },
    {
      "cell_type": "code",
      "source": [
        "join_df[[\"past_3_years_bike_related_purchases\",\"profit\",\"tenure\"]].corr()"
      ],
      "metadata": {
        "id": "DSqNBDM0TQcj"
      },
      "execution_count": null,
      "outputs": []
    },
    {
      "cell_type": "code",
      "source": [
        "sns.heatmap(join_df[[\"past_3_years_bike_related_purchases\",\"profit\",\"tenure\"]].corr(), annot=True)"
      ],
      "metadata": {
        "id": "Y3tx0JFQTTGP"
      },
      "execution_count": null,
      "outputs": []
    },
    {
      "cell_type": "markdown",
      "source": [
        "# Cohort Analysis"
      ],
      "metadata": {
        "id": "uXwvL0hzSf-d"
      }
    },
    {
      "cell_type": "markdown",
      "source": [
        "## Assigned the Cohorts & Calculated the Monthly Offset"
      ],
      "metadata": {
        "id": "trhrnObMOL86"
      }
    },
    {
      "cell_type": "code",
      "source": [
        "# Transaction_df 有 transaction_date, 也就是說有一整年的data, 所以 Cohort by Month\n",
        "# 總共有幾千個用戶, 又有20000筆transaction = 一人一年有多筆transaction\n",
        "\n",
        "# 所以看這個人在這一年裡發生第一筆transaction的月份,就是這個人的Cohort Month"
      ],
      "metadata": {
        "id": "FaaZSBslORey"
      },
      "execution_count": null,
      "outputs": []
    },
    {
      "cell_type": "code",
      "source": [
        "# 將交易日期轉成datetime的格式\n",
        "# 並從其中某一筆交易取出「該筆交易所屬月份的第一天」\n",
        "transaction_df['transaction_date'] = pd.to_datetime(transaction_df['transaction_date'])\n",
        "dt.datetime(transaction_df['transaction_date'][1].year, transaction_df['transaction_date'][1].month, 1)"
      ],
      "metadata": {
        "id": "mdWAqk5HOyit"
      },
      "execution_count": null,
      "outputs": []
    },
    {
      "cell_type": "markdown",
      "source": [
        "### Step1. 先求 Transaction Month"
      ],
      "metadata": {
        "id": "zeDt04KFPRnl"
      }
    },
    {
      "cell_type": "code",
      "source": [
        "# 先要把transaction_date變成transaction_month. 可利用datetime()\n",
        "# datetime(year, month ,1)把統一的日期都變為1號\n",
        "# A function that will parse the date Time based cohort:  1 day of month\n",
        "\n",
        "def get_month(x):\n",
        "  return dt.datetime(x.year, x.month, 1)\n",
        "\n",
        "# Create transaction_date column based on month and store in TransactionMonth\n",
        "# 用apply()剛剛自定義的函數,把transaction_date變成transaction_month, 就是把每筆transaction都變成當月的1號\n",
        "# 現在有了transaction_month就可以求cohort month了\n",
        "\n",
        "transaction_df['TransactionMonth'] = transaction_df['transaction_date'].apply(get_month)\n",
        "transaction_df"
      ],
      "metadata": {
        "id": "m1qGFRQJPSUN"
      },
      "execution_count": null,
      "outputs": []
    },
    {
      "cell_type": "markdown",
      "source": [
        "### HW: .min()和.transform('min)的區別？\n",
        "* .min(): 是按照customer_id當index排列出來, 但是少於總行數2萬筆.\n",
        "* .transform('min'): 是把每一筆transaciton都當作一個index, 排列出所有2萬筆的transcation. 只不過會有duplicate data.後面用unique()就可以調整"
      ],
      "metadata": {
        "id": "eHnpxd0kPeOK"
      }
    },
    {
      "cell_type": "markdown",
      "source": [
        "### Step 2. 再求 Cohort Month"
      ],
      "metadata": {
        "id": "EoKo2qJbPnZ6"
      }
    },
    {
      "cell_type": "code",
      "source": [
        "# 每一個customer_id,在所有歷史紀錄裡發生的第一筆transaction所在的月份\n",
        "# 就是groupby customer_id 對於 transaction month 求 min\n",
        "\n",
        "transaction_df.groupby('customer_id')['TransactionMonth'].min()"
      ],
      "metadata": {
        "id": "4Rjcqw2vPtPS"
      },
      "execution_count": null,
      "outputs": []
    },
    {
      "cell_type": "code",
      "source": [
        "transaction_df.groupby('customer_id')['TransactionMonth'].transform('min')"
      ],
      "metadata": {
        "id": "QZm4sb44P0E1"
      },
      "execution_count": null,
      "outputs": []
    },
    {
      "cell_type": "code",
      "source": [
        "# Grouping by customer_id and select the InvoiceMonth value\n",
        "# Assigning a minimum InvoiceMonth value to the dataset\n",
        "\n",
        "# 知道每一行這個customer_id 所有的transcation以後,這個id的第一筆transaction所在的月份\n",
        "# 增加一列叫做cohort month\n",
        "\n",
        "\n",
        "transaction_df['CohortMonth'] = transaction_df.groupby('customer_id')['TransactionMonth'].transform('min')\n",
        "\n",
        "# printing top 5 rows\n",
        "\n",
        "print(transaction_df.head())"
      ],
      "metadata": {
        "id": "cYlLhztFP16u"
      },
      "execution_count": null,
      "outputs": []
    },
    {
      "cell_type": "code",
      "source": [
        "# 舉例講解：\n",
        "# customer_id是2950的這個人,他所在的transaction moth是02-01,他的cohort month也是02-01\n",
        "# 證明2950的這個人的第一筆transaction就是發生在2月份\n",
        "\n",
        "# customer_id是3120的這個人,他所在的transaction month是05-01,他的cohort month是01-01\n",
        "# 證明3120的這個人的第一筆transaction是發生在1月份"
      ],
      "metadata": {
        "id": "TGNoFFQrP7Zl"
      },
      "execution_count": null,
      "outputs": []
    },
    {
      "cell_type": "markdown",
      "source": [
        "### Step 3. 求 Cohort Index"
      ],
      "metadata": {
        "id": "oB44gSfkP9kG"
      }
    },
    {
      "cell_type": "code",
      "source": [
        "# 現在有每一個customer_id也就是每個人的cohort month, 已經排列出每個人的第一筆交易紀錄的月份\n",
        "# 接著就要求cohort index, 就是有這一整年的交易紀錄,所以用每個month來看差異\n",
        "# 觀察每個月購買數量的對比"
      ],
      "metadata": {
        "id": "wtaln14BQNZW"
      },
      "execution_count": null,
      "outputs": []
    },
    {
      "cell_type": "code",
      "source": [
        "# Q: 這裡的code看不懂\n",
        "# A: 給任何一個column, 自動偵測年月日,\n",
        "#    放回到transaction_df裡.一個歸類在transactionMonth,一個歸類在CohortMonth因為日不怎麼用得到,所以用下底線替換掉\n",
        "\n",
        "\n",
        "def get_date_int(df, column):\n",
        "    year = df[column].dt.year\n",
        "    month = df[column].dt.month\n",
        "    day = df[column].dt.day\n",
        "    return year, month, day\n",
        "\n",
        "# Getting the integers for date parts from the `InvoiceDay` column\n",
        "\n",
        "transcation_year, transaction_month, _ = get_date_int(transaction_df, 'TransactionMonth')\n",
        "\n",
        "# Getting the integers for date parts from the `CohortDay` column\n",
        "\n",
        "cohort_year, cohort_month, _ = get_date_int(transaction_df, 'CohortMonth')"
      ],
      "metadata": {
        "id": "bpJ3Zuf1QRRE"
      },
      "execution_count": null,
      "outputs": []
    },
    {
      "cell_type": "code",
      "source": [
        "# 那cohort index要怎麼求？\n",
        "# 用transaction month的這一列, 證明這個人在這個月還在active\n",
        "# 距離cohort month發生第一筆交易紀錄的月份是“第幾個月”,即是他的cohort index\n",
        "# 證明這個人在第幾個月還在active"
      ],
      "metadata": {
        "id": "WHPzJbL1QVqS"
      },
      "execution_count": null,
      "outputs": []
    },
    {
      "cell_type": "code",
      "source": [
        "#  Get the  difference in years 減掉年份的差異＊12\n",
        "\n",
        "years_diff = transcation_year - cohort_year\n",
        "\n",
        "# Calculate difference in months 減掉月份的差異 + 1\n",
        "# 如果想把還在active的當月作為cohort month 1的話,就 +1\n",
        "# 如果想從 cohort month 0 開始算的話,就不用加了\n",
        "\n",
        "months_diff = transaction_month - cohort_month\n",
        "\"\"\" Extract the difference in months from all previous values\n",
        " \"+1\" in addeded at the end so that first month is marked as 1 instead of 0 for easier interpretation.\n",
        " \"\"\"\n",
        "transaction_df['CohortIndex'] = years_diff * 12 + months_diff  + 1\n",
        "transaction_df.head(5)"
      ],
      "metadata": {
        "id": "WAXmuB-eQeFK"
      },
      "execution_count": null,
      "outputs": []
    },
    {
      "cell_type": "markdown",
      "source": [
        "### Step 4. 計算總人口數 Number of Customer id"
      ],
      "metadata": {
        "id": "CyU_bVTxQsAg"
      }
    },
    {
      "cell_type": "code",
      "source": [
        "# 有了transaction month, cohort month之後, 現在只差熱力圖格子裡的留存率.就要算留存率就先算出 “總人數的變化”.\n",
        "# 那要怎麼算在cohort的 month1、month2… 的 “總人數”呢？"
      ],
      "metadata": {
        "id": "6k28aY3NQ5On"
      },
      "execution_count": null,
      "outputs": []
    },
    {
      "cell_type": "code",
      "source": [
        "# Counting daily active user from each chort\n",
        "# Counting number of unique customer Id's falling in each group of CohortMonth and CohortIndex\n",
        "\n",
        "# 就是 group by cohort month 和 cohort index 再count unique customer_id.\n",
        "\n",
        "cohort_data = transaction_df.groupby(['CohortMonth', 'CohortIndex']).nunique()['customer_id'].reset_index()\n",
        "\n",
        "# Printing top 5 rows of Dataframe\n",
        "\n",
        "cohort_data.head(5)"
      ],
      "metadata": {
        "id": "MyLztMnnQ5nn"
      },
      "execution_count": null,
      "outputs": []
    },
    {
      "cell_type": "code",
      "source": [
        "# 講解：\n",
        "# 跑出來的結果就是3列N行\n",
        "# 同一批人\n",
        "# Cohort month 的第1個 月份, 一共有1358個unique customer id\n",
        "# 在這1358個人裡面, Cohort month 的第2個 月份, 一共有497個人還在購買自行車(1358個人裡的497個人還在active)\n",
        "\n",
        "#注意一下第5個月份, 繼續購買的人數增加了, 表示在1358個人裡, 有些人在第3、4個月都沒有購買. 但是在第5個月購買了"
      ],
      "metadata": {
        "id": "wQh3ur-GQ7Sj"
      },
      "execution_count": null,
      "outputs": []
    },
    {
      "cell_type": "markdown",
      "source": [
        "## Calculate business metrics: Retention rate"
      ],
      "metadata": {
        "id": "Xn06SXUJRLmt"
      }
    },
    {
      "cell_type": "markdown",
      "source": [
        "### Step 5. 整理成Pivot Table & 計算留存率"
      ],
      "metadata": {
        "id": "QLq0n9xFRQeY"
      }
    },
    {
      "cell_type": "code",
      "source": [
        "# 這裡用 Pivot Table 做整理\n",
        "# 可以一目瞭然. 一次看清楚所有data."
      ],
      "metadata": {
        "id": "IWEk6FwhRRum"
      },
      "execution_count": null,
      "outputs": []
    },
    {
      "cell_type": "code",
      "source": [
        "# index放 Cohort Month, 就是第一筆transaction購買紀錄的月份\n",
        "# columns放 Cohort Inedex, 第1個月份到第12個月份, 按照月份來看\n",
        "# value 放的是 Customer id, 標出每個月份還持續購買的總人數\n",
        "\n",
        "\n",
        "cohort_data.pivot(index='CohortMonth',  columns ='CohortIndex', values = 'customer_id')"
      ],
      "metadata": {
        "id": "QwZeIcfVRUtR"
      },
      "execution_count": null,
      "outputs": []
    },
    {
      "cell_type": "code",
      "source": [
        "cohort_counts = cohort_data.pivot(index='CohortMonth',  columns ='CohortIndex', values = 'customer_id')\n",
        "\n",
        "# 計算留存率！ 每個值去除以他們一橫行的第一列的總人口數\n",
        "# 先把第1列提取出來\n",
        "\n",
        "cohort_sizes = cohort_counts.iloc[:,0]\n",
        "\n",
        "# 把整個table, 一橫行都除以他們的第一列\n",
        "retention = cohort_counts.divide(cohort_sizes, axis=0)\n",
        "\n",
        "# Coverting the retention rate into percentage and Rounding off.\n",
        "retention.round(3)*100"
      ],
      "metadata": {
        "id": "WLkGUu-_RW2O"
      },
      "execution_count": null,
      "outputs": []
    },
    {
      "cell_type": "markdown",
      "source": [],
      "metadata": {
        "id": "RHTkvJGiRdeN"
      }
    },
    {
      "cell_type": "markdown",
      "source": [
        "## Visualizing the retention rate"
      ],
      "metadata": {
        "id": "I0knZo9jRj2-"
      }
    },
    {
      "cell_type": "code",
      "source": [
        "retention = retention.round(3)*100\n",
        "retention.index = retention.index.strftime('%Y-%m')\n",
        "# Initialize the figure\n",
        "plt.figure(figsize=(16, 10))\n",
        "# Adding a title\n",
        "plt.title('Average Standard Cost: Monthly Cohorts', fontsize = 14)\n",
        "# Creating the heatmap\n",
        "sns.heatmap(retention, annot = True,vmin = 0.0, vmax =100,cmap=\"YlGnBu\", fmt='g')\n",
        "plt.ylabel('Cohort Month')\n",
        "plt.xlabel('Cohort Index')\n",
        "plt.yticks( rotation=360)\n",
        "plt.show()"
      ],
      "metadata": {
        "id": "g5Oyuv9oRlRS"
      },
      "execution_count": null,
      "outputs": []
    },
    {
      "cell_type": "code",
      "source": [
        "# 這裡Cohort Analysis就做完了\n",
        "# 看到留存率的變化現象, 就要找出變化的原因！利用Segmentation Analysis\n",
        "# 挑變化明顯、差距大的, 找出上升和下降的原因\n",
        "# Sementation Analysis去filter 上升和下降的原因."
      ],
      "metadata": {
        "id": "YAHD4mD8RqJp"
      },
      "execution_count": null,
      "outputs": []
    },
    {
      "cell_type": "code",
      "source": [
        "join_df = pd.merge(transaction_df, demographic_df, on='customer_id', how = 'inner').merge(address_df, on='customer_id', how = 'inner')\n",
        "join_df.head()"
      ],
      "metadata": {
        "id": "9B1A2TvsgHYn"
      },
      "execution_count": null,
      "outputs": []
    },
    {
      "cell_type": "markdown",
      "source": [
        "# Segmentation Anaylsis\n",
        "\n",
        "*   Root Cause Analysis of the Retention Rate\n",
        "*   Analysing the changing reasons\n",
        "\n"
      ],
      "metadata": {
        "id": "SOf8B0y_ShhY"
      }
    },
    {
      "cell_type": "markdown",
      "source": [
        "## Case 1: 2024-07 52.5% -> 28.8%"
      ],
      "metadata": {
        "id": "D7gPquMRgmuM"
      }
    },
    {
      "cell_type": "markdown",
      "source": [
        "### 提取 Data"
      ],
      "metadata": {
        "id": "v5vcvO23lyUf"
      }
    },
    {
      "cell_type": "code",
      "source": [
        "# 把join_df裡的customer_id 和 profit用group by 分組 並且 加總每個customer_id總共profit有多少. 最後重新整理index\n",
        "# df1裡新增一列叫做 rank_M, 按照profit做排名 並 倒敘\n",
        "\n",
        "df1 = join_df.groupby(['customer_id'])['profit'].sum().reset_index()\n",
        "df1['rank_M'] = join_df['profit'].rank(ascending = False)"
      ],
      "metadata": {
        "id": "cmU1xAmMSkYy"
      },
      "execution_count": null,
      "outputs": []
    },
    {
      "cell_type": "code",
      "source": [
        "df_52 = join_df[(join_df['CohortMonth'] == '2024-07-01') & (join_df['CohortIndex'] == 2)]"
      ],
      "metadata": {
        "id": "tpbbDIGVb_Tp"
      },
      "execution_count": null,
      "outputs": []
    },
    {
      "cell_type": "code",
      "source": [
        "df_28 = join_df[(join_df['CohortMonth'] == '2024-07-01') & (join_df['CohortIndex'] == 3)]"
      ],
      "metadata": {
        "id": "8LdOky7YcTaM"
      },
      "execution_count": null,
      "outputs": []
    },
    {
      "cell_type": "code",
      "source": [
        "df_52=df_52.copy()\n",
        "df_28=df_28.copy()"
      ],
      "metadata": {
        "id": "ogS8pcyQcZX8"
      },
      "execution_count": null,
      "outputs": []
    },
    {
      "cell_type": "markdown",
      "source": [
        "### 單一維度：y = 'profit'"
      ],
      "metadata": {
        "id": "F8WolnOUi_IJ"
      }
    },
    {
      "cell_type": "code",
      "source": [
        "# Q: 單一維度的displot, countplot都用不了"
      ],
      "metadata": {
        "id": "u9NZe0dljlHm"
      },
      "execution_count": null,
      "outputs": []
    },
    {
      "cell_type": "code",
      "source": [
        "sns.set(style=\"whitegrid\")\n",
        "fig, axes = plt.subplots(nrows=1, ncols=2, figsize=(10, 6), sharey=True)\n",
        "\n",
        "sns.boxplot(data=df_52, y='profit', ax=axes[0], color='skyblue')\n",
        "axes[0].set_title(\"Cohort Index 2 (52.5%) - Augest\")\n",
        "axes[0].set_ylabel(\"Profit\")\n",
        "axes[0].set_xlabel(\"2024-07 Cohort Group\")\n",
        "\n",
        "sns.boxplot(data=df_28, y='profit', ax=axes[1], color='lightcoral')\n",
        "axes[1].set_title(\"Cohort Index 3 (28.8%) - September\")\n",
        "axes[1].set_ylabel(\"\")\n",
        "axes[1].set_xlabel(\"2024-07 Cohort Group\")\n",
        "\n",
        "plt.tight_layout()\n",
        "plt.show()"
      ],
      "metadata": {
        "id": "fp-m49d8cebJ"
      },
      "execution_count": null,
      "outputs": []
    },
    {
      "cell_type": "markdown",
      "source": [
        "### 兩個維度：x軸cate, y軸num\n",
        "\n",
        "*   Strip Plot\n",
        "*   Box Plot\n",
        "*   Count Plot (x & hue都是cate)\n",
        "\n"
      ],
      "metadata": {
        "id": "QmUKPH64jKx6"
      }
    },
    {
      "cell_type": "code",
      "source": [
        "# Box Plot\n",
        "sns.set(style=\"whitegrid\")\n",
        "fig, axes = plt.subplots(nrows=1, ncols=2, figsize=(20, 6), sharey=True)\n",
        "\n",
        "\n",
        "sns.boxplot(data=df_52, x='brand', y='profit', ax=axes[0], color='skyblue')\n",
        "axes[0].set_title(\"Cohort Index 2 (52.5%) - Augest\")\n",
        "axes[0].set_ylabel(\"Profit\")\n",
        "axes[0].set_xlabel(\"2024-07 Cohort Group\")\n",
        "\n",
        "\n",
        "sns.boxplot(data=df_28, x='brand', y='profit', ax=axes[1], color='lightcoral')\n",
        "axes[1].set_title(\"Cohort Index 3 (28.8%) - September\")\n",
        "axes[1].set_ylabel(\"\")\n",
        "axes[1].set_xlabel(\"2024-07 Cohort Group\")\n",
        "\n",
        "plt.tight_layout()\n",
        "plt.show()"
      ],
      "metadata": {
        "id": "DF9tqMdMmB7j"
      },
      "execution_count": null,
      "outputs": []
    },
    {
      "cell_type": "code",
      "source": [
        "# Count Plot\n",
        "\n",
        "sns.set(style=\"whitegrid\")\n",
        "fig, axes = plt.subplots(nrows=1, ncols=2, figsize=(20, 10), sharey=True)\n",
        "\n",
        "\n",
        "sns.countplot(data=df_52, x='brand', hue='gender', ax=axes[0], color='skyblue')\n",
        "axes[0].set_title(\"Cohort Index 2 (52.5%) - September\")\n",
        "axes[0].set_ylabel(\"Profit\")\n",
        "axes[0].set_xlabel(\"2024-07 Cohort Group\")\n",
        "\n",
        "\n",
        "sns.countplot(data=df_28, x='brand', hue='gender', ax=axes[1], color='lightcoral')\n",
        "axes[1].set_title(\"Cohort Index 3 (28.8%) - October\")\n",
        "axes[1].set_ylabel(\"\")\n",
        "axes[1].set_xlabel(\"2024-07 Cohort Group\")\n",
        "\n",
        "plt.tight_layout()\n",
        "plt.show()"
      ],
      "metadata": {
        "id": "Xd5cCS0EmoKd"
      },
      "execution_count": null,
      "outputs": []
    },
    {
      "cell_type": "markdown",
      "source": [
        "### 三個維度： ：x軸cate, y軸num, hue\n",
        "*   Strip Plot 散點圖\n",
        "*   Box Plot 箱型圖(聚合型)\n",
        "*   Bar Plot 條形圖"
      ],
      "metadata": {
        "id": "slI_y9hPkOPI"
      }
    },
    {
      "cell_type": "code",
      "source": [
        "# Strip Plot\n",
        "\n",
        "sns.set(style=\"whitegrid\")\n",
        "fig, axes = plt.subplots(nrows=1, ncols=2, figsize=(20, 10), sharey=True)\n",
        "\n",
        "\n",
        "sns.stripplot(data=df_52, x='brand', y='profit', hue='gender', ax=axes[0], color='skyblue', size = 10 )\n",
        "axes[0].set_title(\"Cohort Index 2 (52.5%) - September\")\n",
        "axes[0].set_ylabel(\"Profit\")\n",
        "axes[0].set_xlabel(\"2024-07 Cohort Group\")\n",
        "\n",
        "\n",
        "sns.stripplot(data=df_28, x='brand', y='profit', hue='gender', ax=axes[1], color='lightcoral', size = 10 )\n",
        "axes[1].set_title(\"Cohort Index 3 (28.8%) - October\")\n",
        "axes[1].set_ylabel(\"\")\n",
        "axes[1].set_xlabel(\"2024-07 Cohort Group\")\n",
        "\n",
        "plt.tight_layout()\n",
        "plt.show()"
      ],
      "metadata": {
        "id": "CNhIu3XbeOFW"
      },
      "execution_count": null,
      "outputs": []
    },
    {
      "cell_type": "code",
      "source": [
        "# Bar Plot\n",
        "\n",
        "sns.set(style=\"whitegrid\")\n",
        "fig, axes = plt.subplots(nrows=1, ncols=2, figsize=(20, 10), sharey=True)\n",
        "\n",
        "\n",
        "sns.barplot(data=df_52, x='brand', y='profit', hue='gender', ax=axes[0], color='skyblue')\n",
        "axes[0].set_title(\"Cohort Index 2 (52.5%) - September\")\n",
        "axes[0].set_ylabel(\"Profit\")\n",
        "axes[0].set_xlabel(\"2024-07 Cohort Group\")\n",
        "\n",
        "\n",
        "sns.barplot(data=df_28, x='brand', y='profit', hue='gender', ax=axes[1], color='lightcoral')\n",
        "axes[1].set_title(\"Cohort Index 3 (28.8%) - October\")\n",
        "axes[1].set_ylabel(\"\")\n",
        "axes[1].set_xlabel(\"2024-07 Cohort Group\")\n",
        "\n",
        "plt.tight_layout()\n",
        "plt.show()"
      ],
      "metadata": {
        "id": "3xKENgH9dbPo"
      },
      "execution_count": null,
      "outputs": []
    },
    {
      "cell_type": "markdown",
      "source": [
        "### 三個維度：x軸 ＆ y軸 num, hue\n",
        "\n",
        "*   Joint Plot\n",
        "*   Point Plot\n",
        "\n"
      ],
      "metadata": {
        "id": "VGBEZQHik_5-"
      }
    },
    {
      "cell_type": "code",
      "source": [
        "print(join_df.columns)"
      ],
      "metadata": {
        "id": "WwtwpLvunuGG"
      },
      "execution_count": null,
      "outputs": []
    },
    {
      "cell_type": "code",
      "source": [
        "# Joint Plot\n",
        "# Q: 要怎麼變成一橫行？\n",
        "# A: Joint plot是Seaborn中自帶圖表佈局的函數. 不接受ax參數u,也無法直接嵌入subplot之中\n",
        "\n",
        "sns.jointplot(data=df_52, x='standard_cost', y='profit', ax=axes[0], color='skyblue')\n",
        "axes[0].set_title(\"Cohort Index 2 (52.5%) - September\")\n",
        "axes[0].set_ylabel(\"Profit\")\n",
        "axes[0].set_xlabel(\"2024-07 Cohort Group\")\n",
        "\n",
        "\n",
        "sns.jointplot(data=df_28, x='standard_cost', y='profit', ax=axes[1], color='lightcoral')\n",
        "axes[1].set_title(\"Cohort Index 3 (28.8%) - October\")\n",
        "axes[1].set_ylabel(\"\")\n",
        "axes[1].set_xlabel(\"2024-07 Cohort Group\")\n",
        "\n",
        "\n",
        "plt.tight_layout()\n",
        "plt.show()"
      ],
      "metadata": {
        "id": "TuH6BkKGn_t9"
      },
      "execution_count": null,
      "outputs": []
    },
    {
      "cell_type": "code",
      "source": [
        "# 相較之下用Scatter能呈現成本和獲利的關係\n",
        "\n",
        "fig, axes = plt.subplots(1, 2, figsize=(12, 5))  # 一橫行兩圖\n",
        "\n",
        "# 左邊圖\n",
        "sns.scatterplot(data=df_52, x='standard_cost', y='profit', ax=axes[0], color='skyblue')\n",
        "axes[0].set_title(\"Cohort Index 2 (52.5%) - September\")\n",
        "axes[0].set_ylabel(\"Profit\")\n",
        "axes[0].set_xlabel(\"2024-07 Cohort Group\")\n",
        "\n",
        "# 右邊圖\n",
        "sns.scatterplot(data=df_28, x='standard_cost', y='profit', ax=axes[1], color='lightcoral')\n",
        "axes[1].set_title(\"Cohort Index 3 (28.8%) - October\")\n",
        "axes[1].set_ylabel(\"\")  # 不顯示 y label\n",
        "axes[1].set_xlabel(\"2024-07 Cohort Group\")\n",
        "\n",
        "plt.tight_layout()\n",
        "plt.show()"
      ],
      "metadata": {
        "id": "0Zcw0HFNMQ0Z"
      },
      "execution_count": null,
      "outputs": []
    },
    {
      "cell_type": "markdown",
      "source": [
        "### 多個維度： Cat Plot"
      ],
      "metadata": {
        "id": "ubJUxgOslfut"
      }
    },
    {
      "cell_type": "code",
      "source": [
        "\n",
        "sns.set(style='whitegrid', palette='pastel')\n",
        "\n",
        "plot_1=sns.catplot(x='brand', y='profit', data=df_52, hue='gender', col='wealth_segment', row='state',kind='bar')\n",
        "axes[0].set_title(\"Cohort Index 2 (52.5%) - September\")\n",
        "axes[0].set_ylabel(\"Profit\")\n",
        "axes[0].set_xlabel(\"2024-07 Cohort Group\")\n",
        "for ax in plot_1.axes.flatten():\n",
        "    ax.tick_params(axis='x', rotation=45)\n",
        "\n",
        "plt.show()\n",
        "\n",
        "\n",
        "\n",
        "sns.set(style='whitegrid', palette='pastel')\n",
        "\n",
        "plot_2=sns.catplot(x='brand', y='profit', data=df_28, hue='gender', col='wealth_segment', row='state',kind='bar')\n",
        "axes[1].set_title(\"Cohort Index 3 (28.8%) - October\")\n",
        "axes[1].set_ylabel(\"\")\n",
        "axes[1].set_xlabel(\"2024-07 Cohort Group\")\n",
        "for ax in plot_2.axes.flatten():\n",
        "    ax.tick_params(axis='x', rotation=45)\n",
        "\n",
        "plt.show()"
      ],
      "metadata": {
        "id": "ia2sX9_HlllU"
      },
      "execution_count": null,
      "outputs": []
    },
    {
      "cell_type": "markdown",
      "source": [
        "### 多個Num V: Heat Plot"
      ],
      "metadata": {
        "id": "D4cY_c1elmKu"
      }
    },
    {
      "cell_type": "code",
      "source": [
        "df_52[[\"tenure\",\"standard_cost\",\"profit\"]].corr()\n",
        "df_28[[\"tenure\",\"standard_cost\",\"profit\"]].corr()"
      ],
      "metadata": {
        "id": "Bd-GX66MtyZn"
      },
      "execution_count": null,
      "outputs": []
    },
    {
      "cell_type": "code",
      "source": [
        "sns.set(style=\"whitegrid\")\n",
        "fig, axes = plt.subplots(nrows=1, ncols=2, figsize=(10, 4), sharey=True)\n",
        "\n",
        "\n",
        "sns.heatmap(df_52[[\"tenure\",\"standard_cost\",\"profit\"]].corr(), annot=True, ax=axes[0])\n",
        "axes[0].set_title(\"Cohort Index 2 (52.5%) - September\")\n",
        "axes[0].set_xlabel(\"2024-07 Cohort Group\")\n",
        "\n",
        "\n",
        "sns.heatmap(df_28[[\"tenure\",\"standard_cost\",\"profit\"]].corr(), annot=True, ax=axes[1])\n",
        "axes[1].set_title(\"Cohort Index 3 (28.8%) - October\")\n",
        "axes[1].set_xlabel(\"2024-07 Cohort Group\")\n",
        "\n",
        "plt.tight_layout()\n",
        "plt.show()"
      ],
      "metadata": {
        "id": "XnaIuK6st5a2"
      },
      "execution_count": null,
      "outputs": []
    },
    {
      "cell_type": "markdown",
      "source": [
        "## Case 2: 2024-10 15% -> 50%"
      ],
      "metadata": {
        "id": "KgWLW6lCPuew"
      }
    },
    {
      "cell_type": "markdown",
      "source": [
        "### 提取 Data"
      ],
      "metadata": {
        "id": "S8W8oe9g1m2q"
      }
    },
    {
      "cell_type": "code",
      "source": [
        "df1 = join_df.groupby(['customer_id'])['profit'].sum().reset_index()\n",
        "df1['rank_M'] = join_df['profit'].rank(ascending = False)"
      ],
      "metadata": {
        "id": "mAYEMWx01wRO"
      },
      "execution_count": null,
      "outputs": []
    },
    {
      "cell_type": "code",
      "source": [
        "df_15 = join_df[(join_df['CohortMonth'] == '2024-10-01') & (join_df['CohortIndex'] == 2)]\n",
        "df_50 = join_df[(join_df['CohortMonth'] == '2024-10-01') & (join_df['CohortIndex'] == 3)]"
      ],
      "metadata": {
        "id": "zucBXkpq1xIg"
      },
      "execution_count": null,
      "outputs": []
    },
    {
      "cell_type": "markdown",
      "source": [
        "### 單一維度：y = 'profit'"
      ],
      "metadata": {
        "id": "mbEwo_Xn1iXI"
      }
    },
    {
      "cell_type": "code",
      "source": [
        "# Box Plot\n",
        "sns.set(style=\"whitegrid\")\n",
        "fig, axes = plt.subplots(nrows=1, ncols=2, figsize=(10, 6), sharey=True)\n",
        "\n",
        "sns.boxplot(data=df_15, y='profit', ax=axes[0], color='skyblue')\n",
        "axes[0].set_title(\"Cohort Index 2 (15%) - October\")\n",
        "axes[0].set_ylabel(\"Profit\")\n",
        "axes[0].set_xlabel(\"2024-10 Cohort Group\")\n",
        "\n",
        "sns.boxplot(data=df_50, y='profit', ax=axes[1], color='lightcoral')\n",
        "axes[1].set_title(\"Cohort Index 3 (50%) - November\")\n",
        "axes[1].set_ylabel(\"\")\n",
        "axes[1].set_xlabel(\"2024-10 Cohort Group\")\n",
        "\n",
        "plt.tight_layout()\n",
        "plt.show()"
      ],
      "metadata": {
        "id": "3gXdJFjG16in"
      },
      "execution_count": null,
      "outputs": []
    },
    {
      "cell_type": "markdown",
      "source": [
        "### 兩個維度：x軸cate, y軸num\n",
        "\n",
        "*   Strip Plot\n",
        "*   Box Plot\n",
        "*   Count Plot (x & hue都是cate)"
      ],
      "metadata": {
        "id": "gEnWf2A51eIk"
      }
    },
    {
      "cell_type": "code",
      "source": [
        "# Box Plot\n",
        "\n",
        "sns.set(style=\"whitegrid\")\n",
        "fig, axes = plt.subplots(nrows=1, ncols=2, figsize=(20, 10), sharey=True)\n",
        "\n",
        "sns.boxplot(data=df_15, x='brand', y='profit', ax=axes[0], color='skyblue')\n",
        "axes[0].set_title(\"Cohort Index 2 (15%) - October\")\n",
        "axes[0].set_ylabel(\"Profit\")\n",
        "axes[0].set_xlabel(\"2024-10 Cohort Group\")\n",
        "\n",
        "sns.boxplot(data=df_50, x='brand', y='profit', ax=axes[1], color='lightcoral')\n",
        "axes[1].set_title(\"Cohort Index 3 (50%) - November\")\n",
        "axes[1].set_ylabel(\"\")\n",
        "axes[1].set_xlabel(\"2024-10 Cohort Group\")\n",
        "\n",
        "plt.tight_layout()\n",
        "plt.show()"
      ],
      "metadata": {
        "id": "3Cdq2PhS2-fl"
      },
      "execution_count": null,
      "outputs": []
    },
    {
      "cell_type": "code",
      "source": [
        "# Count Plot\n",
        "sns.set(style=\"whitegrid\")\n",
        "fig, axes = plt.subplots(nrows=1, ncols=2, figsize=(20, 10), sharey=True)\n",
        "\n",
        "sns.countplot(data=df_15, x='brand', hue='gender', ax=axes[0], color='skyblue')\n",
        "axes[0].set_title(\"Cohort Index 2 (15%) - October\")\n",
        "axes[0].set_ylabel(\"Profit\")\n",
        "axes[0].set_xlabel(\"2024-10 Cohort Group\")\n",
        "\n",
        "sns.countplot(data=df_50, x='brand', hue='gender', ax=axes[1], color='lightcoral')\n",
        "axes[1].set_title(\"Cohort Index 3 (50%) - November\")\n",
        "axes[1].set_ylabel(\"\")\n",
        "axes[1].set_xlabel(\"2024-10 Cohort Group\")\n",
        "\n",
        "plt.tight_layout()\n",
        "plt.show()"
      ],
      "metadata": {
        "id": "7coyWXB73inf"
      },
      "execution_count": null,
      "outputs": []
    },
    {
      "cell_type": "markdown",
      "source": [
        "### 三個維度： ：x軸cate, y軸num, hue\n",
        "*   Strip Plot 散點圖\n",
        "*   Box Plot 箱型圖(聚合型)\n",
        "*   Bar Plot 條形圖"
      ],
      "metadata": {
        "id": "uEUYGXei1c2l"
      }
    },
    {
      "cell_type": "code",
      "source": [
        "# Bar Plot\n",
        "sns.set(style=\"whitegrid\")\n",
        "fig, axes = plt.subplots(nrows=1, ncols=2, figsize=(20, 10), sharey=True)\n",
        "\n",
        "sns.barplot(data=df_15, x='brand', y='profit', hue='gender', ax=axes[0], color='skyblue')\n",
        "axes[0].set_title(\"Cohort Index 2 (15%) - October\")\n",
        "axes[0].set_ylabel(\"Profit\")\n",
        "axes[0].set_xlabel(\"2024-10 Cohort Group\")\n",
        "\n",
        "sns.barplot(data=df_50, x='brand', y='profit', hue='gender', ax=axes[1], color='lightcoral')\n",
        "axes[1].set_title(\"Cohort Index 3 (50%) - November\")\n",
        "axes[1].set_ylabel(\"\")\n",
        "axes[1].set_xlabel(\"2024-10 Cohort Group\")\n",
        "\n",
        "plt.tight_layout()\n",
        "plt.show()"
      ],
      "metadata": {
        "id": "m_RrDKVj3-CS"
      },
      "execution_count": null,
      "outputs": []
    },
    {
      "cell_type": "markdown",
      "source": [
        "### 三個維度：x軸 ＆ y軸 num, hue\n",
        "\n",
        "*   Joint Plot\n",
        "*   Point Plot"
      ],
      "metadata": {
        "id": "p5qOeamg1XOE"
      }
    },
    {
      "cell_type": "code",
      "source": [
        "# 沒有意義"
      ],
      "metadata": {
        "id": "hMeX4Zmk5Wf-"
      },
      "execution_count": null,
      "outputs": []
    },
    {
      "cell_type": "markdown",
      "source": [
        "### 多個維度： Cat Plot"
      ],
      "metadata": {
        "id": "7xjZtVRS1Tup"
      }
    },
    {
      "cell_type": "code",
      "source": [
        "# 沒有特別顯示有效的差異"
      ],
      "metadata": {
        "id": "41G0W5RX_Ojq"
      },
      "execution_count": null,
      "outputs": []
    },
    {
      "cell_type": "markdown",
      "source": [
        "### 多個Num V: Heat Plot"
      ],
      "metadata": {
        "id": "JjsOPiod1QY4"
      }
    },
    {
      "cell_type": "code",
      "source": [
        "df_15[[\"tenure\",\"standard_cost\",\"profit\"]].corr()\n",
        "df_50[[\"tenure\",\"standard_cost\",\"profit\"]].corr()"
      ],
      "metadata": {
        "id": "gbMAjzu__T3T"
      },
      "execution_count": null,
      "outputs": []
    },
    {
      "cell_type": "code",
      "source": [
        "sns.set(style=\"whitegrid\")\n",
        "fig, axes = plt.subplots(nrows=1, ncols=2, figsize=(10, 4), sharey=True)\n",
        "\n",
        "sns.heatmap(df_15[[\"tenure\",\"standard_cost\",\"profit\"]].corr(), annot=True, ax=axes[0])\n",
        "axes[0].set_title(\"Cohort Index 2 (15%) - October\")\n",
        "axes[0].set_xlabel(\"2024-10 Cohort Group\")\n",
        "\n",
        "sns.heatmap(df_50[[\"tenure\",\"standard_cost\",\"profit\"]].corr(), annot=True, ax=axes[1])\n",
        "axes[1].set_title(\"Cohort Index 3 (50%) - November\")\n",
        "axes[1].set_xlabel(\"2024-10 Cohort Group\")\n",
        "\n",
        "plt.tight_layout()\n",
        "plt.show()"
      ],
      "metadata": {
        "id": "Fb5sBkrz_6Mt"
      },
      "execution_count": null,
      "outputs": []
    },
    {
      "cell_type": "markdown",
      "source": [
        "# RFM Model 顧客價值分析模型\n",
        "\n",
        "*   Recency : 最近一次購買距今多久？\n",
        "*   Frequency : 一段時間內的購買次數\n",
        "*   Monetary : 購買總金額\n",
        "\n"
      ],
      "metadata": {
        "id": "tEPn753P1QTX"
      }
    },
    {
      "cell_type": "markdown",
      "source": [
        "## Recency Rank"
      ],
      "metadata": {
        "id": "Jh_fSVV69T60"
      }
    },
    {
      "cell_type": "code",
      "source": [
        "# 取得每個客戶最近一次的交易日期\n",
        "recency_df = transaction_df.groupby('customer_id')['transaction_date'].max().reset_index()"
      ],
      "metadata": {
        "id": "LksD9qpI1ygG"
      },
      "execution_count": null,
      "outputs": []
    },
    {
      "cell_type": "code",
      "source": [
        "# 依照最近期的時間由最近到最久遠排序\n",
        "recency_df = recency_df.sort_values(by='transaction_date', ascending=False).reset_index(drop=True)"
      ],
      "metadata": {
        "id": "hG7J_0jI4pV_"
      },
      "execution_count": null,
      "outputs": []
    },
    {
      "cell_type": "code",
      "source": [
        "# 新增一列叫 frecency_rank 加入排名的column\n",
        "recency_df['recency_rank'] = recency_df['transaction_date'].rank(method='first', ascending=False)\n",
        "recency_df.head()"
      ],
      "metadata": {
        "id": "cH-Vxd0d7k-j"
      },
      "execution_count": null,
      "outputs": []
    },
    {
      "cell_type": "markdown",
      "source": [
        "## Frequncy Rank"
      ],
      "metadata": {
        "id": "X4E0OCQY9bfx"
      }
    },
    {
      "cell_type": "code",
      "source": [
        "# 計算每一位客戶在今年有多少筆交易\n",
        "frequency_df = transaction_df.groupby('customer_id')['transaction_id'].nunique().reset_index()\n",
        "frequency_df.columns = ['customer_id', 'frequency']\n",
        "frequency_df"
      ],
      "metadata": {
        "id": "cPDqUXXi9wjM"
      },
      "execution_count": null,
      "outputs": []
    },
    {
      "cell_type": "code",
      "source": [
        "# 根據頻率次數由高到低排序\n",
        "frequency_df = frequency_df.sort_values(by='frequency', ascending=False).reset_index(drop=True)\n",
        "frequency_df"
      ],
      "metadata": {
        "id": "8kqzKA5M-KvB"
      },
      "execution_count": null,
      "outputs": []
    },
    {
      "cell_type": "code",
      "source": [
        "# 新增一列叫 frequency_rank 加入排名的column\n",
        "frequency_df['frequency_rank'] = frequency_df['frequency'].rank(method='first', ascending=False)\n",
        "frequency_df"
      ],
      "metadata": {
        "id": "p0SPA5Aa-kNU"
      },
      "execution_count": null,
      "outputs": []
    },
    {
      "cell_type": "markdown",
      "source": [
        "## Monetary Rank"
      ],
      "metadata": {
        "id": "3s2rTsLQ9f33"
      }
    },
    {
      "cell_type": "code",
      "source": [
        "# 計算每位客戶消費而賺取的盈利總數\n",
        "monetary_df = transaction_df.groupby('customer_id')['profit'].sum().reset_index()\n",
        "monetary_df"
      ],
      "metadata": {
        "id": "Y_akbdJVARrm"
      },
      "execution_count": null,
      "outputs": []
    },
    {
      "cell_type": "code",
      "source": [
        "# 依照盈利的金格由最高到最低排序\n",
        "monetary_df = monetary_df.sort_values(by='profit', ascending=False).reset_index(drop=True)\n",
        "monetary_df"
      ],
      "metadata": {
        "id": "5SAv22kdAkMy"
      },
      "execution_count": null,
      "outputs": []
    },
    {
      "cell_type": "code",
      "source": [
        "# 新增一列排名的column\n",
        "monetary_df['monetary_rank'] = monetary_df['profit'].rank(method='first', ascending=False)\n",
        "monetary_df"
      ],
      "metadata": {
        "id": "XOWAljhwAtZW"
      },
      "execution_count": null,
      "outputs": []
    },
    {
      "cell_type": "markdown",
      "source": [
        "##RFM Score Rank"
      ],
      "metadata": {
        "id": "-P7JqWzC9kgi"
      }
    },
    {
      "cell_type": "code",
      "source": [
        "# 提取每個的排名columns\n",
        "\n",
        "RFM_df = recency_df[['customer_id', 'recency_rank']].merge(\n",
        "    frequency_df[['customer_id', 'frequency_rank']], on='customer_id').merge(\n",
        "    monetary_df[['customer_id', 'monetary_rank']], on='customer_id')\n",
        "RFM_df"
      ],
      "metadata": {
        "id": "LFo5cHRABBM7"
      },
      "execution_count": null,
      "outputs": []
    },
    {
      "cell_type": "code",
      "source": [
        "RFM_df['RFM_score'] = (RFM_df['recency_rank'] + RFM_df['frequency_rank'] + RFM_df['monetary_rank'])/3\n",
        "RFM_df"
      ],
      "metadata": {
        "id": "Dn725UO5Bgzo"
      },
      "execution_count": null,
      "outputs": []
    },
    {
      "cell_type": "code",
      "source": [
        "# 定義條件\n",
        "\n",
        "conditions = [\n",
        "    (RFM_df['RFM_score'] >= 1) & (RFM_df['RFM_score'] <= 1000),\n",
        "    (RFM_df['RFM_score'] > 1000) & (RFM_df['RFM_score'] <= 3000),\n",
        "    (RFM_df['RFM_score'] > 3000) & (RFM_df['RFM_score'] <= 4000)\n",
        "]\n",
        "\n",
        "# 對應的分類\n",
        "choices = ['High Value', 'Medium Value', 'Low Value']\n",
        "\n",
        "# 新增一欄 customer_segment\n",
        "RFM_df['RFM_label'] = np.select(conditions, choices, default='Unknown')\n",
        "RFM_df"
      ],
      "metadata": {
        "id": "4pLK__ybEClP"
      },
      "execution_count": null,
      "outputs": []
    },
    {
      "cell_type": "markdown",
      "source": [
        "# RFM Model EDA"
      ],
      "metadata": {
        "id": "61udPEaMLPT7"
      }
    },
    {
      "cell_type": "markdown",
      "source": [
        "### 提取 Data"
      ],
      "metadata": {
        "id": "dw1amtwdLTO2"
      }
    },
    {
      "cell_type": "code",
      "source": [
        "join_RFM_df = pd.merge(RFM_df, join_df, on='customer_id', how = 'inner')\n",
        "join_RFM_df.head()"
      ],
      "metadata": {
        "id": "tADTGnz_Lm8f"
      },
      "execution_count": null,
      "outputs": []
    },
    {
      "cell_type": "code",
      "source": [
        "join_RFM_df.info()"
      ],
      "metadata": {
        "id": "W2bqsObIMEF_"
      },
      "execution_count": null,
      "outputs": []
    },
    {
      "cell_type": "markdown",
      "source": [
        "### 單一維度"
      ],
      "metadata": {
        "id": "f7Py2j9JNSv1"
      }
    },
    {
      "cell_type": "code",
      "source": [
        "# Dist Plot\n",
        "\n",
        "sns.distplot(join_RFM_df['RFM_score'], bins=30, rug=True)\n",
        "plt.show()"
      ],
      "metadata": {
        "id": "Qf11DYRKNVoo"
      },
      "execution_count": null,
      "outputs": []
    },
    {
      "cell_type": "code",
      "source": [
        "# Count Plot\n",
        "\n",
        "sns.countplot(data=join_RFM_df, x='RFM_label')\n",
        "plt.show()"
      ],
      "metadata": {
        "id": "1yVMoC2ZOy3X"
      },
      "execution_count": null,
      "outputs": []
    },
    {
      "cell_type": "markdown",
      "source": [
        "### 兩個維度：x軸cate, y軸num\n",
        "\n",
        "*   Strip Plot\n",
        "*   Box Plot\n",
        "*   Count Plot (x & hue都是cate)"
      ],
      "metadata": {
        "id": "BtbYJEYKNWmY"
      }
    },
    {
      "cell_type": "code",
      "source": [
        "# Box Plot\n",
        "sns.boxplot(data=join_RFM_df, x='RFM_label', y='profit')\n",
        "plt.show()"
      ],
      "metadata": {
        "id": "Ez8eM5qjPE_x"
      },
      "execution_count": null,
      "outputs": []
    },
    {
      "cell_type": "code",
      "source": [
        "# Count Plot\n",
        "sns.countplot(data=join_RFM_df, x='RFM_label', hue='gender')\n",
        "plt.show()"
      ],
      "metadata": {
        "id": "jEffkRN9PWrI"
      },
      "execution_count": null,
      "outputs": []
    },
    {
      "cell_type": "markdown",
      "source": [
        "### 三個維度： ：x軸cate, y軸num, hue\n",
        "*   Strip Plot 散點圖\n",
        "*   Box Plot 箱型圖(聚合型)\n",
        "*   Bar Plot 條形圖"
      ],
      "metadata": {
        "id": "M0wsebVsNmBX"
      }
    },
    {
      "cell_type": "code",
      "source": [
        "# Bar Plot\n",
        "sns.barplot(data=join_RFM_df, x='RFM_label', y='profit', hue='gender')\n",
        "plt.show()"
      ],
      "metadata": {
        "id": "3JB-XcDNPfiz"
      },
      "execution_count": null,
      "outputs": []
    },
    {
      "cell_type": "markdown",
      "source": [
        "### 三個維度：x軸 ＆ y軸 num, hue\n",
        "\n",
        "*   Joint Plot\n",
        "*   Point Plot"
      ],
      "metadata": {
        "id": "LPR1tRm_NyAf"
      }
    },
    {
      "cell_type": "markdown",
      "source": [
        "### 多個維度： Cat Plot"
      ],
      "metadata": {
        "id": "EdHBIIUsN3-f"
      }
    },
    {
      "cell_type": "code",
      "source": [
        "sns.set(style='whitegrid', palette='pastel')\n",
        "plt.figure(figsize=(20, 10))\n",
        "\n",
        "\n",
        "plot_3 = sns.catplot(x='brand', y='profit', data=join_RFM_df, hue='gender', col='RFM_label', row='state',kind='bar')\n",
        "plot_3.set(xlabel=\"brand\",ylabel=\"profit\")\n",
        "for ax in plot_3.axes.flatten():\n",
        "    ax.tick_params(axis='x', rotation=45)\n",
        "\n",
        "plt.show()"
      ],
      "metadata": {
        "id": "tqsrkYZfQmhg"
      },
      "execution_count": null,
      "outputs": []
    },
    {
      "cell_type": "markdown",
      "source": [
        "### 多個Num V: Heat Plot"
      ],
      "metadata": {
        "id": "od4fZCVQN7N9"
      }
    },
    {
      "cell_type": "code",
      "source": [
        "sns.heatmap(join_RFM_df[[\"recency_rank\",\"frequency_rank\",\"monetary_rank\"]].corr(), annot=True)\n",
        "plt.show()"
      ],
      "metadata": {
        "id": "0tkYjh9WRvuA"
      },
      "execution_count": null,
      "outputs": []
    },
    {
      "cell_type": "markdown",
      "source": [
        "# RFM Segmentation Analysis"
      ],
      "metadata": {
        "id": "YKWZj_P4R4L7"
      }
    },
    {
      "cell_type": "markdown",
      "source": [
        "### 提取Data"
      ],
      "metadata": {
        "id": "cdsPZ2PFb9qf"
      }
    },
    {
      "cell_type": "code",
      "source": [
        "df_rfm = join_RFM_df.groupby(['customer_id'])['profit'].sum().reset_index()\n",
        "df_rfm['rank_M'] = join_RFM_df['profit'].rank(ascending = False)"
      ],
      "metadata": {
        "id": "p7ZJPb07R7qN"
      },
      "execution_count": null,
      "outputs": []
    },
    {
      "cell_type": "code",
      "source": [
        "df_52 = join_RFM_df[(join_RFM_df['CohortMonth'] == '2024-07-01') & (join_RFM_df['CohortIndex'] == 2)]\n",
        "df_28 = join_RFM_df[(join_RFM_df['CohortMonth'] == '2024-07-01') & (join_RFM_df['CohortIndex'] == 3)]"
      ],
      "metadata": {
        "id": "Ph007uJjbEjE"
      },
      "execution_count": null,
      "outputs": []
    },
    {
      "cell_type": "markdown",
      "source": [
        "### 單一維度：y = 'profit’"
      ],
      "metadata": {
        "id": "UovP-UEkcE13"
      }
    },
    {
      "cell_type": "code",
      "source": [
        "# Box Plot\n",
        "sns.set(style=\"whitegrid\")\n",
        "fig, axes = plt.subplots(nrows=1, ncols=2, figsize=(10, 6))\n",
        "\n",
        "sns.boxplot(data=df_52, y='RFM_score', ax=axes[0], color='skyblue')\n",
        "axes[0].set_title(\"Cohort Index 2 (52.5%) - September\")\n",
        "axes[0].set_ylabel(\"RFM_score\")\n",
        "axes[0].set_xlabel(\"2024-07 Cohort Group\")\n",
        "\n",
        "sns.boxplot(data=df_28, y='RFM_score', ax=axes[1], color='lightcoral')\n",
        "axes[1].set_title(\"Cohort Index 3 (28.8%) - October\")\n",
        "axes[1].set_ylabel(\"\")\n",
        "axes[1].set_xlabel(\"2024-07 Cohort Group\")\n",
        "\n",
        "plt.tight_layout()\n",
        "plt.show()"
      ],
      "metadata": {
        "id": "gMU3Voi-nfeq"
      },
      "execution_count": null,
      "outputs": []
    },
    {
      "cell_type": "code",
      "source": [
        "# Count Plot\n",
        "sns.set(style=\"whitegrid\")\n",
        "fig, axes = plt.subplots(nrows=1, ncols=2, figsize=(10, 6))\n",
        "\n",
        "sns.countplot(data=df_52, x='RFM_label', ax=axes[0], color='skyblue')\n",
        "axes[0].set_title(\"Cohort Index 2 (52.5%) - September\")\n",
        "axes[0].set_ylabel(\"Count\")\n",
        "axes[0].set_xlabel(\"2024-07 Cohort Group\")\n",
        "\n",
        "sns.countplot(data=df_28, x='RFM_label', ax=axes[1], color='lightcoral')\n",
        "axes[1].set_title(\"Cohort Index 3 (28.8%) - October\")\n",
        "axes[1].set_ylabel(\"\")\n",
        "axes[1].set_xlabel(\"2024-07 Cohort Group\")\n",
        "\n",
        "plt.tight_layout()\n",
        "plt.show()"
      ],
      "metadata": {
        "id": "wJTkqylaokyE"
      },
      "execution_count": null,
      "outputs": []
    },
    {
      "cell_type": "markdown",
      "source": [
        "### 兩個維度：x軸cate, y軸num\n",
        "- Strip Plot\n",
        "- Box Plot\n",
        "- Count Plot (x & hue都是Cate)"
      ],
      "metadata": {
        "id": "iGGgwjkickVv"
      }
    },
    {
      "cell_type": "code",
      "source": [
        "# Box Plot\n",
        "sns.set(style=\"whitegrid\")\n",
        "fig, axes = plt.subplots(nrows=1, ncols=2, figsize=(20, 10), sharey=True)\n",
        "\n",
        "sns.boxplot(data=df_52, x='brand', y='RFM_score', ax=axes[0], color='skyblue')\n",
        "axes[0].set_title(\"Cohort Index 2 (52.5%) - September\")\n",
        "axes[0].set_ylabel(\"RFM_score\")\n",
        "axes[0].set_xlabel(\"2024-07 Cohort Group\")\n",
        "\n",
        "sns.boxplot(data=df_28, x='brand', y='RFM_score', ax=axes[1], color='lightcoral')\n",
        "axes[1].set_title(\"Cohort Index 3 (28.8%) - October\")\n",
        "axes[1].set_ylabel(\"\")\n",
        "axes[1].set_xlabel(\"2024-07 Cohort Group\")\n",
        "\n",
        "plt.tight_layout()\n",
        "plt.show()\n"
      ],
      "metadata": {
        "id": "SyAv4xR_dP-0"
      },
      "execution_count": null,
      "outputs": []
    },
    {
      "cell_type": "code",
      "source": [
        "sns.set(style=\"whitegrid\")\n",
        "fig, axes = plt.subplots(nrows=1, ncols=2, figsize=(20, 10), sharey=True)\n",
        "\n",
        "sns.boxplot(data=df_52, x='RFM_label', y='profit', ax=axes[0], color='skyblue')\n",
        "axes[0].set_title(\"Cohort Index 2 (52.5%) - September\")\n",
        "axes[0].set_ylabel(\"Profit\")\n",
        "axes[0].set_xlabel(\"2024-07 Cohort Group\")\n",
        "\n",
        "sns.boxplot(data=df_28, x='RFM_label', y='profit', ax=axes[1], color='lightcoral')\n",
        "axes[1].set_title(\"Cohort Index 3 (28.8%) - October\")\n",
        "axes[1].set_ylabel(\"\")\n",
        "axes[1].set_xlabel(\"2024-07 Cohort Group\")\n",
        "\n",
        "plt.tight_layout()\n",
        "plt.show()"
      ],
      "metadata": {
        "id": "68UQ-BLveC5j"
      },
      "execution_count": null,
      "outputs": []
    },
    {
      "cell_type": "code",
      "source": [
        "# Count Plot\n",
        "sns.set(style=\"whitegrid\")\n",
        "fig, axes = plt.subplots(nrows=1, ncols=2, figsize=(20, 10), sharey=True)\n",
        "\n",
        "sns.countplot(data=df_52, x='RFM_label', hue='gender', ax=axes[0], color='skyblue')\n",
        "axes[0].set_title(\"Cohort Index 2 (52.5%) - September\")\n",
        "axes[0].set_ylabel(\"Count\")\n",
        "axes[0].set_xlabel(\"2024-07 Cohort Group\")\n",
        "\n",
        "sns.countplot(data=df_28, x='RFM_label', hue='gender', ax=axes[1], color='lightcoral')\n",
        "axes[1].set_title(\"Cohort Index 3 (28.8%) - October\")\n",
        "axes[1].set_ylabel(\"\")\n",
        "axes[1].set_xlabel(\"2024-07 Cohort Group\")\n",
        "\n",
        "plt.tight_layout()\n",
        "plt.show()"
      ],
      "metadata": {
        "id": "pyktYcJXeww_"
      },
      "execution_count": null,
      "outputs": []
    },
    {
      "cell_type": "markdown",
      "source": [
        "### 三個維度：x軸cate, y軸num, hue\n",
        "- Strip Plot 散點圖\n",
        "- Box Plot 箱型圖(聚合型)\n",
        "- Bar Plot 條形圖"
      ],
      "metadata": {
        "id": "IGDgjaPtcn9v"
      }
    },
    {
      "cell_type": "code",
      "source": [
        "# Bar Plot\n",
        "sns.set(style=\"whitegrid\")\n",
        "fig, axes = plt.subplots(nrows=1, ncols=2, figsize=(20, 10), sharey=True)\n",
        "\n",
        "sns.barplot(data=df_52, x='RFM_label', y='RFM_score', hue='gender', ax=axes[0], color='skyblue')\n",
        "axes[0].set_title(\"Cohort Index 2 (52.5%) - September\")\n",
        "axes[0].set_ylabel(\"RFM_score\")\n",
        "axes[0].set_xlabel(\"2024-07 Cohort Group\")\n",
        "\n",
        "sns.barplot(data=df_28, x='RFM_label', y='RFM_score', hue='gender', ax=axes[1], color='lightcoral')\n",
        "axes[1].set_title(\"Cohort Index 3 (28.8%) - October\")\n",
        "axes[1].set_ylabel(\"\")\n",
        "axes[1].set_xlabel(\"2024-07 Cohort Group\")\n",
        "\n",
        "plt.tight_layout()\n",
        "plt.show()"
      ],
      "metadata": {
        "id": "CMxJdoIrfU_j"
      },
      "execution_count": null,
      "outputs": []
    },
    {
      "cell_type": "code",
      "source": [
        "# Box Plot\n",
        "sns.set(style=\"whitegrid\")\n",
        "fig, axes = plt.subplots(nrows=1, ncols=2, figsize=(20, 10), sharey=True)\n",
        "\n",
        "sns.boxplot(data=df_52, x='state', y='profit', hue='RFM_label', ax=axes[0], color='skyblue')\n",
        "axes[0].set_title(\"Cohort Index 2 (52.5%) - September\")\n",
        "axes[0].set_ylabel(\"Profit\")\n",
        "axes[0].set_xlabel(\"2024-07 Cohort Group\")\n",
        "\n",
        "sns.boxplot(data=df_28, x='state', y='profit', hue='RFM_label', ax=axes[1], color='lightcoral')\n",
        "axes[1].set_title(\"Cohort Index 3 (28.8%) - October\")\n",
        "axes[1].set_ylabel(\"\")\n",
        "axes[1].set_xlabel(\"2024-07 Cohort Group\")\n",
        "\n",
        "plt.tight_layout()\n",
        "plt.show()"
      ],
      "metadata": {
        "id": "4IvsBObGhNm4"
      },
      "execution_count": null,
      "outputs": []
    },
    {
      "cell_type": "markdown",
      "source": [
        "### 三個維度： x軸 & y軸 Num, hue\n",
        "- Joint Plot\n",
        "- Point Plot"
      ],
      "metadata": {
        "id": "Lx0dR1kIc3z6"
      }
    },
    {
      "cell_type": "code",
      "source": [
        "# 畫這兩個圖的意義不大"
      ],
      "metadata": {
        "id": "QusuzsbuirnO"
      },
      "execution_count": null,
      "outputs": []
    },
    {
      "cell_type": "markdown",
      "source": [
        "### 多個維度：Cat Plot"
      ],
      "metadata": {
        "id": "K9MXhJ2Gc-oe"
      }
    },
    {
      "cell_type": "code",
      "source": [
        "sns.set(style='whitegrid', palette='pastel')\n",
        "plt.figure(figsize=(20, 10))\n",
        "\n",
        "\n",
        "plot_52 = sns.catplot(x='brand', y='profit', data=df_52, hue='gender', col='RFM_label', row='state',kind='bar')\n",
        "plot_52.set(xlabel=\"brand\",ylabel='profit')\n",
        "for ax in plot_52.axes.flatten():\n",
        "    ax.tick_params(axis='x', rotation=45)\n",
        "\n",
        "plt.show()\n",
        "\n",
        "plot_28 = sns.catplot(x='brand', y='profit', data=df_28, hue='gender', col='RFM_label', row='state',kind='bar')\n",
        "plot_28.set(xlabel=\"brand\",ylabel='profit')\n",
        "for ax in plot_28.axes.flatten():\n",
        "    ax.tick_params(axis='x', rotation=45)\n",
        "\n",
        "plt.show()"
      ],
      "metadata": {
        "id": "GqSLmT8_jLYz"
      },
      "execution_count": null,
      "outputs": []
    },
    {
      "cell_type": "markdown",
      "source": [
        "### 多個Num V維度：Heat Plot"
      ],
      "metadata": {
        "id": "tV5ytIoqdHis"
      }
    },
    {
      "cell_type": "code",
      "source": [
        "df_52[[\"recency_rank\",\"frequency_rank\",\"monetary_rank\"]].corr()\n",
        "df_28[[\"recency_rank\",\"frequency_rank\",\"monetary_rank\"]].corr()"
      ],
      "metadata": {
        "id": "jx-J4-r5lxTH"
      },
      "execution_count": null,
      "outputs": []
    },
    {
      "cell_type": "code",
      "source": [
        "sns.set(style=\"whitegrid\")\n",
        "fig, axes = plt.subplots(nrows=1, ncols=2, figsize=(10, 4), sharey=True)\n",
        "\n",
        "sns.heatmap(df_52[[\"recency_rank\",\"frequency_rank\",\"monetary_rank\"]].corr(), annot=True, ax=axes[0])\n",
        "axes[0].set_title(\"Cohort Index 2 (52.5%) - September\")\n",
        "axes[0].set_xlabel(\"2024-07 Cohort Group\")\n",
        "\n",
        "sns.heatmap(df_28[[\"recency_rank\",\"frequency_rank\",\"monetary_rank\"]].corr(), annot=True, ax=axes[1])\n",
        "axes[1].set_title(\"Cohort Index 3 (28.8%) - October\")\n",
        "axes[1].set_xlabel(\"2024-07 Cohort Group\")\n",
        "\n",
        "plt.tight_layout()\n",
        "plt.show()"
      ],
      "metadata": {
        "id": "ec0MrKCIk6EF"
      },
      "execution_count": null,
      "outputs": []
    }
  ]
}